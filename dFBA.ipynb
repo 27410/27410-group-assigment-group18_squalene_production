{
 "cells": [
  {
   "cell_type": "code",
   "execution_count": 5,
   "id": "185e29d5-3f6f-4b6a-973c-a2bc78ab983b",
   "metadata": {},
   "outputs": [],
   "source": [
    "# packages\n",
    "\n",
    "import numpy as np\n",
    "import cobra\n",
    "from cobra import Reaction, Metabolite, Model"
   ]
  },
  {
   "cell_type": "code",
   "execution_count": 1,
   "id": "7299286a-e3b2-4db5-88b3-428775deed71",
   "metadata": {},
   "outputs": [
    {
     "ename": "ModuleNotFoundError",
     "evalue": "No module named 'dfba'",
     "output_type": "error",
     "traceback": [
      "\u001b[1;31m---------------------------------------------------------------------------\u001b[0m",
      "\u001b[1;31mModuleNotFoundError\u001b[0m                       Traceback (most recent call last)",
      "Input \u001b[1;32mIn [1]\u001b[0m, in \u001b[0;36m<cell line: 5>\u001b[1;34m()\u001b[0m\n\u001b[0;32m      1\u001b[0m \u001b[38;5;28;01mfrom\u001b[39;00m \u001b[38;5;21;01mos\u001b[39;00m\u001b[38;5;21;01m.\u001b[39;00m\u001b[38;5;21;01mpath\u001b[39;00m \u001b[38;5;28;01mimport\u001b[39;00m dirname, join, pardir\n\u001b[0;32m      3\u001b[0m \u001b[38;5;28;01mfrom\u001b[39;00m \u001b[38;5;21;01mcobra\u001b[39;00m\u001b[38;5;21;01m.\u001b[39;00m\u001b[38;5;21;01mio\u001b[39;00m \u001b[38;5;28;01mimport\u001b[39;00m read_sbml_model\n\u001b[1;32m----> 5\u001b[0m \u001b[38;5;28;01mfrom\u001b[39;00m \u001b[38;5;21;01mdfba\u001b[39;00m \u001b[38;5;28;01mimport\u001b[39;00m DfbaModel, ExchangeFlux, KineticVariable\n",
      "\u001b[1;31mModuleNotFoundError\u001b[0m: No module named 'dfba'"
     ]
    }
   ],
   "source": [
    "from os.path import dirname, join, pardir\n",
    "\n",
    "from cobra.io import read_sbml_model\n",
    "\n",
    "from dfba import DfbaModel, ExchangeFlux, KineticVariable"
   ]
  },
  {
   "cell_type": "code",
   "execution_count": 2,
   "id": "acb5ee5c-5edd-4296-a141-a65c2b1ad6b6",
   "metadata": {},
   "outputs": [
    {
     "data": {
      "text/html": [
       "\n",
       "        <table>\n",
       "            <tr>\n",
       "                <td><strong>Name</strong></td>\n",
       "                <td>iJN678</td>\n",
       "            </tr><tr>\n",
       "                <td><strong>Memory address</strong></td>\n",
       "                <td>0x0240229f9670</td>\n",
       "            </tr><tr>\n",
       "                <td><strong>Number of metabolites</strong></td>\n",
       "                <td>795</td>\n",
       "            </tr><tr>\n",
       "                <td><strong>Number of reactions</strong></td>\n",
       "                <td>863</td>\n",
       "            </tr><tr>\n",
       "                <td><strong>Number of groups</strong></td>\n",
       "                <td>0</td>\n",
       "            </tr><tr>\n",
       "                <td><strong>Objective expression</strong></td>\n",
       "                <td>1.0*BIOMASS_Ec_SynHetero - 1.0*BIOMASS_Ec_SynHetero_reverse_5d8af</td>\n",
       "            </tr><tr>\n",
       "                <td><strong>Compartments</strong></td>\n",
       "                <td>cytosol, periplasm, thylakoid, extracellular space</td>\n",
       "            </tr>\n",
       "          </table>"
      ],
      "text/plain": [
       "<Model iJN678 at 0x240229f9670>"
      ]
     },
     "execution_count": 2,
     "metadata": {},
     "output_type": "execute_result"
    }
   ],
   "source": [
    "model = read_sbml_model(\"iJN678.xml\")\n",
    "model"
   ]
  },
  {
   "cell_type": "code",
   "execution_count": 3,
   "id": "4da715a1-ca8d-44c0-9dbd-7ff892e64add",
   "metadata": {},
   "outputs": [
    {
     "name": "stdout",
     "output_type": "stream",
     "text": [
      "Maximize\n",
      "1.0*BIOMASS_Ec_SynHetero - 1.0*BIOMASS_Ec_SynHetero_reverse_5d8af\n"
     ]
    }
   ],
   "source": [
    "print(model.objective)"
   ]
  },
  {
   "cell_type": "code",
   "execution_count": null,
   "id": "daea6fcb-a1f5-478d-ae5a-1a7b4ab5e289",
   "metadata": {},
   "outputs": [],
   "source": [
    "path_to_model = join(pardir, \"sbml-models\", \"iJN678.xml\")\n",
    "fba_model = read_sbml_model(path_to_model)\n",
    "fba_model.solver = \"glpk\"\n",
    "dfba_model = DfbaModel(fba_model)"
   ]
  },
  {
   "cell_type": "code",
   "execution_count": null,
   "id": "81cb8753-c18c-44a5-bea4-6c057f50aa8b",
   "metadata": {},
   "outputs": [],
   "source": [
    "# kynetic variables\n",
    "\n",
    "X = KineticVariable(\"Biomass\")\n",
    "Gluc = KineticVariable(\"Glucose\")\n",
    "Oxy = KineticVariable(\"Oxygen\", initial_condition=0.5)\n",
    "Sql = KineticVariable(\"Squalene\")\n",
    "\n",
    "dfba_model.add_kinetic_variables([X, Gluc, Oxy, Sql])"
   ]
  },
  {
   "cell_type": "code",
   "execution_count": null,
   "id": "12d549e0-a95b-42f0-9d46-c6b76903debf",
   "metadata": {},
   "outputs": [],
   "source": [
    "# exchange fluxes\n",
    "\n",
    "mu = ExchangeFlux(\"BiomassEcoli\")\n",
    "v_G = ExchangeFlux(\"EX_glc(e)\")\n",
    "v_O = ExchangeFlux(\"EX_o2(e)\")\n",
    "v_S = ExchangeFlux(\"Ex_sq(e)\")\n",
    "\n",
    "dfba_model.add_exchange_fluxes([mu, v_G, v_O, v_S])"
   ]
  },
  {
   "cell_type": "code",
   "execution_count": null,
   "id": "ede5ae4f-376f-4c68-9feb-c3e8e084fdca",
   "metadata": {},
   "outputs": [],
   "source": [
    "# Rhs expression\n",
    "\n"
   ]
  },
  {
   "cell_type": "code",
   "execution_count": null,
   "id": "87eba709-5201-4264-9501-dabf5151ffcc",
   "metadata": {},
   "outputs": [],
   "source": [
    "# Lower/Upper bound expressions\n",
    "\n"
   ]
  },
  {
   "cell_type": "code",
   "execution_count": null,
   "id": "338941bd-2d98-4170-af25-6c24af2836fe",
   "metadata": {},
   "outputs": [],
   "source": [
    "# Initial conditions for the model\n",
    "\n",
    "dfba_model.add_initial_conditions(\n",
    "    {\n",
    "        \"Biomass\": 0.03,\n",
    "        \"Glucose\": 15.5,\n",
    "        \"Oxygen\": 0.0,\n",
    "        \"Squalene\": 0.0,\n",
    "    }\n",
    ")\n",
    "concentrations, trajectories = dfba_model.simulate(0.0, 25.0, 0.1, [\"EX_glc(e)\", \"EX_sql(e)\"])"
   ]
  },
  {
   "cell_type": "code",
   "execution_count": null,
   "id": "813a15d2-76f8-4aba-ba73-f7ca05ba7e8b",
   "metadata": {},
   "outputs": [],
   "source": [
    "# plot the results\n",
    "\n",
    "from dfba.plot.plotly import *\n",
    "import plotly.io as pio\n",
    "\n",
    "fig = plot_concentrations(concentrations)\n",
    "fig.show()\n",
    "\n",
    "fig = plot_trajectories(trajectories)\n",
    "fig.show()"
   ]
  }
 ],
 "metadata": {
  "kernelspec": {
   "display_name": "Python 3 (ipykernel)",
   "language": "python",
   "name": "python3"
  },
  "language_info": {
   "codemirror_mode": {
    "name": "ipython",
    "version": 3
   },
   "file_extension": ".py",
   "mimetype": "text/x-python",
   "name": "python",
   "nbconvert_exporter": "python",
   "pygments_lexer": "ipython3",
   "version": "3.9.12"
  }
 },
 "nbformat": 4,
 "nbformat_minor": 5
}
