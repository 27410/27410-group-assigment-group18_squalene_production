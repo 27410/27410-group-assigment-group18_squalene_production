{
 "cells": [
  {
   "cell_type": "code",
   "execution_count": 1,
   "id": "45c64a49",
   "metadata": {},
   "outputs": [],
   "source": [
    "# Packages\n",
    "from cameo.strain_design.heuristic.evolutionary.objective_functions import product_yield\n",
    "from cameo.strain_design.heuristic.evolutionary_based import CofactorSwapOptimization\n",
    "from cobra.io import read_sbml_model, write_sbml_model\n",
    "from cobra import Reaction, Metabolite"
   ]
  },
  {
   "cell_type": "code",
   "execution_count": 3,
   "id": "e3665c75",
   "metadata": {},
   "outputs": [],
   "source": [
    "# Loading of the model\n",
    "model_orig = read_sbml_model('iJN678mma.xml')\n",
    "model = model_orig.copy()"
   ]
  },
  {
   "cell_type": "code",
   "execution_count": 4,
   "id": "6839f45a",
   "metadata": {},
   "outputs": [
    {
     "name": "stdout",
     "output_type": "stream",
     "text": [
      "Max biomass growth: 0.06328458972007817\n",
      "Max squalene production: 0.11155394524959755\n"
     ]
    }
   ],
   "source": [
    "# Calculate max biomass and squalene production\n",
    "with model:\n",
    "    base_max_growth = model.slim_optimize()\n",
    "    print(\"Max biomass growth:\", base_max_growth)\n",
    "    model.objective = model.reactions.SQLS\n",
    "    base_max_production = model.slim_optimize()\n",
    "    print(\"Max squalene production:\", base_max_production)"
   ]
  },
  {
   "cell_type": "code",
   "execution_count": 5,
   "id": "0b023532",
   "metadata": {},
   "outputs": [],
   "source": [
    "model.solver = \"glpk\" # no idea"
   ]
  },
  {
   "cell_type": "code",
   "execution_count": 6,
   "id": "a66ca1fd",
   "metadata": {},
   "outputs": [],
   "source": [
    "# Specify biomass growth rate\n",
    "biomass = model.reactions.BIOMASS_Ec_SynAuto.lower_bound = 0.04859441594166733\n",
    "# Specify model objective towards squalene biosynthesis\n",
    "demand = model.reactions.get_by_id(\"SQLS\")\n",
    "model.objective = demand"
   ]
  },
  {
   "cell_type": "code",
   "execution_count": 10,
   "id": "ccd2896f",
   "metadata": {},
   "outputs": [
    {
     "name": "stdout",
     "output_type": "stream",
     "text": [
      "Max biomass growth: 0.022158756023818647\n",
      "Max squalene production: 0.022158756023818647\n"
     ]
    }
   ],
   "source": [
    "# Max biomass and squalene production after objective change\n",
    "with model:\n",
    "    base_max_growth = model.slim_optimize()\n",
    "    print(\"Max biomass growth:\", base_max_growth)\n",
    "    model.objective = model.reactions.SQLS\n",
    "    base_max_production = model.slim_optimize()\n",
    "    print(\"Max squalene production:\", base_max_production)"
   ]
  },
  {
   "cell_type": "code",
   "execution_count": 12,
   "id": "fe61def4",
   "metadata": {
    "scrolled": true
   },
   "outputs": [],
   "source": [
    "# State the product yield calculation\n",
    "py = product_yield(model.reactions.SQLS, model.reactions.EX_co2_e)\n",
    "#py = product_yield(model.reactions.SQLS, model.reactions.EX_glc__D_e)\n",
    "#py = product_yield(model.reactions.SQLS, model.reactions.BIOMASS_Ec_SynAuto)"
   ]
  },
  {
   "cell_type": "markdown",
   "id": "e37e226b",
   "metadata": {},
   "source": [
    "If needed, you can set different co-factor pairs by adding the parameter **cofactor_id_swaps=([from], [to])** which requires the metabolite identifiers in the model of the pairs that you want to swap.\n",
    "\n",
    "Determine the co-factors in our model:\n",
    "\n",
    "- NADH   = nadh_c\n",
    "- NAD+   = nad_c\n",
    "- NADPH  = nadph_c\n",
    "- NADP+  = nadp_c"
   ]
  },
  {
   "cell_type": "code",
   "execution_count": null,
   "id": "90a482d8",
   "metadata": {},
   "outputs": [],
   "source": [
    "# To swap NADPH to NADH, add \"cofactor_id_swaps=(['nad_c', 'nadh_c'], ['nadp_c', 'nadph_c'])\" \n",
    "# inside the \"CofactorSwapOptimization()\"\n",
    "\n",
    "#optswap = CofactorSwapOptimization(model=model, objective_function=py, plot=True, cofactor_id_swaps=(['nad_c', 'nadh_c'], ['nadp_c', 'nadph_c']))\n",
    "optswap = CofactorSwapOptimization(model = model, objective_function = py)"
   ]
  },
  {
   "cell_type": "code",
   "execution_count": null,
   "id": "fe2bbe56",
   "metadata": {},
   "outputs": [],
   "source": [
    "# Record possible co-factor swap targets and how long it takes to determine them\n",
    "%%time\n",
    "result = optswap.run(max_size=5)\n",
    "result"
   ]
  },
  {
   "cell_type": "markdown",
   "id": "bf4e8bfe",
   "metadata": {},
   "source": [
    "# Playing with co-factor swap targets"
   ]
  },
  {
   "cell_type": "code",
   "execution_count": null,
   "id": "51e8e1eb",
   "metadata": {
    "scrolled": false
   },
   "outputs": [],
   "source": [
    "# Summary of some of the tested co-factor targets which had negative\n",
    "# and positive influence on the biomass and squalene production\n",
    "\n",
    "# NEGATIVE IMPROVEMENTS\n",
    "#model.reactions.GLYCL\n",
    "#model.reactions.ICDHyr\n",
    "#model.reactions.DHDPRy\n",
    "#model.reactions.SHK3Dr\n",
    "#model.reactions.MDH\n",
    "#model.reactions.ASAD\n",
    "\n",
    "# POSITIVE IMPROVEMENTS\n",
    "#model.reactions.GAPD\n",
    "#model.reactions.FNOR\n",
    "#model.reactions.EAR120y\n",
    "#model.reactions.EAR60y"
   ]
  },
  {
   "cell_type": "markdown",
   "id": "c1ff6c1a",
   "metadata": {},
   "source": [
    "# Positive improvements"
   ]
  },
  {
   "cell_type": "code",
   "execution_count": 13,
   "id": "1b7ef22f",
   "metadata": {},
   "outputs": [],
   "source": [
    "# Implement the jupyter notebook containing all positive co-factor swap targets \n",
    "%run CofSwap.ipynb "
   ]
  },
  {
   "cell_type": "markdown",
   "id": "0e9e29ab",
   "metadata": {},
   "source": [
    "# Check the swap effect"
   ]
  },
  {
   "cell_type": "code",
   "execution_count": 14,
   "id": "f8553308",
   "metadata": {},
   "outputs": [
    {
     "name": "stdout",
     "output_type": "stream",
     "text": [
      "0.02254698645103219\n",
      "0.02254698645103219\n"
     ]
    }
   ],
   "source": [
    "# Max biomass and squalene production after objective change\n",
    "with model:\n",
    "    swap_max_growth = model.slim_optimize()\n",
    "    print(\"Max biomass growth:\", swap_max_growth)\n",
    "    model.objective = model.reactions.SQLS\n",
    "    swap_max_production = model.slim_optimize()\n",
    "    print(\"Max squalene production:\", swap_max_production)"
   ]
  },
  {
   "cell_type": "code",
   "execution_count": 17,
   "id": "46dcc496",
   "metadata": {},
   "outputs": [
    {
     "name": "stdout",
     "output_type": "stream",
     "text": [
      "Change in max growth: 1.75 %\n",
      "Change in max production: 1.75 %\n"
     ]
    }
   ],
   "source": [
    "# Calcualte the percentage change in max biomass growth and squalene production\n",
    "print(\"Change in max growth:\", round((swap_max_growth-(base_max_growth))/(base_max_growth) * 100, 2), \"%\")\n",
    "print(\"Change in max production:\", round((swap_max_production-(base_max_production))/(base_max_production) * 100, 2), \"%\")"
   ]
  }
 ],
 "metadata": {
  "kernelspec": {
   "display_name": "Python 3 (ipykernel)",
   "language": "python",
   "name": "python3"
  },
  "language_info": {
   "codemirror_mode": {
    "name": "ipython",
    "version": 3
   },
   "file_extension": ".py",
   "mimetype": "text/x-python",
   "name": "python",
   "nbconvert_exporter": "python",
   "pygments_lexer": "ipython3",
   "version": "3.8.10"
  }
 },
 "nbformat": 4,
 "nbformat_minor": 5
}
