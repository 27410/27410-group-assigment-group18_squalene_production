{
 "cells": [
  {
   "cell_type": "markdown",
   "id": "5728545d",
   "metadata": {},
   "source": [
    "# Negative improvements"
   ]
  },
  {
   "cell_type": "code",
   "execution_count": null,
   "id": "9cbd8d0b",
   "metadata": {},
   "outputs": [],
   "source": [
    "# Defining the reactions\n",
    "reactionhe = Reaction('R00112') # nadph_c + nad_c <=> nadp_c + nadh_c\n",
    "reactionhe.name = 'NADPH:NAD+ oxidoreductase'\n",
    "#reactionswp.lower_bound = -1000.0  # Set as a default\n",
    "#reactionswp.upper_bound = 1000.0  # Set as a default\n",
    "\n",
    "# Adding the metabolites to the reaction\n",
    "reactionhe.add_metabolites({\n",
    "    model.metabolites.get_by_id(\"nadph_c\"): -1,\n",
    "    model.metabolites.get_by_id(\"nad_c\"): -1,\n",
    "    model.metabolites.get_by_id(\"nadp_c\"): 1,\n",
    "    model.metabolites.get_by_id(\"nadh_c\"): 1,\n",
    "})\n",
    "\n",
    "reactionhe.reaction # This gives a string representation of the reaction \n",
    "\n",
    "# Adding the genes of the reactions\n",
    "reactionhe.gene_reaction_rule = '( udh_a )'\n",
    "\n",
    "# Adding the reactions to the model\n",
    "model.add_reactions([reactionhe])\n",
    "model.reactions.R00112.bounds = -1000.0, 1000.0"
   ]
  },
  {
   "cell_type": "markdown",
   "id": "1434e479",
   "metadata": {},
   "source": [
    "-----"
   ]
  },
  {
   "cell_type": "code",
   "execution_count": null,
   "id": "22c58c37",
   "metadata": {},
   "outputs": [],
   "source": [
    "# Defining the reactions\n",
    "reactionswp = Reaction('MDH_swap') # g3p_c + nad_c + pi_c --> 13dpg_c + h_c + nadh_c\n",
    "reactionswp.name = 'Malate dehydrogenase (NADP)'\n",
    "#reactionswp.lower_bound = -1000.0  # Set as a default\n",
    "#reactionswp.upper_bound = 1000.0  # Set as a default\n",
    "\n",
    "# Adding the metabolites to the reaction\n",
    "reactionswp.add_metabolites({\n",
    "    model.metabolites.get_by_id(\"mal__L_c\"): -1,\n",
    "    model.metabolites.get_by_id(\"nad_c\"): -1, # co-factor swap\n",
    "    model.metabolites.get_by_id(\"oaa_c\"): 1,\n",
    "    model.metabolites.get_by_id(\"h_c\"): 1,\n",
    "    model.metabolites.get_by_id(\"nadph_c\"): 1 # co-factor swap\n",
    "})\n",
    "\n",
    "reactionswp.reaction # This gives a string representation of the reaction \n",
    "\n",
    "# Adding the genes of the reactions\n",
    "reactionswp.gene_reaction_rule = '( citH_swp )'\n",
    "\n",
    "# Adding the reactions to the model\n",
    "model.add_reactions([reactionswp])\n",
    "model.reactions.MDH_swap.bounds = -1000.0, 1000.0"
   ]
  },
  {
   "cell_type": "code",
   "execution_count": null,
   "id": "8762c6b5",
   "metadata": {},
   "outputs": [],
   "source": [
    "# Defining the reactions\n",
    "reactionswp = Reaction('GLYCL_swap') # gly_c + nad_c + thf_c --> co2_c + mlthf_c + nadh_c + nh4_c\n",
    "reactionswp.name = 'Glycine Cleavage System (NADP)'\n",
    "#reactionswp.lower_bound = 0.  # Set as a default\n",
    "#reactionswp.upper_bound = 1000.  # Set as a default\n",
    "\n",
    "# Adding the metabolites to the reaction\n",
    "reactionswp.add_metabolites({\n",
    "    model.metabolites.get_by_id(\"gly_c\"): -1,\n",
    "    model.metabolites.get_by_id(\"thf_c\"): -1, \n",
    "    model.metabolites.get_by_id(\"nadp_c\"): -1, # co-factor swap\n",
    "    model.metabolites.get_by_id(\"co2_c\"): 1,\n",
    "    model.metabolites.get_by_id(\"mlthf_c\"): 1,\n",
    "    model.metabolites.get_by_id(\"nh4_c\"): 1,\n",
    "    model.metabolites.get_by_id(\"nadph_c\"): 1 # co-factor swap\n",
    "})\n",
    "\n",
    "reactionswp.reaction # This gives a string representation of the reaction \n",
    "\n",
    "# Adding the genes of the reactions\n",
    "reactionswp.gene_reaction_rule = '( gcvP_swp and gcvT_swp and gcvH_swp and phdD_swp )'\n",
    "\n",
    "# Adding the reactions to the model\n",
    "model.add_reactions([reactionswp])\n",
    "model.reactions.GLYCL_swap.bounds = 0.0, 1000.0"
   ]
  },
  {
   "cell_type": "code",
   "execution_count": null,
   "id": "38f2073f",
   "metadata": {},
   "outputs": [],
   "source": [
    "# Defining the reactions\n",
    "reactionswp = Reaction('SHK3Dr_swap') # 23dhdp_c + h_c + nadph_c --> nadp_c + thdp_c\n",
    "reactionswp.name = 'Shikimate dehydrogenase (NADH)'\n",
    "#reactionswp.lower_bound = 0.  # Set as a default\n",
    "#reactionswp.upper_bound = 1000.  # Set as a default\n",
    "\n",
    "# Adding the metabolites to the reaction\n",
    "reactionswp.add_metabolites({\n",
    "    model.metabolites.get_by_id(\"3dhsk_c\"): -1,\n",
    "    model.metabolites.get_by_id(\"h_c\"): -1, \n",
    "    model.metabolites.get_by_id(\"nadh_c\"): -1, # co-factor swap\n",
    "    model.metabolites.get_by_id(\"skm_c\"): 1,\n",
    "    model.metabolites.get_by_id(\"nad_c\"): 1 # co-factor swap\n",
    "})\n",
    "\n",
    "reactionswp.reaction # This gives a string representation of the reaction \n",
    "\n",
    "# Adding the genes of the reactions\n",
    "reactionswp.gene_reaction_rule = '( aroE_swp )'\n",
    "\n",
    "# Adding the reactions to the model\n",
    "model.add_reactions([reactionswp])\n",
    "model.reactions.SHK3Dr_swap.bounds = 0.0, 1000.0"
   ]
  },
  {
   "cell_type": "code",
   "execution_count": null,
   "id": "44038b10",
   "metadata": {},
   "outputs": [],
   "source": [
    "# Defining the reactions\n",
    "reactionswp = Reaction('DHDPRy_swap') # 23dhdp_c + h_c + nadph_c --> nadp_c + thdp_c\n",
    "reactionswp.name = 'Dihydrodipicolinate reductase (NADPH)'\n",
    "#reactionswp.lower_bound = 0.  # Set as a default\n",
    "#reactionswp.upper_bound = 1000.  # Set as a default\n",
    "\n",
    "# Adding the metabolites to the reaction\n",
    "reactionswp.add_metabolites({\n",
    "    model.metabolites.get_by_id(\"23dhdp_c\"): -1,\n",
    "    model.metabolites.get_by_id(\"nadh_c\"): -1, # co-factor swap\n",
    "    model.metabolites.get_by_id(\"thdp_c\"): 1,\n",
    "    model.metabolites.get_by_id(\"nad_c\"): 1 # co-factor swap\n",
    "})\n",
    "\n",
    "reactionswp.reaction # This gives a string representation of the reaction \n",
    "\n",
    "# Adding the genes of the reactions\n",
    "reactionswp.gene_reaction_rule = '( dapB_swp )'\n",
    "\n",
    "# Adding the reactions to the model\n",
    "model.add_reactions([reactionswp])\n",
    "model.reactions.DHDPRy_swap.bounds = 0.0, 1000.0"
   ]
  },
  {
   "cell_type": "code",
   "execution_count": 57,
   "id": "808a8512",
   "metadata": {},
   "outputs": [],
   "source": [
    "# Defining the reactions\n",
    "reactionswp = Reaction('ICDHyr_swap') # isocitrate [cytoplasm] + NADP(+) [cytoplasm] => 2-oxoglutarate [cytoplasm] + carbon dioxide [cytoplasm] + NADPH [cytoplasm]\n",
    "reactionswp.name = 'Isocitrate dehydrogenase (NAD)'\n",
    "#reactionswp.lower_bound = 0.  # Set as a default\n",
    "#reactionswp.upper_bound = 1000.  # Set as a default\n",
    "\n",
    "# Adding the metabolites to the reaction\n",
    "reactionswp.add_metabolites({\n",
    "    model.metabolites.get_by_id(\"icit_c\"): -1,\n",
    "    model.metabolites.get_by_id(\"nad_c\"): -1, # co-factor swap\n",
    "    model.metabolites.get_by_id(\"akg_c\"): 1,\n",
    "    model.metabolites.get_by_id(\"co2_c\"): 1,\n",
    "    model.metabolites.get_by_id(\"nadh_c\"): 1 # co-factor swap\n",
    "})\n",
    "\n",
    "reactionswp.reaction # This gives a string representation of the reaction \n",
    "\n",
    "# Adding the genes of the reactions\n",
    "reactionswp.gene_reaction_rule = '( icd_swp )'\n",
    "\n",
    "# Adding the reactions to the model\n",
    "model.add_reactions([reactionswp])\n",
    "model.reactions.ICDHyr_swap.bounds = 0.0, 1000.0"
   ]
  },
  {
   "cell_type": "code",
   "execution_count": null,
   "id": "f5107768",
   "metadata": {},
   "outputs": [],
   "source": [
    "model.reactions.ICDHyr_swap\n",
    "model.reactions.ICDHyr.knock_out()\n",
    "model.reactions.ICDHyr"
   ]
  }
 ],
 "metadata": {
  "kernelspec": {
   "display_name": "Python 3 (ipykernel)",
   "language": "python",
   "name": "python3"
  },
  "language_info": {
   "codemirror_mode": {
    "name": "ipython",
    "version": 3
   },
   "file_extension": ".py",
   "mimetype": "text/x-python",
   "name": "python",
   "nbconvert_exporter": "python",
   "pygments_lexer": "ipython3",
   "version": "3.8.10"
  }
 },
 "nbformat": 4,
 "nbformat_minor": 5
}
