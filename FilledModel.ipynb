{
 "cells": [
  {
   "cell_type": "code",
   "execution_count": 7,
   "id": "a4fa7049-88ec-4f67-af04-ded775ce525b",
   "metadata": {},
   "outputs": [],
   "source": [
    "#Packages\n",
    "import cobra\n",
    "from cobra import Reaction, Metabolite, Model\n",
    "from cobra.io import read_sbml_model\n",
    "\n",
    "#Model input\n",
    "model=read_sbml_model('iJN678.xml')"
   ]
  },
  {
   "cell_type": "code",
   "execution_count": 14,
   "id": "bf18f842-3615-42dd-aeb7-3e5fca0a4bc0",
   "metadata": {},
   "outputs": [],
   "source": [
    "reaction = Reaction('R_SQL1')\n",
    "reaction.name = 'Diploptene aminotransferase'\n",
    "reaction.subsystem = 'Hopene Biosynthesis'\n",
    "reaction.lower_bound = 0.  # This is the default\n",
    "reaction.upper_bound = 1000.  # This is the default\n",
    "\n",
    "ahop_c = Metabolite(\n",
    "    'ahop_c',\n",
    "    #formula='C11H21N2O7PRS',\n",
    "    name='Adenosylhopane',\n",
    "    compartment='c')\n",
    "\n",
    "reaction.add_metabolites({\n",
    "    model.metabolites.get_by_id('dptne_c'): -1,\n",
    "    model.metabolites.get_by_id('amet_c'): -1,\n",
    "    model.metabolites.get_by_id('fdxrd_c'): -1,\n",
    "    ahop_c: 1,\n",
    "    model.metabolites.get_by_id('met__L_c'): 1,\n",
    "    model.metabolites.get_by_id('fdxo_2_2_c'):1\n",
    "})\n",
    "\n",
    "reaction.reaction \n",
    "\n",
    "reaction.gene_reaction_rule = '( G_SQL1 )'\n",
    "\n",
    "model.add_reactions([reaction])"
   ]
  },
  {
   "cell_type": "code",
   "execution_count": 15,
   "id": "1160185b-c93e-4e72-bc60-5538c0248740",
   "metadata": {},
   "outputs": [],
   "source": [
    "reaction = Reaction('R_SQL2')\n",
    "reaction.name = 'Ribosylhopane synthase'\n",
    "reaction.subsystem = 'Hopene Biosynthesis'\n",
    "reaction.lower_bound = 0.  # This is the default\n",
    "reaction.upper_bound = 1000.  # This is the default\n",
    "\n",
    "rhop_c = Metabolite(\n",
    "    'rhop_c',\n",
    "    #formula='C11H21N2O7PRS',\n",
    "    name='Ribosylhopane',\n",
    "    compartment='c')\n",
    "\n",
    "reaction.add_metabolites({\n",
    "    model.metabolites.get_by_id('ahop_c'): -1,\n",
    "    model.metabolites.get_by_id('h2o_c'): -1,\n",
    "    rhop_c: 1,\n",
    "    model.metabolites.get_by_id('ade_c'): 1,\n",
    "})\n",
    "\n",
    "reaction.reaction \n",
    "\n",
    "reaction.gene_reaction_rule = '( G_SQL2 )'\n",
    "\n",
    "model.add_reactions([reaction])"
   ]
  },
  {
   "cell_type": "code",
   "execution_count": 16,
   "id": "bd5abe13-211c-480b-99fe-35433f816d57",
   "metadata": {},
   "outputs": [],
   "source": [
    "reaction = Reaction('R_SQL3')\n",
    "reaction.name = 'Aminobacteriohopanetriol synthase'\n",
    "reaction.subsystem = 'Hopene Biosynthesis'\n",
    "reaction.lower_bound = 0.  # This is the default\n",
    "reaction.upper_bound = 1000.  # This is the default\n",
    "\n",
    "abhop_c = Metabolite(\n",
    "    'abhop_c',\n",
    "    #formula='C11H21N2O7PRS',\n",
    "    name='Aminobacteriohopanetriol',\n",
    "    compartment='c')\n",
    "\n",
    "reaction.add_metabolites({\n",
    "    model.metabolites.get_by_id('rhop_c'): -1,\n",
    "    model.metabolites.get_by_id('glu__L_c'): -1,\n",
    "    abhop_c: 1,\n",
    "    model.metabolites.get_by_id('akg_c'): 1,\n",
    "})\n",
    "\n",
    "reaction.reaction \n",
    "\n",
    "reaction.gene_reaction_rule = '( G_SQL3 )'\n",
    "\n",
    "model.add_reactions([reaction])"
   ]
  },
  {
   "cell_type": "code",
   "execution_count": 17,
   "id": "9849668e-ee09-40fa-b7ec-b48413377d1b",
   "metadata": {},
   "outputs": [],
   "source": [
    "reaction = Reaction('R_SQL4')\n",
    "reaction.name = 'Bacteriohopanetetrol-acetylglucosamine syntethase'\n",
    "reaction.subsystem = 'Hopene Biosynthesis'\n",
    "reaction.lower_bound = 0.  # This is the default\n",
    "reaction.upper_bound = 1000.  # This is the default\n",
    "\n",
    "agbhop_c = Metabolite(\n",
    "    'agbhop_c',\n",
    "    #formula='C11H21N2O7PRS',\n",
    "    name='Bacteriohopanetetrol-acetylglucosamine',\n",
    "    compartment='c')\n",
    "\n",
    "reaction.add_metabolites({\n",
    "    model.metabolites.get_by_id('rhop_c'): -1,\n",
    "    model.metabolites.get_by_id('uacgam_c'): -1,\n",
    "    agbhop_c: 1,\n",
    "    model.metabolites.get_by_id('udp_c'): 1,\n",
    "})\n",
    "\n",
    "reaction.reaction \n",
    "\n",
    "reaction.gene_reaction_rule = '( G_SQL4 )'\n",
    "\n",
    "model.add_reactions([reaction])"
   ]
  },
  {
   "cell_type": "code",
   "execution_count": 18,
   "id": "d7c446ea-9d14-413d-a8a7-1534e138a606",
   "metadata": {},
   "outputs": [],
   "source": [
    "reaction = Reaction('R_SQL5')\n",
    "reaction.name = 'Bacteriohopanetetrol acetyltransferase'\n",
    "reaction.subsystem = 'Hopene Biosynthesis'\n",
    "reaction.lower_bound = 0.  # This is the default\n",
    "reaction.upper_bound = 1000.  # This is the default\n",
    "\n",
    "gbhop_c = Metabolite(\n",
    "    'gbhop_c',\n",
    "    #formula='C11H21N2O7PRS',\n",
    "    name='Bacteriohopanetetrol-glucosamine',\n",
    "    compartment='c')\n",
    "\n",
    "reaction.add_metabolites({\n",
    "    model.metabolites.get_by_id('agbhop_c'): -1,\n",
    "    model.metabolites.get_by_id('h2o_c'): -1,\n",
    "    gbhop_c: 1,\n",
    "    model.metabolites.get_by_id('ac_c'): 1,\n",
    "})\n",
    "\n",
    "reaction.reaction \n",
    "\n",
    "reaction.gene_reaction_rule = '( G_SQL5 )'\n",
    "\n",
    "model.add_reactions([reaction])"
   ]
  },
  {
   "cell_type": "code",
   "execution_count": 23,
   "id": "7c4d6bb9-f1a5-44bf-ac8f-69b30a1b826e",
   "metadata": {},
   "outputs": [
    {
     "name": "stdout",
     "output_type": "stream",
     "text": [
      "(<Model iJN678 at 0x21f9738ecd0>, {'SBML_FATAL': [], 'SBML_ERROR': [], 'SBML_SCHEMA_ERROR': [], 'SBML_WARNING': [], 'COBRA_FATAL': [], 'COBRA_ERROR': [], 'COBRA_WARNING': [], 'COBRA_CHECK': []})\n"
     ]
    }
   ],
   "source": [
    "from cobra.io import write_sbml_model, validate_sbml_model\n",
    "write_sbml_model(model, filename='iJN678mod.xml')\n",
    "report = validate_sbml_model(filename='iJN678mod.xml')\n",
    "\n",
    "print(report)"
   ]
  },
  {
   "cell_type": "code",
   "execution_count": null,
   "id": "980d4039-886f-43ad-9e4c-e7ac1a48bc0a",
   "metadata": {},
   "outputs": [],
   "source": []
  }
 ],
 "metadata": {
  "kernelspec": {
   "display_name": "Python 3 (ipykernel)",
   "language": "python",
   "name": "python3"
  },
  "language_info": {
   "codemirror_mode": {
    "name": "ipython",
    "version": 3
   },
   "file_extension": ".py",
   "mimetype": "text/x-python",
   "name": "python",
   "nbconvert_exporter": "python",
   "pygments_lexer": "ipython3",
   "version": "3.9.12"
  }
 },
 "nbformat": 4,
 "nbformat_minor": 5
}
