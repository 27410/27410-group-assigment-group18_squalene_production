{
 "cells": [
  {
   "cell_type": "code",
   "execution_count": 1,
   "id": "fbc76adc-475c-4870-8aad-a9b430a58a74",
   "metadata": {},
   "outputs": [
    {
     "name": "stdout",
     "output_type": "stream",
     "text": [
      "Restricted license - for non-production use only - expires 2024-10-28\n"
     ]
    },
    {
     "data": {
      "text/html": [
       "\n",
       "        <table>\n",
       "            <tr>\n",
       "                <td><strong>Reaction identifier</strong></td><td>EX_sql_e</td>\n",
       "            </tr><tr>\n",
       "                <td><strong>Name</strong></td><td>Squalene exchange</td>\n",
       "            </tr><tr>\n",
       "                <td><strong>Memory address</strong></td>\n",
       "                <td>0x25e2e803ac0</td>\n",
       "            </tr><tr>\n",
       "                <td><strong>Stoichiometry</strong></td>\n",
       "                <td>\n",
       "                    <p style='text-align:right'>sql_e --></p>\n",
       "                    <p style='text-align:right'>Squalene extracellular --></p>\n",
       "                </td>\n",
       "            </tr><tr>\n",
       "                <td><strong>GPR</strong></td><td></td>\n",
       "            </tr><tr>\n",
       "                <td><strong>Lower bound</strong></td><td>0.0</td>\n",
       "            </tr><tr>\n",
       "                <td><strong>Upper bound</strong></td><td>1000.0</td>\n",
       "            </tr>\n",
       "        </table>\n",
       "        "
      ],
      "text/plain": [
       "<Reaction EX_sql_e at 0x25e2e803ac0>"
      ]
     },
     "execution_count": 1,
     "metadata": {},
     "output_type": "execute_result"
    }
   ],
   "source": [
    "#Packages\n",
    "import cobra\n",
    "from cobra.io import read_sbml_model\n",
    "\n",
    "#Model input\n",
    "model=read_sbml_model('iJN678.xml')\n",
    "modelM=read_sbml_model('iJN678mod.xml')\n",
    "\n",
    "\n",
    "#Gene KO\n",
    "#cobra.manipulation.knock_out_model_genes(modelKO, [\"shc\"])\n",
    "modelM.reactions.get_by_id(\"EX_sql_e\")"
   ]
  },
  {
   "cell_type": "code",
   "execution_count": 2,
   "id": "085751b1-ee61-4f42-bd57-755572676306",
   "metadata": {},
   "outputs": [
    {
     "data": {
      "text/plain": [
       "{'EX_photon_e': 54.5,\n",
       " 'EX_ca2_e': 1000.0,\n",
       " 'EX_cobalt2_e': 1000.0,\n",
       " 'EX_ni2_e': 1000.0,\n",
       " 'EX_h_e': 1000.0,\n",
       " 'EX_h2o_e': 1000.0,\n",
       " 'EX_o2_e': 1000.0,\n",
       " 'EX_co2_e': 3.7,\n",
       " 'EX_no3_e': 1000.0,\n",
       " 'EX_k_e': 1000.0,\n",
       " 'EX_so4_e': 1000.0,\n",
       " 'EX_pi_e': 1000.0,\n",
       " 'EX_mobd_e': 1000.0,\n",
       " 'EX_fe3_e': 1000.0,\n",
       " 'EX_fe2_e': 1000.0,\n",
       " 'EX_na1_e': 1000.0,\n",
       " 'EX_mn2_e': 1000.0,\n",
       " 'EX_mg2_e': 1000.0,\n",
       " 'EX_cu2_e': 1000.0,\n",
       " 'EX_zn2_e': 1000.0}"
      ]
     },
     "execution_count": 2,
     "metadata": {},
     "output_type": "execute_result"
    }
   ],
   "source": [
    "#Setting medium for autotrophic (CO2 as carbon source)\n",
    "\n",
    "##Model\n",
    "co2=model.reactions.get_by_id(\"EX_co2_e\")\n",
    "photon=model.reactions.get_by_id(\"EX_photon_e\")\n",
    "hco3=model.reactions.get_by_id(\"EX_hco3_e\")\n",
    "\n",
    "co2.bounds=(-3.7,1000.0)\n",
    "hco3.bounds= (-3.7,1000.0)\n",
    "photon.bounds= (-100,0)\n",
    "\n",
    "medium = model.medium\n",
    "medium[\"EX_glc__D_e\"] = 0.0\n",
    "medium[\"EX_hco3_e\"] = 0.0\n",
    "medium[\"EX_photon_e\"]=54.5\n",
    "model.medium = medium\n",
    "\n",
    "##ModelKO\n",
    "co2KO=modelM.reactions.get_by_id(\"EX_co2_e\")\n",
    "photonKO=modelM.reactions.get_by_id(\"EX_photon_e\")\n",
    "hco3KO=modelM.reactions.get_by_id(\"EX_hco3_e\")\n",
    "\n",
    "co2KO.bounds=(-3.7,1000.0)\n",
    "hco3KO.bounds= (-3.7,1000.0)\n",
    "photonKO.bounds= (-100,0)\n",
    "\n",
    "mediumKO = modelM.medium\n",
    "mediumKO[\"EX_glc__D_e\"] = 0.0\n",
    "mediumKO[\"EX_hco3_e\"] = 0.0\n",
    "mediumKO[\"EX_photon_e\"]=54.5\n",
    "modelM.medium = mediumKO\n",
    "\n",
    "modelM.medium"
   ]
  },
  {
   "cell_type": "code",
   "execution_count": 3,
   "id": "5ff60d59-3fd6-4749-b790-aed36d5cc17b",
   "metadata": {},
   "outputs": [
    {
     "data": {
      "text/html": [
       "<strong><em>Optimal</em> solution with objective value 0.123</strong><br><div>\n",
       "<style scoped>\n",
       "    .dataframe tbody tr th:only-of-type {\n",
       "        vertical-align: middle;\n",
       "    }\n",
       "\n",
       "    .dataframe tbody tr th {\n",
       "        vertical-align: top;\n",
       "    }\n",
       "\n",
       "    .dataframe thead th {\n",
       "        text-align: right;\n",
       "    }\n",
       "</style>\n",
       "<table border=\"1\" class=\"dataframe\">\n",
       "  <thead>\n",
       "    <tr style=\"text-align: right;\">\n",
       "      <th></th>\n",
       "      <th>fluxes</th>\n",
       "      <th>reduced_costs</th>\n",
       "    </tr>\n",
       "  </thead>\n",
       "  <tbody>\n",
       "    <tr>\n",
       "      <th>EX_ac_e</th>\n",
       "      <td>0.000000</td>\n",
       "      <td>-1.333333e-01</td>\n",
       "    </tr>\n",
       "    <tr>\n",
       "      <th>34DHOXPEGOX</th>\n",
       "      <td>0.000000</td>\n",
       "      <td>0.000000e+00</td>\n",
       "    </tr>\n",
       "    <tr>\n",
       "      <th>EX_photon_e</th>\n",
       "      <td>-54.500000</td>\n",
       "      <td>0.000000e+00</td>\n",
       "    </tr>\n",
       "    <tr>\n",
       "      <th>34HPPOR</th>\n",
       "      <td>0.000000</td>\n",
       "      <td>0.000000e+00</td>\n",
       "    </tr>\n",
       "    <tr>\n",
       "      <th>EX_ca2_e</th>\n",
       "      <td>0.000000</td>\n",
       "      <td>0.000000e+00</td>\n",
       "    </tr>\n",
       "    <tr>\n",
       "      <th>...</th>\n",
       "      <td>...</td>\n",
       "      <td>...</td>\n",
       "    </tr>\n",
       "    <tr>\n",
       "      <th>PHETA1</th>\n",
       "      <td>0.000000</td>\n",
       "      <td>-0.000000e+00</td>\n",
       "    </tr>\n",
       "    <tr>\n",
       "      <th>ORNTAC</th>\n",
       "      <td>0.000000</td>\n",
       "      <td>-2.775558e-17</td>\n",
       "    </tr>\n",
       "    <tr>\n",
       "      <th>ABTA</th>\n",
       "      <td>0.000000</td>\n",
       "      <td>-5.551115e-17</td>\n",
       "    </tr>\n",
       "    <tr>\n",
       "      <th>R_SQLt</th>\n",
       "      <td>0.123333</td>\n",
       "      <td>0.000000e+00</td>\n",
       "    </tr>\n",
       "    <tr>\n",
       "      <th>EX_sql_e</th>\n",
       "      <td>0.123333</td>\n",
       "      <td>0.000000e+00</td>\n",
       "    </tr>\n",
       "  </tbody>\n",
       "</table>\n",
       "<p>865 rows × 2 columns</p>\n",
       "</div>"
      ],
      "text/plain": [
       "<Solution 0.123 at 0x25e2e9ff460>"
      ]
     },
     "execution_count": 3,
     "metadata": {},
     "output_type": "execute_result"
    }
   ],
   "source": [
    "modelM.objective=\"EX_sql_e\"\n",
    "modelM.optimize()"
   ]
  },
  {
   "cell_type": "code",
   "execution_count": 4,
   "id": "a510ac31-2d04-4939-ae49-69a00b1236a1",
   "metadata": {},
   "outputs": [
    {
     "data": {
      "text/plain": [
       "0.0"
      ]
     },
     "execution_count": 4,
     "metadata": {},
     "output_type": "execute_result"
    }
   ],
   "source": [
    "modelM.optimize().fluxes[\"BIOMASS_Ec_SynAuto\"]"
   ]
  },
  {
   "cell_type": "code",
   "execution_count": 5,
   "id": "ef840d76-79ea-495a-84f2-0fb7c00e0c21",
   "metadata": {},
   "outputs": [
    {
     "name": "stdout",
     "output_type": "stream",
     "text": [
      "Maximum productivity = 0.09088734490428718 mmol/gDW*h\n",
      "Maximum theoretical yield = 0.024621215156709585 mmol-sql/mmol-co2\n"
     ]
    }
   ],
   "source": [
    "sql_production = model.optimize().objective_value\n",
    "maximum_yield = sql_production / (-1*(model.reactions.EX_co2_e.flux))\n",
    "print('Maximum productivity =', sql_production, 'mmol/gDW*h')\n",
    "print('Maximum theoretical yield =', maximum_yield, 'mmol-sql/mmol-co2')"
   ]
  },
  {
   "cell_type": "code",
   "execution_count": 6,
   "id": "6fae63e3-3de4-46c5-bc34-c1b188c517a4",
   "metadata": {},
   "outputs": [
    {
     "data": {
      "text/plain": [
       "{'EX_photon_e': 54.5,\n",
       " 'EX_ca2_e': 1000.0,\n",
       " 'EX_cobalt2_e': 1000.0,\n",
       " 'EX_ni2_e': 1000.0,\n",
       " 'EX_h_e': 1000.0,\n",
       " 'EX_h2o_e': 1000.0,\n",
       " 'EX_o2_e': 1000.0,\n",
       " 'EX_glc__D_e': 0.39,\n",
       " 'EX_no3_e': 1000.0,\n",
       " 'EX_k_e': 1000.0,\n",
       " 'EX_so4_e': 1000.0,\n",
       " 'EX_pi_e': 1000.0,\n",
       " 'EX_mobd_e': 1000.0,\n",
       " 'EX_fe3_e': 1000.0,\n",
       " 'EX_fe2_e': 1000.0,\n",
       " 'EX_na1_e': 1000.0,\n",
       " 'EX_mn2_e': 1000.0,\n",
       " 'EX_mg2_e': 1000.0,\n",
       " 'EX_cu2_e': 1000.0,\n",
       " 'EX_zn2_e': 1000.0}"
      ]
     },
     "execution_count": 6,
     "metadata": {},
     "output_type": "execute_result"
    }
   ],
   "source": [
    "#Setting medium for mixotrophic\n",
    "\n",
    "##Model\n",
    "co2=model.reactions.get_by_id(\"EX_co2_e\")\n",
    "photon=model.reactions.get_by_id(\"EX_photon_e\")\n",
    "hco3=model.reactions.get_by_id(\"EX_hco3_e\")\n",
    "\n",
    "co2.bounds=(0,1000.0)\n",
    "hco3.bounds= (-3.7,1000.0)\n",
    "photon.bounds= (-100,0)\n",
    "\n",
    "medium = model.medium\n",
    "medium[\"EX_glc__D_e\"] = 0.39\n",
    "medium[\"EX_hco3_e\"] = 0.0\n",
    "medium[\"EX_photon_e\"]=54.5\n",
    "model.medium = medium\n",
    "\n",
    "##ModelKO\n",
    "co2KO=modelM.reactions.get_by_id(\"EX_co2_e\")\n",
    "photonKO=modelM.reactions.get_by_id(\"EX_photon_e\")\n",
    "hco3KO=modelM.reactions.get_by_id(\"EX_hco3_e\")\n",
    "\n",
    "co2KO.bounds=(0,1000.0)\n",
    "hco3KO.bounds= (-3.7,1000.0)\n",
    "photonKO.bounds= (-100,0)\n",
    "\n",
    "mediumKO = modelM.medium\n",
    "mediumKO[\"EX_glc__D_e\"] = 0.39\n",
    "mediumKO[\"EX_hco3_e\"] = 0.0\n",
    "mediumKO[\"EX_photon_e\"]=54.5\n",
    "modelM.medium = mediumKO\n",
    "\n",
    "modelM.medium"
   ]
  },
  {
   "cell_type": "code",
   "execution_count": 7,
   "id": "3a141e74-23c6-4c25-b3e4-caccdfc698a6",
   "metadata": {},
   "outputs": [
    {
     "data": {
      "text/html": [
       "<strong><em>Optimal</em> solution with objective value 0.078</strong><br><div>\n",
       "<style scoped>\n",
       "    .dataframe tbody tr th:only-of-type {\n",
       "        vertical-align: middle;\n",
       "    }\n",
       "\n",
       "    .dataframe tbody tr th {\n",
       "        vertical-align: top;\n",
       "    }\n",
       "\n",
       "    .dataframe thead th {\n",
       "        text-align: right;\n",
       "    }\n",
       "</style>\n",
       "<table border=\"1\" class=\"dataframe\">\n",
       "  <thead>\n",
       "    <tr style=\"text-align: right;\">\n",
       "      <th></th>\n",
       "      <th>fluxes</th>\n",
       "      <th>reduced_costs</th>\n",
       "    </tr>\n",
       "  </thead>\n",
       "  <tbody>\n",
       "    <tr>\n",
       "      <th>EX_ac_e</th>\n",
       "      <td>0.000000</td>\n",
       "      <td>-0.133333</td>\n",
       "    </tr>\n",
       "    <tr>\n",
       "      <th>34DHOXPEGOX</th>\n",
       "      <td>0.000000</td>\n",
       "      <td>0.000000</td>\n",
       "    </tr>\n",
       "    <tr>\n",
       "      <th>EX_photon_e</th>\n",
       "      <td>-7.973333</td>\n",
       "      <td>0.000000</td>\n",
       "    </tr>\n",
       "    <tr>\n",
       "      <th>34HPPOR</th>\n",
       "      <td>0.000000</td>\n",
       "      <td>0.000000</td>\n",
       "    </tr>\n",
       "    <tr>\n",
       "      <th>EX_ca2_e</th>\n",
       "      <td>0.000000</td>\n",
       "      <td>0.000000</td>\n",
       "    </tr>\n",
       "    <tr>\n",
       "      <th>...</th>\n",
       "      <td>...</td>\n",
       "      <td>...</td>\n",
       "    </tr>\n",
       "    <tr>\n",
       "      <th>PHETA1</th>\n",
       "      <td>0.000000</td>\n",
       "      <td>-0.000000</td>\n",
       "    </tr>\n",
       "    <tr>\n",
       "      <th>ORNTAC</th>\n",
       "      <td>0.000000</td>\n",
       "      <td>-0.000000</td>\n",
       "    </tr>\n",
       "    <tr>\n",
       "      <th>ABTA</th>\n",
       "      <td>0.000000</td>\n",
       "      <td>0.000000</td>\n",
       "    </tr>\n",
       "    <tr>\n",
       "      <th>R_SQLt</th>\n",
       "      <td>0.078000</td>\n",
       "      <td>0.000000</td>\n",
       "    </tr>\n",
       "    <tr>\n",
       "      <th>EX_sql_e</th>\n",
       "      <td>0.078000</td>\n",
       "      <td>0.000000</td>\n",
       "    </tr>\n",
       "  </tbody>\n",
       "</table>\n",
       "<p>865 rows × 2 columns</p>\n",
       "</div>"
      ],
      "text/plain": [
       "<Solution 0.078 at 0x25e2ea3bfd0>"
      ]
     },
     "execution_count": 7,
     "metadata": {},
     "output_type": "execute_result"
    }
   ],
   "source": [
    "modelM.objective=\"EX_sql_e\"\n",
    "modelM.optimize()"
   ]
  },
  {
   "cell_type": "code",
   "execution_count": 8,
   "id": "b7bcc3fb-5a08-4908-ab53-435bdc25fae9",
   "metadata": {},
   "outputs": [
    {
     "data": {
      "text/plain": [
       "0.0"
      ]
     },
     "execution_count": 8,
     "metadata": {},
     "output_type": "execute_result"
    }
   ],
   "source": [
    "modelM.optimize().fluxes[\"BIOMASS_Ec_SynMixo\"]"
   ]
  },
  {
   "cell_type": "code",
   "execution_count": 9,
   "id": "2961dd87-e30f-4f82-85cb-99a76e3f98ae",
   "metadata": {},
   "outputs": [
    {
     "name": "stdout",
     "output_type": "stream",
     "text": [
      "Maximum productivity = 0.05761352431144217 mmol/gDW*h\n",
      "Maximum theoretical yield = 0.14772698541395426 mmol-sql/mmol-glc\n"
     ]
    }
   ],
   "source": [
    "sql_production = model.optimize().objective_value\n",
    "maximum_yield = sql_production / (-1*(model.reactions.EX_glc__D_e.flux))\n",
    "print('Maximum productivity =', sql_production, 'mmol/gDW*h')\n",
    "print('Maximum theoretical yield =', maximum_yield, 'mmol-sql/mmol-glc')"
   ]
  },
  {
   "cell_type": "code",
   "execution_count": 10,
   "id": "198f7e79-d4fe-4721-baa7-c664a15a17f9",
   "metadata": {},
   "outputs": [
    {
     "data": {
      "text/plain": [
       "{'EX_ca2_e': 1000.0,\n",
       " 'EX_cobalt2_e': 1000.0,\n",
       " 'EX_ni2_e': 1000.0,\n",
       " 'EX_h_e': 1000.0,\n",
       " 'EX_h2o_e': 1000.0,\n",
       " 'EX_o2_e': 1000.0,\n",
       " 'EX_glc__D_e': 0.85,\n",
       " 'EX_no3_e': 1000.0,\n",
       " 'EX_k_e': 1000.0,\n",
       " 'EX_so4_e': 1000.0,\n",
       " 'EX_pi_e': 1000.0,\n",
       " 'EX_mobd_e': 1000.0,\n",
       " 'EX_fe3_e': 1000.0,\n",
       " 'EX_fe2_e': 1000.0,\n",
       " 'EX_na1_e': 1000.0,\n",
       " 'EX_mn2_e': 1000.0,\n",
       " 'EX_mg2_e': 1000.0,\n",
       " 'EX_cu2_e': 1000.0,\n",
       " 'EX_zn2_e': 1000.0}"
      ]
     },
     "execution_count": 10,
     "metadata": {},
     "output_type": "execute_result"
    }
   ],
   "source": [
    "#Setting medium for heterotrophic\n",
    "\n",
    "##Model\n",
    "co2=model.reactions.get_by_id(\"EX_co2_e\")\n",
    "photon=model.reactions.get_by_id(\"EX_photon_e\")\n",
    "hco3=model.reactions.get_by_id(\"EX_hco3_e\")\n",
    "\n",
    "co2.bounds=(0,1000.0)\n",
    "hco3.bounds= (0,1000.0)\n",
    "photon.bounds= (0,0)\n",
    "\n",
    "medium = model.medium\n",
    "medium[\"EX_glc__D_e\"] = 0.85\n",
    "medium[\"EX_hco3_e\"] = 0.0\n",
    "medium[\"EX_photon_e\"]=0\n",
    "model.medium = medium\n",
    "\n",
    "##ModelKO\n",
    "co2KO=modelM.reactions.get_by_id(\"EX_co2_e\")\n",
    "photonKO=modelM.reactions.get_by_id(\"EX_photon_e\")\n",
    "hco3KO=modelM.reactions.get_by_id(\"EX_hco3_e\")\n",
    "\n",
    "co2KO.bounds=(0,1000.0)\n",
    "hco3KO.bounds= (0,1000.0)\n",
    "photonKO.bounds= (0,0)\n",
    "\n",
    "mediumKO = modelM.medium\n",
    "mediumKO[\"EX_glc__D_e\"] = 0.85\n",
    "mediumKO[\"EX_hco3_e\"] = 0.0\n",
    "mediumKO[\"EX_photon_e\"]=0\n",
    "modelM.medium = mediumKO\n",
    "\n",
    "modelM.medium"
   ]
  },
  {
   "cell_type": "code",
   "execution_count": 11,
   "id": "0912c7f2-89cc-4903-9f82-7590be190a6f",
   "metadata": {},
   "outputs": [
    {
     "data": {
      "text/html": [
       "<strong><em>Optimal</em> solution with objective value 0.107</strong><br><div>\n",
       "<style scoped>\n",
       "    .dataframe tbody tr th:only-of-type {\n",
       "        vertical-align: middle;\n",
       "    }\n",
       "\n",
       "    .dataframe tbody tr th {\n",
       "        vertical-align: top;\n",
       "    }\n",
       "\n",
       "    .dataframe thead th {\n",
       "        text-align: right;\n",
       "    }\n",
       "</style>\n",
       "<table border=\"1\" class=\"dataframe\">\n",
       "  <thead>\n",
       "    <tr style=\"text-align: right;\">\n",
       "      <th></th>\n",
       "      <th>fluxes</th>\n",
       "      <th>reduced_costs</th>\n",
       "    </tr>\n",
       "  </thead>\n",
       "  <tbody>\n",
       "    <tr>\n",
       "      <th>EX_ac_e</th>\n",
       "      <td>0.000000</td>\n",
       "      <td>-6.546443e-02</td>\n",
       "    </tr>\n",
       "    <tr>\n",
       "      <th>34DHOXPEGOX</th>\n",
       "      <td>0.000000</td>\n",
       "      <td>1.734723e-18</td>\n",
       "    </tr>\n",
       "    <tr>\n",
       "      <th>EX_photon_e</th>\n",
       "      <td>0.000000</td>\n",
       "      <td>-8.893281e-03</td>\n",
       "    </tr>\n",
       "    <tr>\n",
       "      <th>34HPPOR</th>\n",
       "      <td>0.000000</td>\n",
       "      <td>0.000000e+00</td>\n",
       "    </tr>\n",
       "    <tr>\n",
       "      <th>EX_ca2_e</th>\n",
       "      <td>0.000000</td>\n",
       "      <td>0.000000e+00</td>\n",
       "    </tr>\n",
       "    <tr>\n",
       "      <th>...</th>\n",
       "      <td>...</td>\n",
       "      <td>...</td>\n",
       "    </tr>\n",
       "    <tr>\n",
       "      <th>PHETA1</th>\n",
       "      <td>0.000000</td>\n",
       "      <td>-0.000000e+00</td>\n",
       "    </tr>\n",
       "    <tr>\n",
       "      <th>ORNTAC</th>\n",
       "      <td>0.000000</td>\n",
       "      <td>-0.000000e+00</td>\n",
       "    </tr>\n",
       "    <tr>\n",
       "      <th>ABTA</th>\n",
       "      <td>0.142052</td>\n",
       "      <td>1.387779e-17</td>\n",
       "    </tr>\n",
       "    <tr>\n",
       "      <th>R_SQLt</th>\n",
       "      <td>0.107405</td>\n",
       "      <td>0.000000e+00</td>\n",
       "    </tr>\n",
       "    <tr>\n",
       "      <th>EX_sql_e</th>\n",
       "      <td>0.107405</td>\n",
       "      <td>0.000000e+00</td>\n",
       "    </tr>\n",
       "  </tbody>\n",
       "</table>\n",
       "<p>865 rows × 2 columns</p>\n",
       "</div>"
      ],
      "text/plain": [
       "<Solution 0.107 at 0x25e2ea4bc10>"
      ]
     },
     "execution_count": 11,
     "metadata": {},
     "output_type": "execute_result"
    }
   ],
   "source": [
    "modelM.objective=\"EX_sql_e\"\n",
    "modelM.optimize()"
   ]
  },
  {
   "cell_type": "code",
   "execution_count": 12,
   "id": "fb926cad-bd54-4344-ba71-6f675c72ed50",
   "metadata": {},
   "outputs": [
    {
     "data": {
      "text/plain": [
       "0.0"
      ]
     },
     "execution_count": 12,
     "metadata": {},
     "output_type": "execute_result"
    }
   ],
   "source": [
    "modelM.optimize().fluxes[\"BIOMASS_Ec_SynHetero\"]"
   ]
  },
  {
   "cell_type": "code",
   "execution_count": 13,
   "id": "668b3f04-4f8b-42ff-a1b2-e154ee5a6b13",
   "metadata": {},
   "outputs": [
    {
     "name": "stdout",
     "output_type": "stream",
     "text": [
      "Maximum productivity = 0.06314983713171096 mmol/gDW*h\n",
      "Maximum theoretical yield = 0.07429392603730701 mmol-sql/mmol-glc\n"
     ]
    }
   ],
   "source": [
    "sql_production = model.optimize().objective_value\n",
    "maximum_yield = sql_production / (-1*(model.reactions.EX_glc__D_e.flux))\n",
    "print('Maximum productivity =', sql_production, 'mmol/gDW*h')\n",
    "print('Maximum theoretical yield =', maximum_yield, 'mmol-sql/mmol-glc')"
   ]
  },
  {
   "cell_type": "code",
   "execution_count": 14,
   "id": "d51f52eb-06f3-42bd-8db6-b0fcb416b173",
   "metadata": {},
   "outputs": [
    {
     "data": {
      "text/plain": [
       "{'EX_ca2_e': 1000.0,\n",
       " 'EX_cobalt2_e': 1000.0,\n",
       " 'EX_ni2_e': 1000.0,\n",
       " 'EX_h_e': 1000.0,\n",
       " 'EX_h2o_e': 1000.0,\n",
       " 'EX_o2_e': 1000.0,\n",
       " 'EX_glc__D_e': 0.85,\n",
       " 'EX_no3_e': 1000.0,\n",
       " 'EX_k_e': 1000.0,\n",
       " 'EX_so4_e': 1000.0,\n",
       " 'EX_pi_e': 1000.0,\n",
       " 'EX_mobd_e': 1000.0,\n",
       " 'EX_fe3_e': 1000.0,\n",
       " 'EX_fe2_e': 1000.0,\n",
       " 'EX_na1_e': 1000.0,\n",
       " 'EX_mn2_e': 1000.0,\n",
       " 'EX_mg2_e': 1000.0,\n",
       " 'EX_cu2_e': 1000.0,\n",
       " 'EX_zn2_e': 1000.0}"
      ]
     },
     "execution_count": 14,
     "metadata": {},
     "output_type": "execute_result"
    }
   ],
   "source": [
    "modelM.medium"
   ]
  },
  {
   "cell_type": "code",
   "execution_count": 15,
   "id": "33ded6ff-a897-40ec-8b08-66894f6d6c09",
   "metadata": {},
   "outputs": [
    {
     "data": {
      "text/plain": [
       "['EX_ac_e',\n",
       " 'EX_cynt_e',\n",
       " 'EX_pyr_e',\n",
       " 'EX_fum_e',\n",
       " 'EX_succ_e',\n",
       " 'EX_cit_e',\n",
       " 'EX_co_e',\n",
       " 'EX_glc__D_e',\n",
       " 'EX_fru_e',\n",
       " 'EX_glu__L_e',\n",
       " 'EX_hco3_e',\n",
       " 'EX_co2_e',\n",
       " 'EX_ala__L_e',\n",
       " 'EX_arg__L_e',\n",
       " 'EX_gly_e',\n",
       " 'EX_gln__L_e',\n",
       " 'EX_his__L_e',\n",
       " 'EX_leu__L_e',\n",
       " 'EX_lys__L_e',\n",
       " 'EX_pro__L_e',\n",
       " 'EX_ser__L_e',\n",
       " 'EX_urea_e',\n",
       " 'EX_akg_e',\n",
       " 'EX_mal__L_e',\n",
       " 'EX_ptrc_e',\n",
       " 'EX_spmd_e',\n",
       " 'EX_glcglyc_e',\n",
       " 'EX_sucr_e']"
      ]
     },
     "execution_count": 15,
     "metadata": {},
     "output_type": "execute_result"
    }
   ],
   "source": [
    "#Production for alternate carbon sources\n",
    "\n",
    "modelM.objective=\"EX_sql_e\"\n",
    "\n",
    "mediumKO = modelM.medium\n",
    "mediumKO[\"EX_glc__D_e\"] = 0\n",
    "modelM.medium = mediumKO\n",
    "\n",
    "EX = []\n",
    "for reaction in model.exchanges:\n",
    "    for metabolite in reaction.metabolites:\n",
    "        if 'C' in metabolite.elements:\n",
    "            EX.append(reaction.id)\n",
    "            \n",
    "EX"
   ]
  },
  {
   "cell_type": "code",
   "execution_count": null,
   "id": "b9665756-0fd0-464c-9449-3088485a54e8",
   "metadata": {},
   "outputs": [],
   "source": [
    "bio=[]\n",
    "sol=[]\n",
    "Y=[]\n",
    "medium = modelM.medium\n",
    "for i in range(len(EX)):\n",
    "    with modelM:\n",
    "        medium['EX_glc__D_e'] = 0 # remove glucose from medium\n",
    "        medium[EX[i]] = 0.85 # add carbon source to medium\n",
    "        modelM.medium = medium\n",
    "        solution = modelM.slim_optimize(error_value=0.)\n",
    "        sql_production = model.optimize().objective_value\n",
    "        maximum_yield = sql_production / (-1*(0.85))\n",
    "        medium[EX[i]]=0.0\n",
    "        if solution > 0:\n",
    "            sol.append(EX[i])\n",
    "            bio.append(solution)\n",
    "            Y.append(maximum_yield)\n",
    "        "
   ]
  },
  {
   "cell_type": "code",
   "execution_count": null,
   "id": "5e00f0d0-b2b4-46cf-9cf7-8e218ebda8d4",
   "metadata": {},
   "outputs": [],
   "source": [
    "sol"
   ]
  },
  {
   "cell_type": "code",
   "execution_count": null,
   "id": "2b6ed338-8884-47fa-8be1-233072eb4946",
   "metadata": {},
   "outputs": [],
   "source": [
    "bio"
   ]
  },
  {
   "cell_type": "code",
   "execution_count": null,
   "id": "ab647415-4e5e-48db-ae4a-dc8dcb853b2f",
   "metadata": {},
   "outputs": [],
   "source": []
  }
 ],
 "metadata": {
  "kernelspec": {
   "display_name": "Python 3 (ipykernel)",
   "language": "python",
   "name": "python3"
  },
  "language_info": {
   "codemirror_mode": {
    "name": "ipython",
    "version": 3
   },
   "file_extension": ".py",
   "mimetype": "text/x-python",
   "name": "python",
   "nbconvert_exporter": "python",
   "pygments_lexer": "ipython3",
   "version": "3.9.12"
  }
 },
 "nbformat": 4,
 "nbformat_minor": 5
}
