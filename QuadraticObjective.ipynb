{
 "cells": [
  {
   "cell_type": "markdown",
   "id": "07b2cd96-05d5-4463-812a-5bd80c5bc249",
   "metadata": {},
   "source": [
    "Similar to the productivity analysis described above, similar results could be obtained by either applying a constrain to the flux of biomass production and squalene production, or define a correlation between the two by using quadratic objective function. The following section shows the process of applying constrains to ensure the ratio between biomass flux and squalene flux to be  "
   ]
  },
  {
   "cell_type": "code",
   "execution_count": 1,
   "id": "d8045a68-7ca8-4bc2-9e59-2ab7988d2d39",
   "metadata": {},
   "outputs": [],
   "source": [
    "#Packages\n",
    "import cobra\n",
    "from cobra import Reaction, Metabolite, Model\n",
    "from cobra.io import read_sbml_model\n",
    "from cobra.flux_analysis import flux_variability_analysis\n",
    "\n",
    "#Model input\n",
    "modelQO=read_sbml_model('iJN678mod.xml')\n",
    "co2QO=modelQO.reactions.get_by_id(\"EX_co2_e\")\n",
    "photonQO=modelQO.reactions.get_by_id(\"EX_photon_e\")\n",
    "hco3QO=modelQO.reactions.get_by_id(\"EX_hco3_e\")\n",
    "\n",
    "co2QO.bounds=(-3.7,1000.0)\n",
    "hco3QO.bounds= (-3.7,1000.0)\n",
    "photonQO.bounds= (-100,0)\n",
    "\n",
    "medium = modelQO.medium\n",
    "medium[\"EX_glc__D_e\"] = 0.0\n",
    "medium[\"EX_hco3_e\"] = 0.0\n",
    "medium[\"EX_photon_e\"]=54.5\n",
    "modelQO.medium = medium\n"
   ]
  },
  {
   "cell_type": "code",
   "execution_count": 2,
   "id": "f172d0f5-1207-463e-a51c-c4ae651c9529",
   "metadata": {},
   "outputs": [
    {
     "name": "stdout",
     "output_type": "stream",
     "text": [
      "0.08835330630568733 0.1233333333333334\n"
     ]
    }
   ],
   "source": [
    "modelQO.objective = \"BIOMASS_Ec_SynAuto\"\n",
    "max_growth_rate = modelQO.optimize().objective_value\n",
    "modelQO.objective = \"EX_sql_e\"\n",
    "max_production_rate = modelQO.optimize().objective_value\n",
    "print (max_growth_rate,max_production_rate)"
   ]
  },
  {
   "cell_type": "code",
   "execution_count": 3,
   "id": "ea97946f-989a-45d7-9c31-009a17731818",
   "metadata": {},
   "outputs": [
    {
     "data": {
      "text/plain": [
       "1.3959107869333285"
      ]
     },
     "execution_count": 3,
     "metadata": {},
     "output_type": "execute_result"
    }
   ],
   "source": [
    "ratio = max_production_rate/max_growth_rate\n",
    "ratio"
   ]
  },
  {
   "cell_type": "code",
   "execution_count": 4,
   "id": "c3585256-4203-4c73-b0da-e8e52e28b04e",
   "metadata": {},
   "outputs": [],
   "source": [
    "same_flux = modelQO.problem.Constraint(\n",
    "    modelQO.reactions.get_by_id('EX_sql_e').flux_expression - ratio* modelQO.reactions.get_by_id(\"BIOMASS_Ec_SynAuto\").flux_expression,\n",
    "    lb=0,\n",
    "    ub=0)\n",
    "modelQO.add_cons_vars(same_flux)"
   ]
  },
  {
   "cell_type": "code",
   "execution_count": null,
   "id": "d214fd48-8df5-412f-8c7d-6c2352b2dcde",
   "metadata": {},
   "outputs": [],
   "source": [
    "#modelQO.solver = 'glpk'\n",
    "#quadratic_objective = modelQO.problem.Objective(1 * modelQO.reactions.get_by_id('EX_sql_e').flux_expression + 1.3959 * modelQO.reactions.get_by_id(\"BIOMASS_Ec_SynAuto\").flux_expression, direction='max')\n"
   ]
  },
  {
   "cell_type": "code",
   "execution_count": 6,
   "id": "60315450-eadf-4424-a52c-30b3de364986",
   "metadata": {},
   "outputs": [
    {
     "data": {
      "text/plain": [
       "0.06166666666666661"
      ]
     },
     "execution_count": 6,
     "metadata": {},
     "output_type": "execute_result"
    }
   ],
   "source": [
    "modelQO.objective = \"EX_sql_e\"\n",
    "modelQO.optimize().objective_value"
   ]
  },
  {
   "cell_type": "code",
   "execution_count": 7,
   "id": "6c89f2a3-6a9b-45bf-888d-14b85d4f4a7c",
   "metadata": {},
   "outputs": [
    {
     "data": {
      "text/html": [
       "<h3>Objective</h3><p>1.0 EX_sql_e = 0.06166666666666661</p><h4>Uptake</h4><table border=\"1\" class=\"dataframe\">\n",
       "  <thead>\n",
       "    <tr style=\"text-align: right;\">\n",
       "      <th>Metabolite</th>\n",
       "      <th>Reaction</th>\n",
       "      <th>Flux</th>\n",
       "      <th>C-Number</th>\n",
       "      <th>C-Flux</th>\n",
       "    </tr>\n",
       "  </thead>\n",
       "  <tbody>\n",
       "    <tr>\n",
       "      <td>ca2_e</td>\n",
       "      <td>EX_ca2_e</td>\n",
       "      <td>0.0001993</td>\n",
       "      <td>0</td>\n",
       "      <td>0.00%</td>\n",
       "    </tr>\n",
       "    <tr>\n",
       "      <td>co2_e</td>\n",
       "      <td>EX_co2_e</td>\n",
       "      <td>3.7</td>\n",
       "      <td>1</td>\n",
       "      <td>100.00%</td>\n",
       "    </tr>\n",
       "    <tr>\n",
       "      <td>cobalt2_e</td>\n",
       "      <td>EX_cobalt2_e</td>\n",
       "      <td>0.0001437</td>\n",
       "      <td>0</td>\n",
       "      <td>0.00%</td>\n",
       "    </tr>\n",
       "    <tr>\n",
       "      <td>cu2_e</td>\n",
       "      <td>EX_cu2_e</td>\n",
       "      <td>0.0001329</td>\n",
       "      <td>0</td>\n",
       "      <td>0.00%</td>\n",
       "    </tr>\n",
       "    <tr>\n",
       "      <td>fe2_e</td>\n",
       "      <td>EX_fe2_e</td>\n",
       "      <td>0.0003307</td>\n",
       "      <td>0</td>\n",
       "      <td>0.00%</td>\n",
       "    </tr>\n",
       "    <tr>\n",
       "      <td>fe3_e</td>\n",
       "      <td>EX_fe3_e</td>\n",
       "      <td>0.0003011</td>\n",
       "      <td>0</td>\n",
       "      <td>0.00%</td>\n",
       "    </tr>\n",
       "    <tr>\n",
       "      <td>h2o_e</td>\n",
       "      <td>EX_h2o_e</td>\n",
       "      <td>2.751</td>\n",
       "      <td>0</td>\n",
       "      <td>0.00%</td>\n",
       "    </tr>\n",
       "    <tr>\n",
       "      <td>h_e</td>\n",
       "      <td>EX_h_e</td>\n",
       "      <td>0.5014</td>\n",
       "      <td>0</td>\n",
       "      <td>0.00%</td>\n",
       "    </tr>\n",
       "    <tr>\n",
       "      <td>k_e</td>\n",
       "      <td>EX_k_e</td>\n",
       "      <td>0.007475</td>\n",
       "      <td>0</td>\n",
       "      <td>0.00%</td>\n",
       "    </tr>\n",
       "    <tr>\n",
       "      <td>mg2_e</td>\n",
       "      <td>EX_mg2_e</td>\n",
       "      <td>0.001271</td>\n",
       "      <td>0</td>\n",
       "      <td>0.00%</td>\n",
       "    </tr>\n",
       "    <tr>\n",
       "      <td>mn2_e</td>\n",
       "      <td>EX_mn2_e</td>\n",
       "      <td>0.0001338</td>\n",
       "      <td>0</td>\n",
       "      <td>0.00%</td>\n",
       "    </tr>\n",
       "    <tr>\n",
       "      <td>mobd_e</td>\n",
       "      <td>EX_mobd_e</td>\n",
       "      <td>0.0001338</td>\n",
       "      <td>0</td>\n",
       "      <td>0.00%</td>\n",
       "    </tr>\n",
       "    <tr>\n",
       "      <td>na1_e</td>\n",
       "      <td>EX_na1_e</td>\n",
       "      <td>0.0001673</td>\n",
       "      <td>0</td>\n",
       "      <td>0.00%</td>\n",
       "    </tr>\n",
       "    <tr>\n",
       "      <td>no3_e</td>\n",
       "      <td>EX_no3_e</td>\n",
       "      <td>0.3982</td>\n",
       "      <td>0</td>\n",
       "      <td>0.00%</td>\n",
       "    </tr>\n",
       "    <tr>\n",
       "      <td>photon_e</td>\n",
       "      <td>EX_photon_e</td>\n",
       "      <td>51.71</td>\n",
       "      <td>0</td>\n",
       "      <td>0.00%</td>\n",
       "    </tr>\n",
       "    <tr>\n",
       "      <td>pi_e</td>\n",
       "      <td>EX_pi_e</td>\n",
       "      <td>0.03049</td>\n",
       "      <td>0</td>\n",
       "      <td>0.00%</td>\n",
       "    </tr>\n",
       "    <tr>\n",
       "      <td>so4_e</td>\n",
       "      <td>EX_so4_e</td>\n",
       "      <td>0.008382</td>\n",
       "      <td>0</td>\n",
       "      <td>0.00%</td>\n",
       "    </tr>\n",
       "    <tr>\n",
       "      <td>zn2_e</td>\n",
       "      <td>EX_zn2_e</td>\n",
       "      <td>0.0001329</td>\n",
       "      <td>0</td>\n",
       "      <td>0.00%</td>\n",
       "    </tr>\n",
       "    <tr>\n",
       "      <td>rdmbzi_c</td>\n",
       "      <td>SK_rdmbzi_c</td>\n",
       "      <td>9.851E-06</td>\n",
       "      <td>14</td>\n",
       "      <td>0.00%</td>\n",
       "    </tr>\n",
       "  </tbody>\n",
       "</table><h4>Secretion</h4><table border=\"1\" class=\"dataframe\">\n",
       "  <thead>\n",
       "    <tr style=\"text-align: right;\">\n",
       "      <th>Metabolite</th>\n",
       "      <th>Reaction</th>\n",
       "      <th>Flux</th>\n",
       "      <th>C-Number</th>\n",
       "      <th>C-Flux</th>\n",
       "    </tr>\n",
       "  </thead>\n",
       "  <tbody>\n",
       "    <tr>\n",
       "      <td>5mdru1p_c</td>\n",
       "      <td>DM_5mdru1p_c</td>\n",
       "      <td>-0.0002979</td>\n",
       "      <td>6</td>\n",
       "      <td>100.00%</td>\n",
       "    </tr>\n",
       "    <tr>\n",
       "      <td>o2_e</td>\n",
       "      <td>EX_o2_e</td>\n",
       "      <td>-5.413</td>\n",
       "      <td>0</td>\n",
       "      <td>0.00%</td>\n",
       "    </tr>\n",
       "    <tr>\n",
       "      <td>sql_e</td>\n",
       "      <td>EX_sql_e</td>\n",
       "      <td>-0.06167</td>\n",
       "      <td>0</td>\n",
       "      <td>0.00%</td>\n",
       "    </tr>\n",
       "  </tbody>\n",
       "</table>"
      ],
      "text/plain": [
       "<cobra.summary.model_summary.ModelSummary at 0x7f7a1392e6a0>"
      ]
     },
     "execution_count": 7,
     "metadata": {},
     "output_type": "execute_result"
    }
   ],
   "source": [
    "modelQO.summary()"
   ]
  },
  {
   "cell_type": "code",
   "execution_count": 8,
   "id": "83cb61f5-1300-42fa-a85e-02904d7208b4",
   "metadata": {},
   "outputs": [
    {
     "name": "stdout",
     "output_type": "stream",
     "text": [
      "0.044176653152843574 0.06166666666666658\n"
     ]
    }
   ],
   "source": [
    "print(modelQO.optimize().fluxes['BIOMASS_Ec_SynAuto'], modelQO.optimize().fluxes['EX_sql_e'])"
   ]
  },
  {
   "cell_type": "code",
   "execution_count": 12,
   "id": "2f584ca3-74f0-4a73-8002-442e8b389842",
   "metadata": {},
   "outputs": [
    {
     "name": "stdout",
     "output_type": "stream",
     "text": [
      "                     minimum   maximum\n",
      "SQLS                0.061667  0.061667\n",
      "DXPS                0.377908  0.377908\n",
      "IPDDI              -0.252597  0.125311\n",
      "GRTT                0.125311  0.125311\n",
      "BIOMASS_Ec_SynAuto  0.044177  0.044177\n"
     ]
    }
   ],
   "source": [
    "reactions_QO = [modelQO.reactions.SQLS, modelQO.reactions.DXPS, modelQO.reactions.IPDDI,\n",
    "     modelQO.reactions.GRTT, modelQO.reactions.BIOMASS_Ec_SynAuto]\n",
    "fva_QO = flux_variability_analysis(modelQO, reaction_list = reactions_QO, fraction_of_optimum=1)\n",
    "print (fva_QO)"
   ]
  },
  {
   "cell_type": "code",
   "execution_count": 13,
   "id": "8fe33d99-a4a1-4c0c-9763-893a438cde1b",
   "metadata": {},
   "outputs": [],
   "source": [
    "#To compare with model optimised for cell growth\n",
    "model_growth=read_sbml_model('iJN678mod.xml')  \n",
    "model_growth.objective = \"BIOMASS_Ec_SynAuto\""
   ]
  },
  {
   "cell_type": "code",
   "execution_count": 14,
   "id": "4d3adaf6-267c-4136-af7b-a083c6f686fe",
   "metadata": {},
   "outputs": [
    {
     "name": "stdout",
     "output_type": "stream",
     "text": [
      "        minimum   maximum\n",
      "SQLS   0.000000  0.000000\n",
      "DXPS   0.010663  0.010663\n",
      "IPDDI -0.007996  0.002667\n",
      "GRTT   0.002667  0.002667\n"
     ]
    }
   ],
   "source": [
    "reactions_growth = [model_growth.reactions.SQLS, model_growth.reactions.DXPS, model_growth.reactions.IPDDI,\n",
    "     model_growth.reactions.GRTT]\n",
    "fva_growth = flux_variability_analysis(model_growth, reaction_list = reactions_growth, fraction_of_optimum=1)\n",
    "print (fva_growth)"
   ]
  },
  {
   "cell_type": "code",
   "execution_count": null,
   "id": "a7cc5d96-677e-435b-bd72-691c201421f9",
   "metadata": {},
   "outputs": [],
   "source": []
  },
  {
   "cell_type": "code",
   "execution_count": null,
   "id": "0154a61c-bd5f-498f-83ca-412e4e0cf3cd",
   "metadata": {},
   "outputs": [],
   "source": []
  },
  {
   "cell_type": "code",
   "execution_count": null,
   "id": "d944e6cb-a4cc-4516-a8ec-35a0c0b05f78",
   "metadata": {},
   "outputs": [],
   "source": [
    "\n",
    "#quadratic_objective = modelQO.problem.Objective(modelQO.reactions.get_by_id('EX_sql_e').flux_expression* modelQO.reactions.get_by_id('BIOMASS_Ec_SynAuto').flux_expression,direction='max')\n",
    "#modelQO.objective = quadratic_objective\n",
    "#solution = modelQO.optimize(objective_sense=None)"
   ]
  },
  {
   "cell_type": "code",
   "execution_count": null,
   "id": "7fb1d9e8-f0d9-438b-9f82-df5aaad0a7fb",
   "metadata": {},
   "outputs": [],
   "source": [
    "modelQO.summary()"
   ]
  },
  {
   "cell_type": "code",
   "execution_count": null,
   "id": "4e0e5b75-7e59-4a73-befe-e859023d397a",
   "metadata": {},
   "outputs": [],
   "source": []
  }
 ],
 "metadata": {
  "kernelspec": {
   "display_name": "Python 3 (ipykernel)",
   "language": "python",
   "name": "python3"
  },
  "language_info": {
   "codemirror_mode": {
    "name": "ipython",
    "version": 3
   },
   "file_extension": ".py",
   "mimetype": "text/x-python",
   "name": "python",
   "nbconvert_exporter": "python",
   "pygments_lexer": "ipython3",
   "version": "3.9.12"
  }
 },
 "nbformat": 4,
 "nbformat_minor": 5
}
