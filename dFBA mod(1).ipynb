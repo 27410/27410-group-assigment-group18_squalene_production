{
 "cells": [
  {
   "cell_type": "code",
   "execution_count": 5,
   "id": "185e29d5-3f6f-4b6a-973c-a2bc78ab983b",
   "metadata": {},
   "outputs": [],
   "source": [
    "# packages\n",
    "\n",
    "import numpy as np\n",
    "import cobra\n",
    "from cobra import Reaction, Metabolite, Model"
   ]
  },
  {
   "cell_type": "code",
   "execution_count": 2,
   "id": "7299286a-e3b2-4db5-88b3-428775deed71",
   "metadata": {},
   "outputs": [
    {
     "ename": "ModuleNotFoundError",
     "evalue": "No module named 'dfba'",
     "output_type": "error",
     "traceback": [
      "\u001b[1;31m---------------------------------------------------------------------------\u001b[0m",
      "\u001b[1;31mModuleNotFoundError\u001b[0m                       Traceback (most recent call last)",
      "Input \u001b[1;32mIn [2]\u001b[0m, in \u001b[0;36m<cell line: 5>\u001b[1;34m()\u001b[0m\n\u001b[0;32m      1\u001b[0m \u001b[38;5;28;01mfrom\u001b[39;00m \u001b[38;5;21;01mos\u001b[39;00m\u001b[38;5;21;01m.\u001b[39;00m\u001b[38;5;21;01mpath\u001b[39;00m \u001b[38;5;28;01mimport\u001b[39;00m dirname, join, pardir\n\u001b[0;32m      3\u001b[0m \u001b[38;5;28;01mfrom\u001b[39;00m \u001b[38;5;21;01mcobra\u001b[39;00m\u001b[38;5;21;01m.\u001b[39;00m\u001b[38;5;21;01mio\u001b[39;00m \u001b[38;5;28;01mimport\u001b[39;00m read_sbml_model\n\u001b[1;32m----> 5\u001b[0m \u001b[38;5;28;01mfrom\u001b[39;00m \u001b[38;5;21;01mdfba\u001b[39;00m \u001b[38;5;28;01mimport\u001b[39;00m DfbaModel, ExchangeFlux, KineticVariable\n",
      "\u001b[1;31mModuleNotFoundError\u001b[0m: No module named 'dfba'"
     ]
    }
   ],
   "source": [
    "from os.path import dirname, join, pardir\n",
    "\n",
    "from cobra.io import read_sbml_model\n",
    "\n",
    "from dfba import DfbaModel, ExchangeFlux, KineticVariable"
   ]
  },
  {
   "cell_type": "code",
   "execution_count": 3,
   "id": "acb5ee5c-5edd-4296-a141-a65c2b1ad6b6",
   "metadata": {},
   "outputs": [
    {
     "data": {
      "text/html": [
       "\n",
       "        <table>\n",
       "            <tr>\n",
       "                <td><strong>Name</strong></td>\n",
       "                <td>iJN678</td>\n",
       "            </tr><tr>\n",
       "                <td><strong>Memory address</strong></td>\n",
       "                <td>0x0137feed8fd0</td>\n",
       "            </tr><tr>\n",
       "                <td><strong>Number of metabolites</strong></td>\n",
       "                <td>796</td>\n",
       "            </tr><tr>\n",
       "                <td><strong>Number of reactions</strong></td>\n",
       "                <td>865</td>\n",
       "            </tr><tr>\n",
       "                <td><strong>Number of groups</strong></td>\n",
       "                <td>0</td>\n",
       "            </tr><tr>\n",
       "                <td><strong>Objective expression</strong></td>\n",
       "                <td>1.0*BIOMASS_Ec_SynHetero - 1.0*BIOMASS_Ec_SynHetero_reverse_5d8af</td>\n",
       "            </tr><tr>\n",
       "                <td><strong>Compartments</strong></td>\n",
       "                <td>cytosol, periplasm, thylakoid, extracellular space</td>\n",
       "            </tr>\n",
       "          </table>"
      ],
      "text/plain": [
       "<Model iJN678 at 0x137feed8fd0>"
      ]
     },
     "execution_count": 3,
     "metadata": {},
     "output_type": "execute_result"
    }
   ],
   "source": [
    "model = read_sbml_model(\"iJN678mod.xml\")\n",
    "model"
   ]
  },
  {
   "cell_type": "markdown",
   "id": "9e02780d-7e3f-41cc-9c6a-338fc461e695",
   "metadata": {},
   "source": [
    "Enhancing Squalene Production in Saccharomyces cerevisiae by Metabolic Engineering and Random Mutagenesis\n",
    "\n",
    "Practical industrial squalene production, however, still needs further enhancement of production by S. cerevisiae. Insufficient flux through the MVA pathway is an important limiting factor and the natural biosynthesis rate of the essential precursor, acetyl-CoA is insufficient for high squalene production.\n",
    "\n",
    "The composition of YPD medium was as follows: 20 g/L glucose, 10 g/L yeast extract, and 20 g/L peptone."
   ]
  },
  {
   "cell_type": "markdown",
   "id": "53c93472-73cf-4f1b-8c76-3dfe775f1b7b",
   "metadata": {},
   "source": [
    "Production of squalene by squalene synthases and their truncated mutants in Escherichia coli"
   ]
  },
  {
   "cell_type": "markdown",
   "id": "ab1652c4-ddb3-45ff-a9a3-ab7fc5ce0648",
   "metadata": {},
   "source": [
    "Introduction of a green algal squalene synthase enhances squalene accumulation in a strain of Synechocystis sp. PCC 6803\n",
    "\n",
    "Synechocystis cultures were grown at 30°C under a light intensity of 20 μmol photons m-2 s-1"
   ]
  },
  {
   "cell_type": "markdown",
   "id": "19d4f10a-04a4-4e27-8de3-17fa6cd0adbd",
   "metadata": {},
   "source": [
    "Growth kinetics and mathematical modeling of Synechocystis sp. PCC 6803 under flashing light\n"
   ]
  },
  {
   "cell_type": "markdown",
   "id": "e36106a5-cabc-464d-96cb-7fa4f64a9710",
   "metadata": {},
   "source": [
    "Multi-component kinetics for the growth of the cyanobacterium Synechocystis sp. PCC6803\n",
    "\n",
    "maximum specific growth rate (μmax) = 2.8/d, half-maximum-rate light irradiance (KL) = 11 W/m2, half-inhibition-rate light irradiance (KL,I) = 39 W/m2, and half-maximum-rate concentration for inorganic carbon (KS,Ci) = 0.5 mgC/L, half-maximum-rate concentration for inorganic nitrogen (KS,Ni) = 1.4 mgN/L, and half-maximum-rate concentration for inorganic phosphorus (KS,Pi) = 0.06 mgP/L.\n",
    "\n",
    "To gain the advantages of its high maximum specific growth rate, PCC6803 needs to have moderate light illumination (7–62 W/m2 for μsyn ≥ 1/d) and relatively high nutrient concentrations: Ni ≥ 2.3 mgN/L, Pi ≥ 0.1 mgP/L, and Ci ≥ 1.0 mgC/L.\n",
    "\n",
    "μsyn is the specific growth rate, μmax is the maximum specific growth rate, KS is half-maximum-rate concentration for a given nutrient, KL is the half-maximum-rate light irradiance, KL,I is the half-inhibition-rate light irradiance, LI is the light illumination to which the microorganisms are exposed, KS,Ci, is the half-maximum-rate concentrations for inorganic carbon, KS,Ni is the half-maximum-rate concentrations for inorganic nitrogen, KS,Pi is the half-maximum-rate concentrations for inorganic phosphorus, Ci is the total concentration of the carbon, Ni is the total concentration of the nitrogen, Pi is the total concentration of the phosphorus, and square bracket with subscript ‘min’ indicates the minimum value among the individual mathematical expressions separated by commas.\n",
    "\n",
    "Non-limiting Ni, Pi, and other nutrients were supplied using standard BG-11 medium to which we added supplemental Pi using a semi-batch mode of operation. .5 g NaNO3, 40 mg K2HPO4·3H2O, 75 mg MgSO4·7H2O, 36 mg CaCl2·2H2O, 6 mg citric acid, 6 mg ferric ammonium citrate, 1 mg EDTA disodium salt, and 1 ml mixed trace metal solution.\n",
    "\n",
    "CO2 content (ppmva) = 387. C supply rate = 1,04 mg/LR/min\n",
    "\n",
    "Monod kinetics for N, P and C."
   ]
  },
  {
   "cell_type": "code",
   "execution_count": 5,
   "id": "4da715a1-ca8d-44c0-9dbd-7ff892e64add",
   "metadata": {},
   "outputs": [
    {
     "name": "stdout",
     "output_type": "stream",
     "text": [
      "Maximize\n",
      "1.0*BIOMASS_Ec_SynHetero - 1.0*BIOMASS_Ec_SynHetero_reverse_5d8af\n"
     ]
    }
   ],
   "source": [
    "print(model.objective)"
   ]
  },
  {
   "cell_type": "code",
   "execution_count": null,
   "id": "daea6fcb-a1f5-478d-ae5a-1a7b4ab5e289",
   "metadata": {},
   "outputs": [],
   "source": [
    "path_to_model = join(pardir, \"sbml-models\", \"iJN678mod.xml\")\n",
    "fba_model = read_sbml_model(path_to_model)\n",
    "fba_model.solver = \"glpk\"\n",
    "dfba_model = DfbaModel(fba_model)"
   ]
  },
  {
   "cell_type": "code",
   "execution_count": null,
   "id": "81cb8753-c18c-44a5-bea4-6c057f50aa8b",
   "metadata": {},
   "outputs": [],
   "source": [
    "# kynetic variables\n",
    "\n",
    "X = KineticVariable(\"Biomass\")\n",
    "Pht = KineticVariable(\"Photons\")\n",
    "CO2 = KineticVariable(\"CO2\", initial_condition=0.5)\n",
    "Sql = KineticVariable(\"Squalene\")\n",
    "N = KineticVariable(\"Nitrogen\")\n",
    "F = KineticVariable(\"Phosphor)\n",
    "\n",
    "dfba_model.add_kinetic_variables([X, Pht, CO2, Sql, N, P])"
   ]
  },
  {
   "cell_type": "code",
   "execution_count": null,
   "id": "12d549e0-a95b-42f0-9d46-c6b76903debf",
   "metadata": {},
   "outputs": [],
   "source": [
    "# exchange fluxes\n",
    "\n",
    "mu = ExchangeFlux(\"BiomassEcoli\")\n",
    "v_P = ExchangeFlux(\"EX_photon_e\")\n",
    "v_C = ExchangeFlux(\"EX_co2_e\")\n",
    "v_S = ExchangeFlux(\"EX_sql_e\")\n",
    "v_N = ExchangeFlux(\"EX_nh4_e\")\n",
    "v_F = ExchangeFlux(\"EX_pi_e\")\n",
    "\n",
    "dfba_model.add_exchange_fluxes([mu, v_P, v_C, v_S, v_N, v_F])"
   ]
  },
  {
   "cell_type": "markdown",
   "id": "7ce42745-0ddc-40a5-b54f-1755afa8c0a9",
   "metadata": {},
   "source": [
    "A kinetic expression, in the form of a differential equation, like the one shown below, has to be added to each dynamic variable, in order to account for variations in the concentration of each compound, where Cj represents a given compound, and Vj is the specific rate of consumption by biomass:"
   ]
  },
  {
   "cell_type": "code",
   "execution_count": null,
   "id": "ede5ae4f-376f-4c68-9feb-c3e8e084fdca",
   "metadata": {},
   "outputs": [],
   "source": [
    "# Rhs expression\n",
    "\n",
    "dfba_model.add_rhs_expression(\"Biomass\", mu * X)\n",
    "dfba_model.add_rhs_expression(\"Photons\", v_G * 180.1559 * X / 1000.0)\n",
    "dfba_model.add_rhs_expression(\"CO2\", v_Z * 150.13 * X / 1000.0)\n",
    "dfba_model.add_rhs_expression(\"Squalene\", v_O * 16.0 * X / 1000.0)\n",
    "dfba_model.add_rhs_expression(\"Ammonia\", v_N * 17.031/1000 * X)\n",
    "dfba_model.add_rhs_expression(\"Phosphate\", v_F * 94.9714/1000 * X)"
   ]
  },
  {
   "cell_type": "code",
   "execution_count": null,
   "id": "87eba709-5201-4264-9501-dabf5151ffcc",
   "metadata": {},
   "outputs": [],
   "source": [
    "# Lower/Upper bound expressions\n",
    "\n",
    "vmax_C = 1.5 # [h^-1]\n",
    "Ks_C = 10.6 # mg/L\n",
    "dfba_model.add_exchange_flux_lb(\"EX_co2_e\", vmax_C * (CO2 / (Ks_C), CO2)\n",
    "\n",
    "vmax_N = 1.6 # [h^-1]\n",
    "Ks_N = 1.4 # mg/L\n",
    "dfba_model.add_exchange_flux_lb(\"EX_nh4_e\", vmax_N * (N / (Ks_N), N)\n",
    "\n",
    "vmax_F = 1.6 # [h^-1]\n",
    "Ks_F = 0.060 # mmg/L\n",
    "dfba_model.add_exchange_flux_lb(\"EX_pi_e\", vmax_F * (Phs / (Ks_N + Phs + (Phs * Phs / Ki_N))), Phs)"
   ]
  },
  {
   "cell_type": "code",
   "execution_count": null,
   "id": "338941bd-2d98-4170-af25-6c24af2836fe",
   "metadata": {},
   "outputs": [],
   "source": [
    "# Initial conditions for the model\n",
    "\n",
    "dfba_model.add_initial_conditions(\n",
    "    {\n",
    "        \"Biomass\": 0.3,\n",
    "        \"CO2\": 10.5,\n",
    "        \"Nitrogen\": 0.5,\n",
    "        \"Phosphate\": 0.3,\n",
    "        \"Squalene\": 0.0,\n",
    "        \"Photoms\": 20.0,\n",
    "    }\n",
    ")\n",
    "concentrations, trajectories = dfba_model.simulate(0.0, 25.0, 0.1, [\"EX_co2_e\", \"EX_nh4_e\", \"EX_pi_e\"])"
   ]
  },
  {
   "cell_type": "code",
   "execution_count": null,
   "id": "813a15d2-76f8-4aba-ba73-f7ca05ba7e8b",
   "metadata": {},
   "outputs": [],
   "source": [
    "# plot the results\n",
    "\n",
    "from dfba.plot.plotly import *\n",
    "import plotly.io as pio\n",
    "\n",
    "fig = plot_concentrations(concentrations)\n",
    "fig.show()\n",
    "\n",
    "fig = plot_trajectories(trajectories)\n",
    "fig.show()"
   ]
  },
  {
   "cell_type": "code",
   "execution_count": null,
   "id": "069a2a91-176e-48c2-a021-6da45746ec77",
   "metadata": {},
   "outputs": [],
   "source": []
  }
 ],
 "metadata": {
  "kernelspec": {
   "display_name": "Python 3 (ipykernel)",
   "language": "python",
   "name": "python3"
  },
  "language_info": {
   "codemirror_mode": {
    "name": "ipython",
    "version": 3
   },
   "file_extension": ".py",
   "mimetype": "text/x-python",
   "name": "python",
   "nbconvert_exporter": "python",
   "pygments_lexer": "ipython3",
   "version": "3.9.12"
  }
 },
 "nbformat": 4,
 "nbformat_minor": 5
}
