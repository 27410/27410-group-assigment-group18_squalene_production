{
 "cells": [
  {
   "cell_type": "markdown",
   "metadata": {},
   "source": [
    "\n",
    "# Optimization of squalene production in _Synechocystis sp._ PCC 6380\n"
   ]
  },
  {
   "cell_type": "markdown",
   "metadata": {},
   "source": [
    "This work relies on the following packages for its execution:\n",
    "\n",
    "    - cobra\n",
    "    - cameo\n",
    "    - tabulate\n",
    " \n",
    "It must be noted that, to access the full suite of cameo functions, the cobra function find_gene_knockout_reactions must be added for the latest cobra version. To do so, we suggest updating the delete.py at Users/\"user-name\"/anaconda3/Lib/site-packages/cobra/manipulation with the one found in this repository. Be sure to change user-name to your respective repository."
   ]
  },
  {
   "cell_type": "code",
   "execution_count": 1,
   "metadata": {},
   "outputs": [
    {
     "ename": "ModuleNotFoundError",
     "evalue": "No module named 'cameo'",
     "output_type": "error",
     "traceback": [
      "\u001b[0;31m---------------------------------------------------------------------------\u001b[0m",
      "\u001b[0;31mModuleNotFoundError\u001b[0m                       Traceback (most recent call last)",
      "Input \u001b[0;32mIn [1]\u001b[0m, in \u001b[0;36m<cell line: 5>\u001b[0;34m()\u001b[0m\n\u001b[1;32m      3\u001b[0m \u001b[38;5;28;01mfrom\u001b[39;00m \u001b[38;5;21;01mcobra\u001b[39;00m \u001b[38;5;28;01mimport\u001b[39;00m Reaction, Metabolite, Model\n\u001b[1;32m      4\u001b[0m \u001b[38;5;28;01mfrom\u001b[39;00m \u001b[38;5;21;01mcobra\u001b[39;00m\u001b[38;5;21;01m.\u001b[39;00m\u001b[38;5;21;01mio\u001b[39;00m \u001b[38;5;28;01mimport\u001b[39;00m read_sbml_model\n\u001b[0;32m----> 5\u001b[0m \u001b[38;5;28;01mimport\u001b[39;00m \u001b[38;5;21;01mcameo\u001b[39;00m\n\u001b[1;32m      6\u001b[0m \u001b[38;5;28;01mfrom\u001b[39;00m \u001b[38;5;21;01mcameo\u001b[39;00m \u001b[38;5;28;01mimport\u001b[39;00m phenotypic_phase_plane\n\u001b[1;32m      7\u001b[0m \u001b[38;5;28;01mfrom\u001b[39;00m \u001b[38;5;21;01mcameo\u001b[39;00m \u001b[38;5;28;01mimport\u001b[39;00m models\n",
      "\u001b[0;31mModuleNotFoundError\u001b[0m: No module named 'cameo'"
     ]
    }
   ],
   "source": [
    "#Necessary imports\n",
    "import cobra\n",
    "from cobra import Reaction, Metabolite, Model\n",
    "from cobra.io import read_sbml_model\n",
    "import cameo\n",
    "from cameo import phenotypic_phase_plane\n",
    "from cameo import models\n",
    "from cameo.visualization.plotting.with_plotly import PlotlyPlotter\n",
    "from cameo import load_model\n",
    "from cameo import phenotypic_phase_plane\n",
    "from cameo.strain_design import OptGene\n",
    "from tabulate import tabulate\n",
    "\n",
    "import warnings\n",
    "warnings.simplefilter(action='ignore', category=FutureWarning)\n",
    "\n",
    "import pandas"
   ]
  },
  {
   "cell_type": "markdown",
   "metadata": {},
   "source": [
    "\n",
    "## 1 Introduction\n"
   ]
  },
  {
   "cell_type": "markdown",
   "metadata": {},
   "source": [
    "\n",
    "### 1.1 Relevance of squalene\n"
   ]
  },
  {
   "cell_type": "markdown",
   "metadata": {},
   "source": [
    "Squalene (C30H50) is a triterpene which can be found in a wide variety of organisms, ranging from microorganisms to humans. It is a polyunsaturated hydrocarbon formed by six isoprene units. Up to date, squalene has been thoroughly investigated and research indicates that it plays crucial roles in steroid synthesis in humans, especially cholesterol and vitamins. Additionally, squalene is regarded as an important compound for maintaining health under toxic exposure, due to its chemoprotective and nutraceutical activities. Other properties of squalene include providing skin protection against high UV exposure, being an antioxidant and recent studies suggest it is also an anticancerous agent. Furthermore, outside from its biological environment, its emollient properties make it a good skin care product and it is being studied as a drug delivery agent (use of squalene emulsions), a detoxifier and an anti-infectant against bacteria and fungi. Laslty, if squalene could be produced sustainably and in large quantities, it could be used as a raw material for biofuels and as feedstock for the chemical industry. \n",
    "\n",
    "The global market size of squalene was valued at USD 121,55 million in 2021 and it is expected to expand at a compound annual growth rate (CAGR) of 10,9% from 2022 to 2030, the major factor driving this demand being the increase in personal care and cosmetics consumption. To supply this enourmous demand, squalene has traditionally been obtained from shark liver oil, although other sources include olive oil and some microorganisms. However, new regulations for marine animal protection activities have hampered the supply of squalene from shark liver oil. Consequently, there has been a shift towards more sustainable options: vegetal production (9,5% increase) and squalene obtained by fermentation processes through the use of photosynthetic microorganisms. \n",
    "\n",
    "Specifically, in prokaryotes, algae and plant plastids, isoprenoids are produced via the methyl-eythritol-4-phosphate (MEP) pathway, whereIPP and DMAPP are the basic building blocks for isoprenoids. In this study, focus is given to the synthesis of squalene using the cyanobacteria _Synechocystis sp._ PCC 6803. In this organism, the formation of squalene is catalysed by the enzyme squalene synthase, which performs a two-step reaction, where two molecules of farnesyl-diphosphate (FPP) are first combined to form presqualene diphosphate (PSPP), which is subsequently converted into squalene, in a NADPH-dependent step (Figure 1). "
   ]
  },
  {
   "cell_type": "markdown",
   "metadata": {},
   "source": [
    "Figure 1"
   ]
  },
  {
   "cell_type": "markdown",
   "metadata": {},
   "source": [
    "\n",
    "### 1.2 _Synechocystis_ as a cell factory\n"
   ]
  },
  {
   "cell_type": "markdown",
   "metadata": {},
   "source": [
    "_Synechocystis sp._ PCC 6803 is a photosynthetic microorganism found primarily in freshwater environments. One of the primary reasons this strain serves as an ideal cell factory is due to the extensive investigation of its functional genomics in recent decades, resulting in over 3000 gene annotations. This extensive genetic knowledge, coupled with this strains natural competence, makes it an ideal candidate for cell factory implementation. Furthermore, _Synechocystis_ can grow in photoautotrophic, heterotrophic, and mixotrophic conditions, which can provide advantages for carbon modulation during its large-scale implementation. Another reason this strain is an ideal cell factory candidate is due to its elevated stress tolerance, which is a key advantage for microbial hosts in terms of production efficiency, especially with scaling up. Furthermore, given that this strain is photosynthetic, contamination risks can be reduced when cultivated in photoautotrophic conditions, which is an advantage for reliable metabolite production. \n",
    "\n",
    "On the other hand, one disadvantage of using _Synechocystis_, and cyanobacterium more generally, as cell factory hosts, is their lower rate of production. Compared to other industry standards for cell factory production, such as bacterial and fungal hosts, cyanobacteria tend to produce target compounds at a slower rate, which simultaneously increases production costs and cultivation time, which also favours the risk of contamination. Furthermore, _Synechocystis_ titer is not competitive with alternatives such as _Escherichia coli_, meaning the rate of production and concentration of the product is not comparable with other microbial hosts. Such concerns, along with the cost of cultivation of cyanobacteria, make the practical and financial disadvantages of cyanobacterial cell factories clear. \n",
    "\n",
    "However, it must be noted that, while other chassis have been shown to be competent squalene producers, such as _Saccharomyces cerevisiae_ and _Yarrowia lipolytica_, one distinct advantage of _Synechocystis_ is its photoautotrophic capabilities and its stress resistance, which gives this strain the ability to have lower risk of contamination and greater resilience to scaling. Another advantage of using a photoautotroph as a cell factory is their impact on sustainability, as photosynthetic organisms require less energy and resources than other microorganisms, making it an energy efficient long-term choice for large scale squalene production. If compared to other photoautotrophic microbes that produce squalene, such as the aforementioned  _B. braunii_ and _Phormidium autumnale_, _Synechocystis_ has the distinct advantage of being better characterized in the literature, making it a better candidate for potential genetic modificaton and optimization strategies that can bolster squalene production. \n",
    "\n",
    "In regards to the production of squalene in cyanobacteria, specifically our species of interest, has been demonstrated by Englund et al. (2014), as they showcase the accumulation of squalene in this strain after inactivation of the slr2089 gene, thought to encode for squalene hopene cyclase, which converts squalene into hopene. This process was enhanced by Pattainaik et al. (2020), through the introduction of a heterologous squalene synthase from _Botryococcus braunii_ which increased squalene production. Given this proof of concept and the competence of this strain, _Synechocystis sp._ PCC 6803 is a suitable host for squalene production and optimization. \n",
    "\n",
    "\n",
    "\n",
    " "
   ]
  },
  {
   "cell_type": "markdown",
   "metadata": {},
   "source": [
    "\n",
    "## 2 Global and biological production limitations\n"
   ]
  },
  {
   "cell_type": "markdown",
   "metadata": {},
   "source": [
    "Traditionally, squalene has been commercially produced from either shark liver oil or plant oils, e.g. olive oil. However, because the sources of those two methods are either not renewable or unstable and geographically restricted, the increasing global demand of squalene can hardly be fulfilled. Therefore, in this project, the cyanobacteria _Synechocystis_ will be used as a chassis for squalene production. \n",
    "\n",
    "Despite the advantage of using sunlight as energy source and converting directly carbon dioxide to products, both the titer or yield of squalene in _Synechocystis_ fermentation are relatively low, with reported value of titer at 5.1mg/L, and yield at 0.67 mg/OD750/L. Whereas, for organisms such as _Saccharomyces cerevisiae_, a titer of 21.1 g/L with the yield at 437.1 mg/g DCW has been achieved. To examine the feasibility and viability of using _Synechocystis_ for industrial squalene production, the focus of this project on a product level will be using Computer-aided Cell Factory Design to increase the yield of the product while ensuring an acceptable titer and productivity.  \n",
    "\n",
    "The lower porduction of squalene can be due to host cell-related complications such as having slow growth rate, byproduct formation, and squalene accumulation. _Synechocystis_ lacks the transporters required for the transportation of vitamins, co-factors, amino acids or nucleotides. Hence, it relies on the energy generated from photosynthesis for the expression of synthetic pathways and essential building blocks, which slows down it growth rate and productivity. Furthermore, synthesis of byproducts such as carotenoids and hopanoids is also conducted through the same metabolic pathway which provides flux for squalene synthesis (Figure 2), thus creating another bottleneck for _Synechocystis_ based squalene production. In addition, squalene is a hydrophobic compound which is most likely to be accumulated in the cell membrane rather than being secreted. Hence, the production capacity of _Synechocystis_ will be limited with its concentration tolerance towards squalene accumulation, which will reduce its feasibility and viability to be used as an industrial host for large-scale production.  "
   ]
  },
  {
   "cell_type": "markdown",
   "metadata": {},
   "source": [
    "Figure 2"
   ]
  },
  {
   "cell_type": "markdown",
   "metadata": {},
   "source": [
    "\n",
    "## 3 Review of existing _Synechocystis_ GSMs\n"
   ]
  },
  {
   "cell_type": "markdown",
   "metadata": {},
   "source": [
    "During the last decade, several genome scale reconstructions of _Synechocystis_ PCC 6803 have been published, as a response to the growing interest for the biosustainability potential of these organisms. For most models a different starting point or reconstruction approach has been used. Howevere, some of them rely upon each other to expand their networks. \n",
    "\n",
    "Amongst all of the found models, two stand out, as they are included in the BiGG Models database, which only publishes models with an NCBI RefSeq genome annotation and, thus, possess an additional level of reliability to them. The first of these reconstructions, named iJN678, is a robust model that focuses on the accurate modelling of the photosynthetic pathways. It includes 863 reactions and 795 nonunique metabolites, making use of various established databases like KEGG and Cyanobase. Additionally, to account for missing reactions in the model, the authors performed an iterative gap-filling. For this, they used data from phylogenetically close organisms, applying a confidence score to each reaction according to the evidence that supports its existence in _Synechocystis_. On the other hand, there is reconstruction iSynCJ816, hailing from a much more recent publication, and mainly focusing on the thermodynamic study and validation of the metabolic landscape. This model is substantially bigger than iJN678, with 1060 reactions and 925 metabolites, and makes use of the same databases. However, even though this model aims to unify the discrepancies between already published reconstructions, the authors did not conduct a gap-filling procedure, alleging that the gaps present in the model are gaps in our knowledge, which makes it the published model with the most gaps.  \n",
    "\n",
    "All in all, both models seem to be adequate for cell factory design enterprises, but we have chosen iJN678 as the model for this work. From a validation point of view, iJN678 was published with a much more thorough description of the simulations used for its comparison with experimental data, ensuring that the predicted growth rate does not surpass more than 5% of the experimental value across its three different growth modes, mainly, autotrophic, mixotrophic and heterotrophic. In comparison, iSynCJ816 does not provide information regarding its validation, even though the same experimental dataset was used. Concurrently, through the assessment of both reconstructions conducted with Memote, it can be seen that iJN678 has a slightly higher score. This is due to the greater degree of metabolic coverage, the lower amount of stoichiometrically balanced cycles and unconserved and dead-end metabolites, amongst others. Additionally, iSynCJ816 is less annotated than iJN678, probably due to its larger number of genes, metabolites and reactions. \n",
    "\n",
    "So, for the established reasons, taking into account both its experimental validation and the _ad hoc_ analysis, we believe that the iJN678 reconstruction will facilitate reliable predictions throughout our analysis. "
   ]
  },
  {
   "cell_type": "code",
   "execution_count": null,
   "metadata": {},
   "outputs": [],
   "source": [
    "model=read_sbml_model('iJN678.xml')\n"
   ]
  },
  {
   "cell_type": "markdown",
   "metadata": {},
   "source": [
    "\n",
    "## 4 Computer-aided engineering of _Synechocystis_ iJN678\n"
   ]
  },
  {
   "cell_type": "markdown",
   "metadata": {},
   "source": [
    "modelM=read_sbml_model('iJN678mod.xml')Squalene is a native product of _Synechocystis_. Thus, there is no need to add a heterologous pathway to the model. However, to simulate overproduction of the compund, and to surpass the limits in its exportation, two additional reactions were added. Firstly, a transport reaction between the cytosol and the extracellular space was introduced. Reaction that is supported by the literature through the existance of the transporter [Yujing]. Secondly, an exchange reaction to eliminate squalene from the media was also added. Alltogether, the resulting model was exported as an SBML file named iJN678mod."
   ]
  },
  {
   "cell_type": "code",
   "execution_count": null,
   "metadata": {},
   "outputs": [],
   "source": [
    "modelM=read_sbml_model('iJN678mod.xml')\n"
   ]
  },
  {
   "cell_type": "code",
   "execution_count": null,
   "metadata": {},
   "outputs": [],
   "source": [
    "modelM.reactions.get_by_id(\"R_SQLt\")"
   ]
  },
  {
   "cell_type": "code",
   "execution_count": null,
   "metadata": {},
   "outputs": [],
   "source": [
    "modelM.reactions.get_by_id(\"EX_sql_e\")"
   ]
  },
  {
   "cell_type": "markdown",
   "metadata": {},
   "source": [
    "\n",
    "### 4.1 Initial yields for squalene production\n"
   ]
  },
  {
   "cell_type": "markdown",
   "metadata": {},
   "source": [
    "The maximum production yield has been calculated for each of the three growth modes of _Synechocystis_. Thus, the media has been adapted to that that allows its maximum growth rate in each of the conditions, autotrophic, mixotrophic and heterotrophic. For the last case, all the possible carbon sources were tested."
   ]
  },
  {
   "cell_type": "code",
   "execution_count": null,
   "metadata": {},
   "outputs": [],
   "source": [
    "#Setting medium for autotrophic (CO2 as carbon source)\n",
    "\n",
    "co2KO=modelM.reactions.get_by_id(\"EX_co2_e\")\n",
    "photonKO=modelM.reactions.get_by_id(\"EX_photon_e\")\n",
    "hco3KO=modelM.reactions.get_by_id(\"EX_hco3_e\")\n",
    "\n",
    "co2KO.bounds=(-3.7,1000.0)\n",
    "hco3KO.bounds= (-3.7,1000.0)\n",
    "photonKO.bounds= (-100,0)\n",
    "\n",
    "mediumKO = modelM.medium\n",
    "mediumKO[\"EX_glc__D_e\"] = 0.0\n",
    "mediumKO[\"EX_hco3_e\"] = 0.0\n",
    "mediumKO[\"EX_photon_e\"]=54.5\n",
    "modelM.medium = mediumKO\n",
    "\n",
    "modelM.objective=\"EX_sql_e\"\n",
    "modelM.optimize().objective_value\n",
    "\n",
    "sql_production = modelM.optimize().objective_value\n",
    "maximum_yield = sql_production / (-1*(modelM.reactions.EX_co2_e.flux))\n",
    "print('Maximum productivity =', sql_production, 'mmol/gDW*h')\n",
    "print('Maximum theoretical yield =', maximum_yield, 'mmol-sql/mmol-co2')"
   ]
  },
  {
   "cell_type": "code",
   "execution_count": null,
   "metadata": {},
   "outputs": [],
   "source": [
    "#Setting medium for mixotrophic (Glucose as a carbon source but light availability)\n",
    "\n",
    "co2KO.bounds=(0,1000.0)\n",
    "hco3KO.bounds= (-3.7,1000.0)\n",
    "photonKO.bounds= (-100,0)\n",
    "\n",
    "mediumKO = modelM.medium\n",
    "mediumKO[\"EX_glc__D_e\"] = 0.39\n",
    "mediumKO[\"EX_hco3_e\"] = 0.0\n",
    "mediumKO[\"EX_photon_e\"]=54.5\n",
    "modelM.medium = mediumKO\n",
    "\n",
    "modelM.optimize()\n",
    "\n",
    "sql_production = modelM.optimize().objective_value\n",
    "maximum_yield = sql_production / (-1*(modelM.reactions.EX_glc__D_e.flux))\n",
    "maximum_yield1 = sql_production / (-6*(modelM.reactions.EX_glc__D_e.flux))\n",
    "print('Maximum productivity =', sql_production, 'mmol/gDW*h')\n",
    "print('Maximum theoretical yield =', maximum_yield, 'mmol-sql/mmol-glc')\n",
    "print('Maximum theoretical yield =', maximum_yield1, 'mmol-sql/mmolC')"
   ]
  },
  {
   "cell_type": "code",
   "execution_count": null,
   "metadata": {},
   "outputs": [],
   "source": [
    "#Setting medium for heterotrophic\n",
    "\n",
    "co2KO.bounds=(0,1000.0)\n",
    "hco3KO.bounds= (0,1000.0)\n",
    "photonKO.bounds= (0,0)\n",
    "\n",
    "mediumKO = modelM.medium\n",
    "mediumKO[\"EX_glc__D_e\"] = 0.85\n",
    "mediumKO[\"EX_hco3_e\"] = 0.0\n",
    "mediumKO[\"EX_photon_e\"]=0\n",
    "modelM.medium = mediumKO\n",
    "\n",
    "modelM.optimize()\n",
    "\n",
    "sql_production = modelM.optimize().objective_value\n",
    "maximum_yield = sql_production / (-1*(modelM.reactions.EX_glc__D_e.flux))\n",
    "print('Maximum productivity =', sql_production, 'mmol/gDW*h')\n",
    "print('Maximum theoretical yield =', maximum_yield, 'mmol-sql/mmol-glc')"
   ]
  },
  {
   "cell_type": "code",
   "execution_count": null,
   "metadata": {},
   "outputs": [],
   "source": [
    "#Production for alternate carbon sources\n",
    "\n",
    "mediumKO = modelM.medium\n",
    "mediumKO[\"EX_glc__D_e\"] = 0\n",
    "modelM.medium = mediumKO\n",
    "\n",
    "EX = []\n",
    "for reaction in model.exchanges:\n",
    "    for metabolite in reaction.metabolites:\n",
    "        if 'C' in metabolite.elements:\n",
    "            EX.append(reaction.id)\n",
    "            \n",
    "#print(EX)\n",
    "\n",
    "\n",
    "sol=[]\n",
    "\n",
    "medium = modelM.medium\n",
    "for i in range(len(EX)):\n",
    "    with modelM:\n",
    "        medium['EX_glc__D_e'] = 0 # remove glucose from medium\n",
    "        medium[EX[i]] = 0.85 # add carbon source to medium\n",
    "        modelM.medium = medium\n",
    "        solution = modelM.slim_optimize(error_value=0.)\n",
    "        maximum_yield = solution / (0.85)\n",
    "        medium[EX[i]]=0.0\n",
    "        list1=[]\n",
    "        if solution > 0:\n",
    "            list1.append(EX[i])\n",
    "            list1.append(solution)\n",
    "            list1.append(maximum_yield)\n",
    "            sol.append(list1)\n",
    "            \n",
    "print(tabulate(sol, headers=['Reaction', 'Productivity (mmol-sql/gDWh)',\"Yield (mmol-sql/mmol-glc)\"]))"
   ]
  },
  {
   "cell_type": "markdown",
   "metadata": {},
   "source": [
    "It can be seen that the best yield is obtained when _Synechocystis_ grows under mixotrophic conditions. However, for autotrophic conditions the productivity is substantially higher. Furthermore, the yield expressed in mmolC is identical, 0.033 mmol-sql/mmolC. So, it can be argued that, due to the ustainability benefits of using CO2, autotrophy is the best mode of operation for squalene production."
   ]
  },
  {
   "cell_type": "markdown",
   "metadata": {},
   "source": [
    "### 4.2 Phenotypic characterisation of the strain"
   ]
  },
  {
   "cell_type": "markdown",
   "metadata": {},
   "source": [
    "We can now use the \"phenotypic_phase_plane\" package from cameo to visualize our strain performance of squalene production. We will begin by \n",
    "testing our strain in default autotrophic conditions. Next, we will set our CO2 levels to zero and turn on glucose use to simulate mixotrophic conditions. Next we will simulate anaerobic conditions by setting O2 to zero. This is followed by heterotrophic conditions where photosynthesis is turned off in our model. \n"
   ]
  },
  {
   "cell_type": "code",
   "execution_count": null,
   "metadata": {},
   "outputs": [],
   "source": [
    "# Autotrophic conditions\n",
    "\n",
    "from cameo.visualization.plotting.with_plotly import PlotlyPlotter\n",
    "plotter = PlotlyPlotter()\n",
    "\n",
    "ppp = phenotypic_phase_plane(model,\n",
    "                             variables=[model.reactions.BIOMASS_Ec_SynAuto],\n",
    "                             objective=model.reactions.EX_sql_e)\n",
    "\n",
    "ppp.plot(plotter)"
   ]
  },
  {
   "cell_type": "code",
   "execution_count": null,
   "metadata": {},
   "outputs": [],
   "source": [
    "# Mixotrophic conditions\n",
    "\n",
    "Mixo = modelM.copy()\n",
    "\n",
    "mediumA = Mixo.medium\n",
    "mediumA[\"EX_glc__D_e\"] = 0.39\n",
    "mediumA[\"EX_co2_e\"] = 0\n",
    "\n",
    "Mixo.medium = mediumA\n",
    "\n",
    "Mixo.medium\n"
   ]
  },
  {
   "cell_type": "code",
   "execution_count": null,
   "metadata": {},
   "outputs": [],
   "source": [
    "ppp2 = phenotypic_phase_plane(Mixo,\n",
    "                             variables=[Mixo.reactions.BIOMASS_Ec_SynMixo],\n",
    "                             objective=Mixo.reactions.EX_sql_e)\n",
    "\n",
    "ppp2.plot(plotter)"
   ]
  },
  {
   "cell_type": "code",
   "execution_count": null,
   "metadata": {},
   "outputs": [],
   "source": [
    "# Anaerobic conditions\n",
    "\n",
    "Anaerobic = modelM.copy()\n",
    "\n",
    "mediumB = Anaerobic.medium\n",
    "mediumB[\"EX_o2_e\"] = 0.0\n",
    "Anaerobic.medium = mediumB\n",
    "\n",
    "Anaerobic.medium"
   ]
  },
  {
   "cell_type": "code",
   "execution_count": null,
   "metadata": {},
   "outputs": [],
   "source": [
    "ppp3 = phenotypic_phase_plane(Anaerobic,\n",
    "                             variables=[Anaerobic.reactions.BIOMASS_Ec_SynAuto],\n",
    "                             objective=Anaerobic.reactions.EX_sql_e)\n",
    "\n",
    "ppp3.plot(plotter)"
   ]
  },
  {
   "cell_type": "code",
   "execution_count": null,
   "metadata": {},
   "outputs": [],
   "source": [
    "# Heterotrophic conditions\n",
    "\n",
    "Hetero = modelM.copy()\n",
    "\n",
    "mediumH = Hetero.medium\n",
    "mediumH[\"EX_photon_e\"] = 0\n",
    "mediumH[\"EX_glc__D_e\"] = 0.85\n",
    "mediumH[\"EX_co2_e\"] = 0\n",
    "Hetero.medium = mediumH\n",
    "\n",
    "Hetero.medium"
   ]
  },
  {
   "cell_type": "code",
   "execution_count": null,
   "metadata": {},
   "outputs": [],
   "source": [
    "ppp4 = phenotypic_phase_plane(Hetero,\n",
    "                             variables=[Hetero.reactions.BIOMASS_Ec_SynHetero],\n",
    "                             objective=Hetero.reactions.EX_sql_e)\n",
    "\n",
    "ppp4.plot(plotter)"
   ]
  },
  {
   "cell_type": "markdown",
   "metadata": {},
   "source": [
    "### 4.3 Alternative production pathways"
   ]
  },
  {
   "cell_type": "markdown",
   "metadata": {},
   "source": [
    "In _Synechocystis sp. PCC 6803_ squalene production is achieved through sesquiterpenoid and triterpenoid biosynthesis pathway which uses farnesyl diphosphate (FPP) as a main precursor. Generation of the precursor, FPP, can be derived through two different pathways, mevalonate (MVA) and methylerythritol 4-phosphate (MEP) pathways. According to the genome analysis, _Synechocystis sp. PCC 6803_ does not possess the enzymetic reactions required for the MVA pathway, thus making MEP pathway the main flux stream towards squalene biosynthesis. Since, MVA and MEP pathwyas are the two main pathways leading to squalene production, incorparation of MVA pathway reactions can provide an additional side-stream beside the MEP pathway, thus increasing the flux towards the squalene production. In addition, incorporation of the MVA pathway also enables the utilizaiton of acetyl-CoA as an alternative substrate besides glyceraldehyde-3-phosphate which is used in MEP pathway. "
   ]
  },
  {
   "cell_type": "code",
   "execution_count": null,
   "metadata": {},
   "outputs": [],
   "source": [
    "![sql.png](attachment:sql.png)"
   ]
  },
  {
   "cell_type": "code",
   "execution_count": null,
   "metadata": {},
   "outputs": [],
   "source": [
    "modelMVA= read_sbml_model(\"iJN678mva.xml\")"
   ]
  },
  {
   "cell_type": "markdown",
   "metadata": {
    "tags": []
   },
   "source": [
    "### 4.4 Optimization through gene modulation strategies"
   ]
  },
  {
   "cell_type": "markdown",
   "metadata": {},
   "source": [
    "To assess the possible gene knockouts, the OptGene algorithm has been run. From the results, the top five strain designs have been analysed in terms of maximum yield, plotting the phenotypic phase planes for each. However, it must be noted that, due to complications during the running of the algorithm, the reaction here studied is the first of the pathwya, that is, Pyruvate Kinase. An increase in its flux will increase the flux of the whole pathway, thus producing more squalene."
   ]
  },
  {
   "cell_type": "code",
   "execution_count": null,
   "metadata": {},
   "outputs": [],
   "source": [
    "optgene = OptGene(modelM)"
   ]
  },
  {
   "cell_type": "code",
   "execution_count": null,
   "metadata": {},
   "outputs": [],
   "source": [
    "result = optgene.run(target=modelM.reactions.PYK,\n",
    "                     biomass=modelM.reactions.BIOMASS_Ec_SynHetero,\n",
    "                     substrate=modelM.metabolites.glc__D_e,\n",
    "                     max_evaluations=5000,\n",
    "                     plot=False)\n",
    "result"
   ]
  },
  {
   "cell_type": "code",
   "execution_count": null,
   "metadata": {},
   "outputs": [],
   "source": [
    "result.plot(plotter, 0)"
   ]
  },
  {
   "cell_type": "code",
   "execution_count": null,
   "metadata": {},
   "outputs": [],
   "source": [
    "result.plot(plotter, 1)"
   ]
  },
  {
   "cell_type": "code",
   "execution_count": null,
   "metadata": {},
   "outputs": [],
   "source": [
    "result.plot(plotter, 2)"
   ]
  },
  {
   "cell_type": "code",
   "execution_count": null,
   "metadata": {},
   "outputs": [],
   "source": [
    "result.plot(plotter, 3)"
   ]
  },
  {
   "cell_type": "code",
   "execution_count": null,
   "metadata": {},
   "outputs": [],
   "source": [
    "result.plot(plotter, 4)"
   ]
  },
  {
   "cell_type": "code",
   "execution_count": null,
   "metadata": {},
   "outputs": [],
   "source": [
    "result.plot(plotter, 5)"
   ]
  },
  {
   "cell_type": "markdown",
   "metadata": {},
   "source": [
    "Similarly, the same process was conducted with the model with the MVA pathway. This time, also using the first reaction of the pathway, Acetyl-CoA C-acetyltransferase, due to the same computational limitations."
   ]
  },
  {
   "cell_type": "code",
   "execution_count": null,
   "metadata": {},
   "outputs": [],
   "source": [
    "optgene = OptGene(modelMVA)"
   ]
  },
  {
   "cell_type": "code",
   "execution_count": null,
   "metadata": {},
   "outputs": [],
   "source": [
    "result = optgene.run(target=modelMVA.reactions.R_MVA0,\n",
    "                     biomass=modelMVA.reactions.BIOMASS_Ec_SynHetero,\n",
    "                     substrate=modelMVA.metabolites.glc__D_e,\n",
    "                     max_evaluations=5000,\n",
    "                     plot=False)\n",
    "result"
   ]
  },
  {
   "cell_type": "code",
   "execution_count": null,
   "metadata": {},
   "outputs": [],
   "source": [
    "result.plot(plotter, 0)"
   ]
  },
  {
   "cell_type": "code",
   "execution_count": null,
   "metadata": {},
   "outputs": [],
   "source": [
    "result.plot(plotter, 1)"
   ]
  },
  {
   "cell_type": "code",
   "execution_count": null,
   "metadata": {},
   "outputs": [],
   "source": [
    "result.plot(plotter, 2)"
   ]
  },
  {
   "cell_type": "code",
   "execution_count": null,
   "metadata": {},
   "outputs": [],
   "source": [
    "result.plot(plotter, 3)"
   ]
  },
  {
   "cell_type": "code",
   "execution_count": null,
   "metadata": {},
   "outputs": [],
   "source": [
    "result.plot(plotter, 4)"
   ]
  },
  {
   "cell_type": "code",
   "execution_count": null,
   "metadata": {},
   "outputs": [],
   "source": [
    "result.plot(plotter, 5)"
   ]
  },
  {
   "cell_type": "markdown",
   "metadata": {},
   "source": [
    "To improve the oduction of squalene, overexpression could be done to several genes in the production pathway. "
   ]
  },
  {
   "cell_type": "code",
   "execution_count": 3,
   "metadata": {},
   "outputs": [],
   "source": [
    "from cobra.flux_analysis import flux_variability_analysis\n",
    "#Model input\n",
    "modelOE=read_sbml_model('iJN678mod.xml')"
   ]
  },
  {
   "cell_type": "code",
   "execution_count": 4,
   "metadata": {},
   "outputs": [
    {
     "name": "stdout",
     "output_type": "stream",
     "text": [
      "The genes that could be overexpressed are:\n",
      "sll0513, encoding: Squalene synthase SQLS: 2.0 frdp_c + h_c + nadph_c --> nadp_c + 2.0 ppi_c + sql_c\n",
      "sll1945, encoding: 1-deoxy-D-xylulose 5-phosphate synthase: DXPS: g3p_c + h_c + pyr_c --> co2_c + dxyl5p_c\n",
      "sll1556, encoding: Isopentenyl-diphosphate D-isomerase IPDDI: ipdp_c <=> dmpp_c\n",
      "pys, encoding: Geranyltranstransferase GRTT: grdp_c + ipdp_c --> frdp_c + ppi_c\n"
     ]
    }
   ],
   "source": [
    "#change the culture condition to be fully autotrophic as production needed\n",
    "co2OE=modelOE.reactions.get_by_id(\"EX_co2_e\")\n",
    "photonOE=modelOE.reactions.get_by_id(\"EX_photon_e\")\n",
    "hco3OE=modelOE.reactions.get_by_id(\"EX_hco3_e\")\n",
    "\n",
    "co2OE.bounds=(-3.7,1000.0)\n",
    "hco3OE.bounds= (-3.7,1000.0)\n",
    "photonOE.bounds= (-100,0)\n",
    "\n",
    "medium = modelOE.medium\n",
    "medium[\"EX_glc__D_e\"] = 0.0\n",
    "medium[\"EX_hco3_e\"] = 0.0\n",
    "medium[\"EX_photon_e\"]=54.5\n",
    "modelOE.medium = medium\n",
    "print(\"The genes that could be overexpressed are:\")\n",
    "print(\"sll0513, encoding: Squalene synthase\" , modelOE.reactions.get_by_id(\"SQLS\"))\n",
    "print(\"sll1945, encoding: 1-deoxy-D-xylulose 5-phosphate synthase:\" , modelOE.reactions.get_by_id(\"DXPS\"))\n",
    "print(\"sll1556, encoding: Isopentenyl-diphosphate D-isomerase\" , modelOE.reactions.get_by_id(\"IPDDI\"))\n",
    "print(\"pys, encoding: Geranyltranstransferase\" , modelOE.reactions.get_by_id(\"GRTT\"))"
   ]
  },
  {
   "cell_type": "code",
   "execution_count": 5,
   "metadata": {},
   "outputs": [
    {
     "name": "stdout",
     "output_type": "stream",
     "text": [
      "The theoretical maximum Squalene production rate is:  0.1233333333333334 mmol/gdcw/h\n",
      "The CO2, carbon source, uptake rate is:  3.7 mmol/gdcw/h\n",
      "The biomass production under this condition is:  0.0 /h\n"
     ]
    }
   ],
   "source": [
    "#change objective to squalene production\n",
    "modelOE.objective = \"EX_sql_e\"\n",
    "print(\"The theoretical maximum Squalene production rate is: \", modelOE.optimize().objective_value, \"mmol/gdcw/h\")\n",
    "print(\"The CO2, carbon source, uptake rate is: \", -modelOE.optimize().fluxes['EX_co2_e'], \"mmol/gdcw/h\")\n",
    "print(\"The biomass production under this condition is: \" , modelOE.optimize().fluxes['BIOMASS_Ec_SynAuto'], \"/h\")"
   ]
  },
  {
   "cell_type": "code",
   "execution_count": 6,
   "metadata": {},
   "outputs": [
    {
     "data": {
      "text/html": [
       "<h3>Objective</h3><p>1.0 EX_sql_e = 0.1233333333333334</p><h4>Uptake</h4><table border=\"1\" class=\"dataframe\">\n",
       "  <thead>\n",
       "    <tr style=\"text-align: right;\">\n",
       "      <th>Metabolite</th>\n",
       "      <th>Reaction</th>\n",
       "      <th>Flux</th>\n",
       "      <th>C-Number</th>\n",
       "      <th>C-Flux</th>\n",
       "    </tr>\n",
       "  </thead>\n",
       "  <tbody>\n",
       "    <tr>\n",
       "      <td>co2_e</td>\n",
       "      <td>EX_co2_e</td>\n",
       "      <td>3.7</td>\n",
       "      <td>1</td>\n",
       "      <td>100.00%</td>\n",
       "    </tr>\n",
       "    <tr>\n",
       "      <td>h2o_e</td>\n",
       "      <td>EX_h2o_e</td>\n",
       "      <td>3.083</td>\n",
       "      <td>0</td>\n",
       "      <td>0.00%</td>\n",
       "    </tr>\n",
       "    <tr>\n",
       "      <td>h_e</td>\n",
       "      <td>EX_h_e</td>\n",
       "      <td>0.1233</td>\n",
       "      <td>0</td>\n",
       "      <td>0.00%</td>\n",
       "    </tr>\n",
       "    <tr>\n",
       "      <td>photon_e</td>\n",
       "      <td>EX_photon_e</td>\n",
       "      <td>49.33</td>\n",
       "      <td>0</td>\n",
       "      <td>0.00%</td>\n",
       "    </tr>\n",
       "  </tbody>\n",
       "</table><h4>Secretion</h4><table border=\"1\" class=\"dataframe\">\n",
       "  <thead>\n",
       "    <tr style=\"text-align: right;\">\n",
       "      <th>Metabolite</th>\n",
       "      <th>Reaction</th>\n",
       "      <th>Flux</th>\n",
       "      <th>C-Number</th>\n",
       "      <th>C-Flux</th>\n",
       "    </tr>\n",
       "  </thead>\n",
       "  <tbody>\n",
       "    <tr>\n",
       "      <td>o2_e</td>\n",
       "      <td>EX_o2_e</td>\n",
       "      <td>-5.242</td>\n",
       "      <td>0</td>\n",
       "      <td>0.00%</td>\n",
       "    </tr>\n",
       "    <tr>\n",
       "      <td>sql_e</td>\n",
       "      <td>EX_sql_e</td>\n",
       "      <td>-0.1233</td>\n",
       "      <td>0</td>\n",
       "      <td>0.00%</td>\n",
       "    </tr>\n",
       "  </tbody>\n",
       "</table>"
      ],
      "text/plain": [
       "<cobra.summary.model_summary.ModelSummary at 0x7fcd910c0e20>"
      ]
     },
     "execution_count": 6,
     "metadata": {},
     "output_type": "execute_result"
    }
   ],
   "source": [
    "modelOE.summary()"
   ]
  },
  {
   "cell_type": "markdown",
   "metadata": {},
   "source": [
    "The objective of the model is now changed to producing squalene from using CO2 as carbon source."
   ]
  },
  {
   "cell_type": "code",
   "execution_count": 7,
   "metadata": {},
   "outputs": [
    {
     "data": {
      "image/png": "[encoded data removed]",
      "text/plain": [
       "<Figure size 432x288 with 1 Axes>"
      ]
     },
     "metadata": {
      "needs_background": "light"
     },
     "output_type": "display_data"
    }
   ],
   "source": [
    "x=[]\n",
    "y=[]\n",
    "z=[]\n",
    "k=[]\n",
    "Biomass=[]\n",
    "Productivity=[]\n",
    "SQL=[]\n",
    "optimum_value=[]\n",
    "with modelOE:\n",
    "        medium = modelOE.medium\n",
    "        modelOE.objective = \"EX_sql_e\"\n",
    "        optimum=modelOE.optimize().objective_value\n",
    "        i=0.05\n",
    "        while i<1:\n",
    "            FVA=flux_variability_analysis(modelOE,modelOE.reactions.BIOMASS_Ec_SynAuto,fraction_of_optimum=i)\n",
    "            Biomass.append(FVA.maximum.item())\n",
    "            Productivity.append(-i*optimum*FVA.maximum.item()/modelOE.optimize().fluxes['EX_co2_e'])\n",
    "            SQL.append(i*optimum)\n",
    "            optimum_value.append(i)\n",
    "            i+=0.05 \n",
    "        x.append(Biomass)\n",
    "        y.append(Productivity)\n",
    "        z.append(SQL)\n",
    "        k.append(optimum_value)\n",
    "\n",
    "import matplotlib.pyplot as plt\n",
    "for i in range (0,len(y)):\n",
    "    plt.figure()\n",
    "    plt.plot(x[i],y[i])\n",
    "    plt.xlabel(\"Biomass\")\n",
    "    plt.ylabel(\"Productivity\")\n",
    "    plt.title('SQL Productivity') \n",
    "plt.show()"
   ]
  },
  {
   "cell_type": "markdown",
   "metadata": {},
   "source": [
    "The plot shows the productivity vs biomass. As it can be seen, the productivity reaches its maximum when biomass is controlled at a mdedium level."
   ]
  },
  {
   "cell_type": "code",
   "execution_count": 8,
   "metadata": {},
   "outputs": [
    {
     "name": "stdout",
     "output_type": "stream",
     "text": [
      "The highest productivity will be reached when:\n",
      "growth rate is  0.04859441594166733 /h,\n",
      "and the corresponding productivity will be 0.0007289162391250104 mol/mol/h\n",
      "The squalene production rate will be 0.05550000000000004 mmol/gdcw/h.\n",
      "The optimum value set for production of SQL is 0.44999999999999996\n"
     ]
    }
   ],
   "source": [
    "Biomass_sorted,Productivity_sorted,SQLsorted,optimum_value_sorted = zip(*sorted(list(zip(Biomass, Productivity,SQL,optimum_value)), key=lambda item: item[1], reverse=True))\n",
    "print(\"The highest productivity will be reached when:\")\n",
    "print(\"growth rate is \", Biomass_sorted[1], \"/h,\")\n",
    "print(\"and the corresponding productivity will be\", Productivity_sorted[1], \"mol/mol/h\")\n",
    "print(\"The squalene production rate will be\",SQLsorted[1], \"mmol/gdcw/h.\" )\n",
    "print(\"The optimum value set for production of SQL is\",  optimum_value_sorted[1])"
   ]
  },
  {
   "cell_type": "code",
   "execution_count": 9,
   "metadata": {},
   "outputs": [
    {
     "name": "stdout",
     "output_type": "stream",
     "text": [
      "The optimal fluxes of the reaction corresponding to the overexpression genes are:\n",
      "For Squalene synthase:  0.06783333333333337\n",
      "For 1-deoxy-D-xylulose 5-phosphate synthase: 0.4143385517945843\n",
      "For Isopentenyl-diphosphate D-isomerase 0.0 #reversible reaction\n",
      "For Geranyltranstransferase 0.13750203523663862\n"
     ]
    }
   ],
   "source": [
    "#set the bounds of SQLS\n",
    "modelOE.reactions.get_by_id('SQLS').bounds = (0.06783333333333337,0.06783333333333337)\n",
    "print(\"The optimal fluxes of the reaction corresponding to the overexpression genes are:\")\n",
    "print(\"For Squalene synthase: \", modelOE.optimize().fluxes['SQLS'])\n",
    "print(\"For 1-deoxy-D-xylulose 5-phosphate synthase:\" , modelOE.optimize().fluxes['DXPS'])\n",
    "print(\"For Isopentenyl-diphosphate D-isomerase\" , modelOE.optimize().fluxes[\"IPDDI\"], \"#reversible reaction\")\n",
    "print(\"For Geranyltranstransferase\" , modelOE.optimize().fluxes[\"GRTT\"])"
   ]
  },
  {
   "cell_type": "code",
   "execution_count": 10,
   "metadata": {},
   "outputs": [
    {
     "name": "stdout",
     "output_type": "stream",
     "text": [
      "Compare the optimum flux with original model optimised only for cell growth, the expression levels are increased as follows:\n",
      "For Squalene synthase: the flux increased from 0.0 to 0.06783333333333337\n",
      "For 1-deoxy-D-xylulose 5-phosphate synthase, flux increased by: 3885.7421363707817 %\n",
      "For Isopentenyl-diphosphate D-isomerase , flux increased by: 74.99004406662613 %, in the direction of favouring Isopentenyl diphosphate\n",
      "For Geranyltranstransferase, flux increased by: 5156.02284510191 %\n"
     ]
    }
   ],
   "source": [
    "#To compare with model optimised for cell growth\n",
    "model_growth=read_sbml_model('iJN678mod.xml')  \n",
    "model_growth.objective = \"BIOMASS_Ec_SynAuto\"\n",
    "\n",
    "print(\"Compare the optimum flux with original model optimised only for cell growth, the expression levels are increased as follows:\")\n",
    "print(\"For Squalene synthase: the flux increased from\", model_growth.optimize().fluxes['SQLS'], \"to\", modelOE.optimize().fluxes['SQLS'])\n",
    "print(\"For 1-deoxy-D-xylulose 5-phosphate synthase, flux increased by:\" , modelOE.optimize().fluxes['DXPS']*100/model_growth.optimize().fluxes['DXPS'], \"%\")\n",
    "ipddiflux=flux_variability_analysis(model_growth,model_growth.reactions.get_by_id(\"IPDDI\"),fraction_of_optimum=1)\n",
    "ipddi_increase = (modelOE.optimize().fluxes[\"IPDDI\"]-ipddiflux.minimum.item())*100/(model_growth.optimize().fluxes[\"IPDDI\"]-ipddiflux.minimum.item())\n",
    "print(\"For Isopentenyl-diphosphate D-isomerase , flux increased by:\", ipddi_increase, \"%, in the direction of favouring Isopentenyl diphosphate\")\n",
    "print(\"For Geranyltranstransferase, flux increased by:\" , modelOE.optimize().fluxes[\"GRTT\"]*100/model_growth.optimize().fluxes[\"GRTT\"], \"%\")"
   ]
  },
  {
   "cell_type": "code",
   "execution_count": null,
   "metadata": {},
   "outputs": [],
   "source": []
  },
  {
   "cell_type": "code",
   "execution_count": null,
   "metadata": {},
   "outputs": [],
   "source": []
  },
  {
   "cell_type": "markdown",
   "metadata": {},
   "source": [
    "### 4.5 Simulation of batch cultivations"
   ]
  },
  {
   "cell_type": "markdown",
   "metadata": {},
   "source": [
    "### 4.6 Assessment of the predicted strains"
   ]
  },
  {
   "cell_type": "markdown",
   "metadata": {},
   "source": [
    "## 5. Discussion (<500 words)"
   ]
  },
  {
   "cell_type": "markdown",
   "metadata": {},
   "source": [
    "## 6. Conclusion (<200 words)"
   ]
  },
  {
   "cell_type": "markdown",
   "metadata": {},
   "source": [
    "## References"
   ]
  },
  {
   "cell_type": "code",
   "execution_count": null,
   "metadata": {},
   "outputs": [],
   "source": []
  }
 ],
 "metadata": {
  "kernelspec": {
   "display_name": "Python 3 (ipykernel)",
   "language": "python",
   "name": "python3"
  },
  "language_info": {
   "codemirror_mode": {
    "name": "ipython",
    "version": 3
   },
   "file_extension": ".py",
   "mimetype": "text/x-python",
   "name": "python",
   "nbconvert_exporter": "python",
   "pygments_lexer": "ipython3",
   "version": "3.9.12"
  }
 },
 "nbformat": 4,
 "nbformat_minor": 4
}
