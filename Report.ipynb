{
 "cells": [
  {
   "cell_type": "markdown",
   "metadata": {},
   "source": [
    "\n",
    "# Optimization of squalene production in _Synechocystis sp._ PCC 6380\n"
   ]
  },
  {
   "cell_type": "markdown",
   "metadata": {},
   "source": [
    "This work relies on the following packages for its execution:\n",
    "\n",
    "    - cobra\n",
    "    - cameo\n",
    "    - tabulate\n",
    " \n",
    "It must be noted that, to access the full suite of cameo functions, the cobra function find_gene_knockout_reactions must be added for the latest cobra version. To do so, we suggest updating the delete.py at Users/\"user-name\"/anaconda3/Lib/site-packages/cobra/manipulation with the one found in this repository. Be sure to change user-name to your respective repository."
   ]
  },
  {
   "cell_type": "code",
   "execution_count": 1,
   "metadata": {},
   "outputs": [
    {
     "data": {
      "application/javascript": [
       "\n",
       "(function(root) {\n",
       "  function now() {\n",
       "    return new Date();\n",
       "  }\n",
       "\n",
       "  const force = true;\n",
       "\n",
       "  if (typeof root._bokeh_onload_callbacks === \"undefined\" || force === true) {\n",
       "    root._bokeh_onload_callbacks = [];\n",
       "    root._bokeh_is_loading = undefined;\n",
       "  }\n",
       "\n",
       "  const JS_MIME_TYPE = 'application/javascript';\n",
       "  const HTML_MIME_TYPE = 'text/html';\n",
       "  const EXEC_MIME_TYPE = 'application/vnd.bokehjs_exec.v0+json';\n",
       "  const CLASS_NAME = 'output_bokeh rendered_html';\n",
       "\n",
       "  /**\n",
       "   * Render data to the DOM node\n",
       "   */\n",
       "  function render(props, node) {\n",
       "    const script = document.createElement(\"script\");\n",
       "    node.appendChild(script);\n",
       "  }\n",
       "\n",
       "  /**\n",
       "   * Handle when an output is cleared or removed\n",
       "   */\n",
       "  function handleClearOutput(event, handle) {\n",
       "    const cell = handle.cell;\n",
       "\n",
       "    const id = cell.output_area._bokeh_element_id;\n",
       "    const server_id = cell.output_area._bokeh_server_id;\n",
       "    // Clean up Bokeh references\n",
       "    if (id != null && id in Bokeh.index) {\n",
       "      Bokeh.index[id].model.document.clear();\n",
       "      delete Bokeh.index[id];\n",
       "    }\n",
       "\n",
       "    if (server_id !== undefined) {\n",
       "      // Clean up Bokeh references\n",
       "      const cmd_clean = \"from bokeh.io.state import curstate; print(curstate().uuid_to_server['\" + server_id + \"'].get_sessions()[0].document.roots[0]._id)\";\n",
       "      cell.notebook.kernel.execute(cmd_clean, {\n",
       "        iopub: {\n",
       "          output: function(msg) {\n",
       "            const id = msg.content.text.trim();\n",
       "            if (id in Bokeh.index) {\n",
       "              Bokeh.index[id].model.document.clear();\n",
       "              delete Bokeh.index[id];\n",
       "            }\n",
       "          }\n",
       "        }\n",
       "      });\n",
       "      // Destroy server and session\n",
       "      const cmd_destroy = \"import bokeh.io.notebook as ion; ion.destroy_server('\" + server_id + \"')\";\n",
       "      cell.notebook.kernel.execute(cmd_destroy);\n",
       "    }\n",
       "  }\n",
       "\n",
       "  /**\n",
       "   * Handle when a new output is added\n",
       "   */\n",
       "  function handleAddOutput(event, handle) {\n",
       "    const output_area = handle.output_area;\n",
       "    const output = handle.output;\n",
       "\n",
       "    // limit handleAddOutput to display_data with EXEC_MIME_TYPE content only\n",
       "    if ((output.output_type != \"display_data\") || (!Object.prototype.hasOwnProperty.call(output.data, EXEC_MIME_TYPE))) {\n",
       "      return\n",
       "    }\n",
       "\n",
       "    const toinsert = output_area.element.find(\".\" + CLASS_NAME.split(' ')[0]);\n",
       "\n",
       "    if (output.metadata[EXEC_MIME_TYPE][\"id\"] !== undefined) {\n",
       "      toinsert[toinsert.length - 1].firstChild.textContent = output.data[JS_MIME_TYPE];\n",
       "      // store reference to embed id on output_area\n",
       "      output_area._bokeh_element_id = output.metadata[EXEC_MIME_TYPE][\"id\"];\n",
       "    }\n",
       "    if (output.metadata[EXEC_MIME_TYPE][\"server_id\"] !== undefined) {\n",
       "      const bk_div = document.createElement(\"div\");\n",
       "      bk_div.innerHTML = output.data[HTML_MIME_TYPE];\n",
       "      const script_attrs = bk_div.children[0].attributes;\n",
       "      for (let i = 0; i < script_attrs.length; i++) {\n",
       "        toinsert[toinsert.length - 1].firstChild.setAttribute(script_attrs[i].name, script_attrs[i].value);\n",
       "        toinsert[toinsert.length - 1].firstChild.textContent = bk_div.children[0].textContent\n",
       "      }\n",
       "      // store reference to server id on output_area\n",
       "      output_area._bokeh_server_id = output.metadata[EXEC_MIME_TYPE][\"server_id\"];\n",
       "    }\n",
       "  }\n",
       "\n",
       "  function register_renderer(events, OutputArea) {\n",
       "\n",
       "    function append_mime(data, metadata, element) {\n",
       "      // create a DOM node to render to\n",
       "      const toinsert = this.create_output_subarea(\n",
       "        metadata,\n",
       "        CLASS_NAME,\n",
       "        EXEC_MIME_TYPE\n",
       "      );\n",
       "      this.keyboard_manager.register_events(toinsert);\n",
       "      // Render to node\n",
       "      const props = {data: data, metadata: metadata[EXEC_MIME_TYPE]};\n",
       "      render(props, toinsert[toinsert.length - 1]);\n",
       "      element.append(toinsert);\n",
       "      return toinsert\n",
       "    }\n",
       "\n",
       "    /* Handle when an output is cleared or removed */\n",
       "    events.on('clear_output.CodeCell', handleClearOutput);\n",
       "    events.on('delete.Cell', handleClearOutput);\n",
       "\n",
       "    /* Handle when a new output is added */\n",
       "    events.on('output_added.OutputArea', handleAddOutput);\n",
       "\n",
       "    /**\n",
       "     * Register the mime type and append_mime function with output_area\n",
       "     */\n",
       "    OutputArea.prototype.register_mime_type(EXEC_MIME_TYPE, append_mime, {\n",
       "      /* Is output safe? */\n",
       "      safe: true,\n",
       "      /* Index of renderer in `output_area.display_order` */\n",
       "      index: 0\n",
       "    });\n",
       "  }\n",
       "\n",
       "  // register the mime type if in Jupyter Notebook environment and previously unregistered\n",
       "  if (root.Jupyter !== undefined) {\n",
       "    const events = require('base/js/events');\n",
       "    const OutputArea = require('notebook/js/outputarea').OutputArea;\n",
       "\n",
       "    if (OutputArea.prototype.mime_types().indexOf(EXEC_MIME_TYPE) == -1) {\n",
       "      register_renderer(events, OutputArea);\n",
       "    }\n",
       "  }\n",
       "\n",
       "  \n",
       "  if (typeof (root._bokeh_timeout) === \"undefined\" || force === true) {\n",
       "    root._bokeh_timeout = Date.now() + 5000;\n",
       "    root._bokeh_failed_load = false;\n",
       "  }\n",
       "\n",
       "  const NB_LOAD_WARNING = {'data': {'text/html':\n",
       "     \"<div style='background-color: #fdd'>\\n\"+\n",
       "     \"<p>\\n\"+\n",
       "     \"BokehJS does not appear to have successfully loaded. If loading BokehJS from CDN, this \\n\"+\n",
       "     \"may be due to a slow or bad network connection. Possible fixes:\\n\"+\n",
       "     \"</p>\\n\"+\n",
       "     \"<ul>\\n\"+\n",
       "     \"<li>re-rerun `output_notebook()` to attempt to load from CDN again, or</li>\\n\"+\n",
       "     \"<li>use INLINE resources instead, as so:</li>\\n\"+\n",
       "     \"</ul>\\n\"+\n",
       "     \"<code>\\n\"+\n",
       "     \"from bokeh.resources import INLINE\\n\"+\n",
       "     \"output_notebook(resources=INLINE)\\n\"+\n",
       "     \"</code>\\n\"+\n",
       "     \"</div>\"}};\n",
       "\n",
       "  function display_loaded() {\n",
       "    const el = document.getElementById(null);\n",
       "    if (el != null) {\n",
       "      el.textContent = \"BokehJS is loading...\";\n",
       "    }\n",
       "    if (root.Bokeh !== undefined) {\n",
       "      if (el != null) {\n",
       "        el.textContent = \"BokehJS \" + root.Bokeh.version + \" successfully loaded.\";\n",
       "      }\n",
       "    } else if (Date.now() < root._bokeh_timeout) {\n",
       "      setTimeout(display_loaded, 100)\n",
       "    }\n",
       "  }\n",
       "\n",
       "\n",
       "  function run_callbacks() {\n",
       "    try {\n",
       "      root._bokeh_onload_callbacks.forEach(function(callback) {\n",
       "        if (callback != null)\n",
       "          callback();\n",
       "      });\n",
       "    } finally {\n",
       "      delete root._bokeh_onload_callbacks\n",
       "    }\n",
       "    console.debug(\"Bokeh: all callbacks have finished\");\n",
       "  }\n",
       "\n",
       "  function load_libs(css_urls, js_urls, callback) {\n",
       "    if (css_urls == null) css_urls = [];\n",
       "    if (js_urls == null) js_urls = [];\n",
       "\n",
       "    root._bokeh_onload_callbacks.push(callback);\n",
       "    if (root._bokeh_is_loading > 0) {\n",
       "      console.debug(\"Bokeh: BokehJS is being loaded, scheduling callback at\", now());\n",
       "      return null;\n",
       "    }\n",
       "    if (js_urls == null || js_urls.length === 0) {\n",
       "      run_callbacks();\n",
       "      return null;\n",
       "    }\n",
       "    console.debug(\"Bokeh: BokehJS not loaded, scheduling load and callback at\", now());\n",
       "    root._bokeh_is_loading = css_urls.length + js_urls.length;\n",
       "\n",
       "    function on_load() {\n",
       "      root._bokeh_is_loading--;\n",
       "      if (root._bokeh_is_loading === 0) {\n",
       "        console.debug(\"Bokeh: all BokehJS libraries/stylesheets loaded\");\n",
       "        run_callbacks()\n",
       "      }\n",
       "    }\n",
       "\n",
       "    function on_error(url) {\n",
       "      console.error(\"failed to load \" + url);\n",
       "    }\n",
       "\n",
       "    for (let i = 0; i < css_urls.length; i++) {\n",
       "      const url = css_urls[i];\n",
       "      const element = document.createElement(\"link\");\n",
       "      element.onload = on_load;\n",
       "      element.onerror = on_error.bind(null, url);\n",
       "      element.rel = \"stylesheet\";\n",
       "      element.type = \"text/css\";\n",
       "      element.href = url;\n",
       "      console.debug(\"Bokeh: injecting link tag for BokehJS stylesheet: \", url);\n",
       "      document.body.appendChild(element);\n",
       "    }\n",
       "\n",
       "    for (let i = 0; i < js_urls.length; i++) {\n",
       "      const url = js_urls[i];\n",
       "      const element = document.createElement('script');\n",
       "      element.onload = on_load;\n",
       "      element.onerror = on_error.bind(null, url);\n",
       "      element.async = false;\n",
       "      element.src = url;\n",
       "      console.debug(\"Bokeh: injecting script tag for BokehJS library: \", url);\n",
       "      document.head.appendChild(element);\n",
       "    }\n",
       "  };\n",
       "\n",
       "  function inject_raw_css(css) {\n",
       "    const element = document.createElement(\"style\");\n",
       "    element.appendChild(document.createTextNode(css));\n",
       "    document.body.appendChild(element);\n",
       "  }\n",
       "\n",
       "  \n",
       "  const js_urls = [\"https://cdn.bokeh.org/bokeh/release/bokeh-2.4.2.min.js\", \"https://cdn.bokeh.org/bokeh/release/bokeh-gl-2.4.2.min.js\", \"https://cdn.bokeh.org/bokeh/release/bokeh-widgets-2.4.2.min.js\", \"https://cdn.bokeh.org/bokeh/release/bokeh-tables-2.4.2.min.js\", \"https://cdn.bokeh.org/bokeh/release/bokeh-mathjax-2.4.2.min.js\"];\n",
       "  const css_urls = [];\n",
       "  \n",
       "\n",
       "  const inline_js = [\n",
       "    function(Bokeh) {\n",
       "      Bokeh.set_log_level(\"info\");\n",
       "    },\n",
       "    function(Bokeh) {\n",
       "    \n",
       "    \n",
       "    }\n",
       "  ];\n",
       "\n",
       "  function run_inline_js() {\n",
       "    \n",
       "    if (root.Bokeh !== undefined || force === true) {\n",
       "      \n",
       "    for (let i = 0; i < inline_js.length; i++) {\n",
       "      inline_js[i].call(root, root.Bokeh);\n",
       "    }\n",
       "    } else if (Date.now() < root._bokeh_timeout) {\n",
       "      setTimeout(run_inline_js, 100);\n",
       "    } else if (!root._bokeh_failed_load) {\n",
       "      console.log(\"Bokeh: BokehJS failed to load within specified timeout.\");\n",
       "      root._bokeh_failed_load = true;\n",
       "    } else if (force !== true) {\n",
       "      const cell = $(document.getElementById(null)).parents('.cell').data().cell;\n",
       "      cell.output_area.append_execute_result(NB_LOAD_WARNING)\n",
       "    }\n",
       "\n",
       "  }\n",
       "\n",
       "  if (root._bokeh_is_loading === 0) {\n",
       "    console.debug(\"Bokeh: BokehJS loaded, going straight to plotting\");\n",
       "    run_inline_js();\n",
       "  } else {\n",
       "    load_libs(css_urls, js_urls, function() {\n",
       "      console.debug(\"Bokeh: BokehJS plotting callback run at\", now());\n",
       "      run_inline_js();\n",
       "    });\n",
       "  }\n",
       "}(window));"
      ],
      "application/vnd.bokehjs_load.v0+json": "\n(function(root) {\n  function now() {\n    return new Date();\n  }\n\n  const force = true;\n\n  if (typeof root._bokeh_onload_callbacks === \"undefined\" || force === true) {\n    root._bokeh_onload_callbacks = [];\n    root._bokeh_is_loading = undefined;\n  }\n\n  \n\n  \n  if (typeof (root._bokeh_timeout) === \"undefined\" || force === true) {\n    root._bokeh_timeout = Date.now() + 5000;\n    root._bokeh_failed_load = false;\n  }\n\n  const NB_LOAD_WARNING = {'data': {'text/html':\n     \"<div style='background-color: #fdd'>\\n\"+\n     \"<p>\\n\"+\n     \"BokehJS does not appear to have successfully loaded. If loading BokehJS from CDN, this \\n\"+\n     \"may be due to a slow or bad network connection. Possible fixes:\\n\"+\n     \"</p>\\n\"+\n     \"<ul>\\n\"+\n     \"<li>re-rerun `output_notebook()` to attempt to load from CDN again, or</li>\\n\"+\n     \"<li>use INLINE resources instead, as so:</li>\\n\"+\n     \"</ul>\\n\"+\n     \"<code>\\n\"+\n     \"from bokeh.resources import INLINE\\n\"+\n     \"output_notebook(resources=INLINE)\\n\"+\n     \"</code>\\n\"+\n     \"</div>\"}};\n\n  function display_loaded() {\n    const el = document.getElementById(null);\n    if (el != null) {\n      el.textContent = \"BokehJS is loading...\";\n    }\n    if (root.Bokeh !== undefined) {\n      if (el != null) {\n        el.textContent = \"BokehJS \" + root.Bokeh.version + \" successfully loaded.\";\n      }\n    } else if (Date.now() < root._bokeh_timeout) {\n      setTimeout(display_loaded, 100)\n    }\n  }\n\n\n  function run_callbacks() {\n    try {\n      root._bokeh_onload_callbacks.forEach(function(callback) {\n        if (callback != null)\n          callback();\n      });\n    } finally {\n      delete root._bokeh_onload_callbacks\n    }\n    console.debug(\"Bokeh: all callbacks have finished\");\n  }\n\n  function load_libs(css_urls, js_urls, callback) {\n    if (css_urls == null) css_urls = [];\n    if (js_urls == null) js_urls = [];\n\n    root._bokeh_onload_callbacks.push(callback);\n    if (root._bokeh_is_loading > 0) {\n      console.debug(\"Bokeh: BokehJS is being loaded, scheduling callback at\", now());\n      return null;\n    }\n    if (js_urls == null || js_urls.length === 0) {\n      run_callbacks();\n      return null;\n    }\n    console.debug(\"Bokeh: BokehJS not loaded, scheduling load and callback at\", now());\n    root._bokeh_is_loading = css_urls.length + js_urls.length;\n\n    function on_load() {\n      root._bokeh_is_loading--;\n      if (root._bokeh_is_loading === 0) {\n        console.debug(\"Bokeh: all BokehJS libraries/stylesheets loaded\");\n        run_callbacks()\n      }\n    }\n\n    function on_error(url) {\n      console.error(\"failed to load \" + url);\n    }\n\n    for (let i = 0; i < css_urls.length; i++) {\n      const url = css_urls[i];\n      const element = document.createElement(\"link\");\n      element.onload = on_load;\n      element.onerror = on_error.bind(null, url);\n      element.rel = \"stylesheet\";\n      element.type = \"text/css\";\n      element.href = url;\n      console.debug(\"Bokeh: injecting link tag for BokehJS stylesheet: \", url);\n      document.body.appendChild(element);\n    }\n\n    for (let i = 0; i < js_urls.length; i++) {\n      const url = js_urls[i];\n      const element = document.createElement('script');\n      element.onload = on_load;\n      element.onerror = on_error.bind(null, url);\n      element.async = false;\n      element.src = url;\n      console.debug(\"Bokeh: injecting script tag for BokehJS library: \", url);\n      document.head.appendChild(element);\n    }\n  };\n\n  function inject_raw_css(css) {\n    const element = document.createElement(\"style\");\n    element.appendChild(document.createTextNode(css));\n    document.body.appendChild(element);\n  }\n\n  \n  const js_urls = [\"https://cdn.bokeh.org/bokeh/release/bokeh-2.4.2.min.js\", \"https://cdn.bokeh.org/bokeh/release/bokeh-gl-2.4.2.min.js\", \"https://cdn.bokeh.org/bokeh/release/bokeh-widgets-2.4.2.min.js\", \"https://cdn.bokeh.org/bokeh/release/bokeh-tables-2.4.2.min.js\", \"https://cdn.bokeh.org/bokeh/release/bokeh-mathjax-2.4.2.min.js\"];\n  const css_urls = [];\n  \n\n  const inline_js = [\n    function(Bokeh) {\n      Bokeh.set_log_level(\"info\");\n    },\n    function(Bokeh) {\n    \n    \n    }\n  ];\n\n  function run_inline_js() {\n    \n    if (root.Bokeh !== undefined || force === true) {\n      \n    for (let i = 0; i < inline_js.length; i++) {\n      inline_js[i].call(root, root.Bokeh);\n    }\n    } else if (Date.now() < root._bokeh_timeout) {\n      setTimeout(run_inline_js, 100);\n    } else if (!root._bokeh_failed_load) {\n      console.log(\"Bokeh: BokehJS failed to load within specified timeout.\");\n      root._bokeh_failed_load = true;\n    } else if (force !== true) {\n      const cell = $(document.getElementById(null)).parents('.cell').data().cell;\n      cell.output_area.append_execute_result(NB_LOAD_WARNING)\n    }\n\n  }\n\n  if (root._bokeh_is_loading === 0) {\n    console.debug(\"Bokeh: BokehJS loaded, going straight to plotting\");\n    run_inline_js();\n  } else {\n    load_libs(css_urls, js_urls, function() {\n      console.debug(\"Bokeh: BokehJS plotting callback run at\", now());\n      run_inline_js();\n    });\n  }\n}(window));"
     },
     "metadata": {},
     "output_type": "display_data"
    },
    {
     "ename": "ImportError",
     "evalue": "cannot import name 'find_gene_knockout_reactions' from 'cobra.manipulation.delete' (/Users/nfarooqi/opt/anaconda3/lib/python3.9/site-packages/cobra/manipulation/delete.py)",
     "output_type": "error",
     "traceback": [
      "\u001b[0;31m---------------------------------------------------------------------------\u001b[0m",
      "\u001b[0;31mImportError\u001b[0m                               Traceback (most recent call last)",
      "Input \u001b[0;32mIn [1]\u001b[0m, in \u001b[0;36m<cell line: 11>\u001b[0;34m()\u001b[0m\n\u001b[1;32m      9\u001b[0m \u001b[38;5;28;01mfrom\u001b[39;00m \u001b[38;5;21;01mcameo\u001b[39;00m \u001b[38;5;28;01mimport\u001b[39;00m load_model\n\u001b[1;32m     10\u001b[0m \u001b[38;5;28;01mfrom\u001b[39;00m \u001b[38;5;21;01mcameo\u001b[39;00m \u001b[38;5;28;01mimport\u001b[39;00m phenotypic_phase_plane\n\u001b[0;32m---> 11\u001b[0m \u001b[38;5;28;01mfrom\u001b[39;00m \u001b[38;5;21;01mcameo\u001b[39;00m\u001b[38;5;21;01m.\u001b[39;00m\u001b[38;5;21;01mstrain_design\u001b[39;00m \u001b[38;5;28;01mimport\u001b[39;00m OptGene\n\u001b[1;32m     12\u001b[0m \u001b[38;5;28;01mfrom\u001b[39;00m \u001b[38;5;21;01mtabulate\u001b[39;00m \u001b[38;5;28;01mimport\u001b[39;00m tabulate\n",
      "File \u001b[0;32m~/opt/anaconda3/lib/python3.9/site-packages/cameo/strain_design/__init__.py:18\u001b[0m, in \u001b[0;36m<module>\u001b[0;34m\u001b[0m\n\u001b[1;32m     15\u001b[0m \u001b[38;5;28;01mfrom\u001b[39;00m \u001b[38;5;21;01m__future__\u001b[39;00m \u001b[38;5;28;01mimport\u001b[39;00m absolute_import\n\u001b[1;32m     17\u001b[0m \u001b[38;5;28;01mfrom\u001b[39;00m \u001b[38;5;21;01mcameo\u001b[39;00m\u001b[38;5;21;01m.\u001b[39;00m\u001b[38;5;21;01mstrain_design\u001b[39;00m\u001b[38;5;21;01m.\u001b[39;00m\u001b[38;5;21;01mdeterministic\u001b[39;00m \u001b[38;5;28;01mimport\u001b[39;00m OptKnock, FSEOF, DifferentialFVA\n\u001b[0;32m---> 18\u001b[0m \u001b[38;5;28;01mfrom\u001b[39;00m \u001b[38;5;21;01mcameo\u001b[39;00m\u001b[38;5;21;01m.\u001b[39;00m\u001b[38;5;21;01mstrain_design\u001b[39;00m\u001b[38;5;21;01m.\u001b[39;00m\u001b[38;5;21;01mheuristic\u001b[39;00m \u001b[38;5;28;01mimport\u001b[39;00m OptGene\n",
      "File \u001b[0;32m~/opt/anaconda3/lib/python3.9/site-packages/cameo/strain_design/heuristic/__init__.py:17\u001b[0m, in \u001b[0;36m<module>\u001b[0;34m\u001b[0m\n\u001b[1;32m      1\u001b[0m \u001b[38;5;66;03m# Copyright 2014 Novo Nordisk Foundation Center for Biosustainability, DTU.\u001b[39;00m\n\u001b[1;32m      2\u001b[0m \u001b[38;5;66;03m#\u001b[39;00m\n\u001b[1;32m      3\u001b[0m \u001b[38;5;66;03m# Licensed under the Apache License, Version 2.0 (the \"License\");\u001b[39;00m\n\u001b[0;32m   (...)\u001b[0m\n\u001b[1;32m     12\u001b[0m \u001b[38;5;66;03m# See the License for the specific language governing permissions and\u001b[39;00m\n\u001b[1;32m     13\u001b[0m \u001b[38;5;66;03m# limitations under the License.\u001b[39;00m\n\u001b[1;32m     15\u001b[0m \u001b[38;5;28;01mfrom\u001b[39;00m \u001b[38;5;21;01m__future__\u001b[39;00m \u001b[38;5;28;01mimport\u001b[39;00m absolute_import\n\u001b[0;32m---> 17\u001b[0m \u001b[38;5;28;01mfrom\u001b[39;00m \u001b[38;5;21;01mcameo\u001b[39;00m\u001b[38;5;21;01m.\u001b[39;00m\u001b[38;5;21;01mstrain_design\u001b[39;00m\u001b[38;5;21;01m.\u001b[39;00m\u001b[38;5;21;01mheuristic\u001b[39;00m\u001b[38;5;21;01m.\u001b[39;00m\u001b[38;5;21;01mevolutionary_based\u001b[39;00m \u001b[38;5;28;01mimport\u001b[39;00m OptGene\n",
      "File \u001b[0;32m~/opt/anaconda3/lib/python3.9/site-packages/cameo/strain_design/heuristic/evolutionary_based.py:38\u001b[0m, in \u001b[0;36m<module>\u001b[0;34m\u001b[0m\n\u001b[1;32m     34\u001b[0m \u001b[38;5;28;01mfrom\u001b[39;00m \u001b[38;5;21;01mcameo\u001b[39;00m\u001b[38;5;21;01m.\u001b[39;00m\u001b[38;5;21;01mstrain_design\u001b[39;00m\u001b[38;5;21;01m.\u001b[39;00m\u001b[38;5;21;01mheuristic\u001b[39;00m\u001b[38;5;21;01m.\u001b[39;00m\u001b[38;5;21;01mevolutionary\u001b[39;00m\u001b[38;5;21;01m.\u001b[39;00m\u001b[38;5;21;01mobjective_functions\u001b[39;00m \u001b[38;5;28;01mimport\u001b[39;00m biomass_product_coupled_min_yield, \\\n\u001b[1;32m     35\u001b[0m     biomass_product_coupled_yield\n\u001b[1;32m     36\u001b[0m \u001b[38;5;28;01mfrom\u001b[39;00m \u001b[38;5;21;01mcameo\u001b[39;00m\u001b[38;5;21;01m.\u001b[39;00m\u001b[38;5;21;01mstrain_design\u001b[39;00m\u001b[38;5;21;01m.\u001b[39;00m\u001b[38;5;21;01mheuristic\u001b[39;00m\u001b[38;5;21;01m.\u001b[39;00m\u001b[38;5;21;01mevolutionary\u001b[39;00m\u001b[38;5;21;01m.\u001b[39;00m\u001b[38;5;21;01moptimization\u001b[39;00m \u001b[38;5;28;01mimport\u001b[39;00m GeneKnockoutOptimization, \\\n\u001b[1;32m     37\u001b[0m     ReactionKnockoutOptimization, CofactorSwapOptimization, NADH_NADPH\n\u001b[0;32m---> 38\u001b[0m \u001b[38;5;28;01mfrom\u001b[39;00m \u001b[38;5;21;01mcameo\u001b[39;00m\u001b[38;5;21;01m.\u001b[39;00m\u001b[38;5;21;01mstrain_design\u001b[39;00m\u001b[38;5;21;01m.\u001b[39;00m\u001b[38;5;21;01mheuristic\u001b[39;00m\u001b[38;5;21;01m.\u001b[39;00m\u001b[38;5;21;01mevolutionary\u001b[39;00m\u001b[38;5;21;01m.\u001b[39;00m\u001b[38;5;21;01mprocessing\u001b[39;00m \u001b[38;5;28;01mimport\u001b[39;00m process_reaction_knockout_solution, \\\n\u001b[1;32m     39\u001b[0m     process_gene_knockout_solution, process_reaction_swap_solution\n\u001b[1;32m     40\u001b[0m \u001b[38;5;28;01mfrom\u001b[39;00m \u001b[38;5;21;01mcameo\u001b[39;00m\u001b[38;5;21;01m.\u001b[39;00m\u001b[38;5;21;01mutil\u001b[39;00m \u001b[38;5;28;01mimport\u001b[39;00m TimeMachine\n\u001b[1;32m     41\u001b[0m \u001b[38;5;28;01mfrom\u001b[39;00m \u001b[38;5;21;01mcameo\u001b[39;00m\u001b[38;5;21;01m.\u001b[39;00m\u001b[38;5;21;01mcore\u001b[39;00m\u001b[38;5;21;01m.\u001b[39;00m\u001b[38;5;21;01mutils\u001b[39;00m \u001b[38;5;28;01mimport\u001b[39;00m get_reaction_for\n",
      "File \u001b[0;32m~/opt/anaconda3/lib/python3.9/site-packages/cameo/strain_design/heuristic/evolutionary/processing.py:14\u001b[0m, in \u001b[0;36m<module>\u001b[0;34m\u001b[0m\n\u001b[1;32m      1\u001b[0m \u001b[38;5;66;03m# Copyright 2016 Novo Nordisk Foundation Center for Biosustainability, DTU.\u001b[39;00m\n\u001b[1;32m      2\u001b[0m \n\u001b[1;32m      3\u001b[0m \u001b[38;5;66;03m# Licensed under the Apache License, Version 2.0 (the \"License\");\u001b[39;00m\n\u001b[0;32m   (...)\u001b[0m\n\u001b[1;32m     12\u001b[0m \u001b[38;5;66;03m# See the License for the specific language governing permissions and\u001b[39;00m\n\u001b[1;32m     13\u001b[0m \u001b[38;5;66;03m# limitations under the License.\u001b[39;00m\n\u001b[0;32m---> 14\u001b[0m \u001b[38;5;28;01mfrom\u001b[39;00m \u001b[38;5;21;01mcobra\u001b[39;00m\u001b[38;5;21;01m.\u001b[39;00m\u001b[38;5;21;01mmanipulation\u001b[39;00m\u001b[38;5;21;01m.\u001b[39;00m\u001b[38;5;21;01mdelete\u001b[39;00m \u001b[38;5;28;01mimport\u001b[39;00m find_gene_knockout_reactions\n\u001b[1;32m     15\u001b[0m \u001b[38;5;28;01mfrom\u001b[39;00m \u001b[38;5;21;01mcameo\u001b[39;00m\u001b[38;5;21;01m.\u001b[39;00m\u001b[38;5;21;01mcore\u001b[39;00m\u001b[38;5;21;01m.\u001b[39;00m\u001b[38;5;21;01mmanipulation\u001b[39;00m \u001b[38;5;28;01mimport\u001b[39;00m swap_cofactors\n\u001b[1;32m     17\u001b[0m \u001b[38;5;28;01mfrom\u001b[39;00m \u001b[38;5;21;01mcameo\u001b[39;00m \u001b[38;5;28;01mimport\u001b[39;00m flux_variability_analysis\n",
      "\u001b[0;31mImportError\u001b[0m: cannot import name 'find_gene_knockout_reactions' from 'cobra.manipulation.delete' (/Users/nfarooqi/opt/anaconda3/lib/python3.9/site-packages/cobra/manipulation/delete.py)"
     ]
    }
   ],
   "source": [
    "#Necessary imports\n",
    "import cobra\n",
    "from cobra import Reaction, Metabolite, Model\n",
    "from cobra.io import read_sbml_model\n",
    "import cameo\n",
    "from cameo import phenotypic_phase_plane\n",
    "from cameo import models\n",
    "from cameo.visualization.plotting.with_plotly import PlotlyPlotter\n",
    "from cameo import load_model\n",
    "from cameo import phenotypic_phase_plane\n",
    "from cameo.strain_design import OptGene\n",
    "from tabulate import tabulate"
   ]
  },
  {
   "cell_type": "markdown",
   "metadata": {},
   "source": [
    "\n",
    "## 1 Introduction\n"
   ]
  },
  {
   "cell_type": "markdown",
   "metadata": {},
   "source": [
    "\n",
    "### 1.1 Relevance of squalene\n"
   ]
  },
  {
   "cell_type": "markdown",
   "metadata": {},
   "source": [
    "Squalene (C30H50) is a triterpene which can be found in a wide variety of organisms, ranging from microorganisms to humans. It is a polyunsaturated hydrocarbon formed by six isoprene units. Up to date, squalene has been thoroughly investigated and research indicates that it plays crucial roles in steroid synthesis in humans, especially cholesterol and vitamins. Additionally, squalene is regarded as an important compound for maintaining health under toxic exposure, due to its chemoprotective and nutraceutical activities. Other properties of squalene include providing skin protection against high UV exposure, being an antioxidant and recent studies suggest it is also an anticancerous agent. Furthermore, outside from its biological environment, its emollient properties make it a good skin care product and it is being studied as a drug delivery agent (use of squalene emulsions), a detoxifier and an anti-infectant against bacteria and fungi. Laslty, if squalene could be produced sustainably and in large quantities, it could be used as a raw material for biofuels and as feedstock for the chemical industry. \n",
    "\n",
    "The global market size of squalene was valued at USD 121,55 million in 2021 and it is expected to expand at a compound annual growth rate (CAGR) of 10,9% from 2022 to 2030, the major factor driving this demand being the increase in personal care and cosmetics consumption. To supply this enourmous demand, squalene has traditionally been obtained from shark liver oil, although other sources include olive oil and some microorganisms. However, new regulations for marine animal protection activities have hampered the supply of squalene from shark liver oil. Consequently, there has been a shift towards more sustainable options: vegetal production (9,5% increase) and squalene obtained by fermentation processes through the use of photosynthetic microorganisms. \n",
    "\n",
    "Specifically, in prokaryotes, algae and plant plastids, isoprenoids are produced via the methyl-eythritol-4-phosphate (MEP) pathway, whereIPP and DMAPP are the basic building blocks for isoprenoids. In this study, focus is given to the synthesis of squalene using the cyanobacteria _Synechocystis sp._ PCC 6803. In this organism, the formation of squalene is catalysed by the enzyme squalene synthase, which performs a two-step reaction, where two molecules of farnesyl-diphosphate (FPP) are first combined to form presqualene diphosphate (PSPP), which is subsequently converted into squalene, in a NADPH-dependent step (Figure 1). "
   ]
  },
  {
   "cell_type": "markdown",
   "metadata": {},
   "source": [
    "Figure 1"
   ]
  },
  {
   "cell_type": "markdown",
   "metadata": {},
   "source": [
    "\n",
    "### 1.2 _Synechocystis_ as a cell factory\n"
   ]
  },
  {
   "cell_type": "markdown",
   "metadata": {},
   "source": [
    "_Synechocystis sp._ PCC 6803 is a photosynthetic microorganism found primarily in freshwater environments. One of the primary reasons this strain serves as an ideal cell factory is due to the extensive investigation of its functional genomics in recent decades, resulting in over 3000 gene annotations. This extensive genetic knowledge, coupled with this strains natural competence, makes it an ideal candidate for cell factory implementation. Furthermore, _Synechocystis_ can grow in photoautotrophic, heterotrophic, and mixotrophic conditions, which can provide advantages for carbon modulation during its large-scale implementation. Another reason this strain is an ideal cell factory candidate is due to its elevated stress tolerance, which is a key advantage for microbial hosts in terms of production efficiency, especially with scaling up. Furthermore, given that this strain is photosynthetic, contamination risks can be reduced when cultivated in photoautotrophic conditions, which is an advantage for reliable metabolite production. \n",
    "\n",
    "On the other hand, one disadvantage of using _Synechocystis_, and cyanobacterium more generally, as cell factory hosts, is their lower rate of production. Compared to other industry standards for cell factory production, such as bacterial and fungal hosts, cyanobacteria tend to produce target compounds at a slower rate, which simultaneously increases production costs and cultivation time, which also favours the risk of contamination. Furthermore, _Synechocystis_ titer is not competitive with alternatives such as _Escherichia coli_, meaning the rate of production and concentration of the product is not comparable with other microbial hosts. Such concerns, along with the cost of cultivation of cyanobacteria, make the practical and financial disadvantages of cyanobacterial cell factories clear. \n",
    "\n",
    "However, it must be noted that, while other chassis have been shown to be competent squalene producers, such as _Saccharomyces cerevisiae_ and _Yarrowia lipolytica_, one distinct advantage of _Synechocystis_ is its photoautotrophic capabilities and its stress resistance, which gives this strain the ability to have lower risk of contamination and greater resilience to scaling. Another advantage of using a photoautotroph as a cell factory is their impact on sustainability, as photosynthetic organisms require less energy and resources than other microorganisms, making it an energy efficient long-term choice for large scale squalene production. If compared to other photoautotrophic microbes that produce squalene, such as the aforementioned  _B. braunii_ and _Phormidium autumnale_, _Synechocystis_ has the distinct advantage of being better characterized in the literature, making it a better candidate for potential genetic modificaton and optimization strategies that can bolster squalene production. \n",
    "\n",
    "In regards to the production of squalene in cyanobacteria, specifically our species of interest, has been demonstrated by Englund et al. (2014), as they showcase the accumulation of squalene in this strain after inactivation of the slr2089 gene, thought to encode for squalene hopene cyclase, which converts squalene into hopene. This process was enhanced by Pattainaik et al. (2020), through the introduction of a heterologous squalene synthase from _Botryococcus braunii_ which increased squalene production. Given this proof of concept and the competence of this strain, _Synechocystis sp._ PCC 6803 is a suitable host for squalene production and optimization. \n",
    "\n",
    "\n",
    "\n",
    " "
   ]
  },
  {
   "cell_type": "markdown",
   "metadata": {},
   "source": [
    "\n",
    "## 2 Global and biological production limitations\n"
   ]
  },
  {
   "cell_type": "markdown",
   "metadata": {},
   "source": [
    "Traditionally, squalene has been commercially produced from either shark liver oil or plant oils, e.g. olive oil. However, because the sources of those two methods are either not renewable or unstable and geographically restricted, the increasing global demand of squalene can hardly be fulfilled. Therefore, in this project, the cyanobacteria _Synechocystis_ will be used as a chassis for squalene production. \n",
    "\n",
    "Despite the advantage of using sunlight as energy source and converting directly carbon dioxide to products, both the titer or yield of squalene in _Synechocystis_ fermentation are relatively low, with reported value of titer at 5.1mg/L, and yield at 0.67 mg/OD750/L. Whereas, for organisms such as _Saccharomyces cerevisiae_, a titer of 21.1 g/L with the yield at 437.1 mg/g DCW has been achieved. To examine the feasibility and viability of using _Synechocystis_ for industrial squalene production, the focus of this project on a product level will be using Computer-aided Cell Factory Design to increase the yield of the product while ensuring an acceptable titer and productivity.  \n",
    "\n",
    "The lower porduction of squalene can be due to host cell-related complications such as having slow growth rate, byproduct formation, and squalene accumulation. _Synechocystis_ lacks the transporters required for the transportation of vitamins, co-factors, amino acids or nucleotides. Hence, it relies on the energy generated from photosynthesis for the expression of synthetic pathways and essential building blocks, which slows down it growth rate and productivity. Furthermore, synthesis of byproducts such as carotenoids and hopanoids is also conducted through the same metabolic pathway which provides flux for squalene synthesis (Figure 2), thus creating another bottleneck for _Synechocystis_ based squalene production. In addition, squalene is a hydrophobic compound which is most likely to be accumulated in the cell membrane rather than being secreted. Hence, the production capacity of _Synechocystis_ will be limited with its concentration tolerance towards squalene accumulation, which will reduce its feasibility and viability to be used as an industrial host for large-scale production.  "
   ]
  },
  {
   "cell_type": "markdown",
   "metadata": {},
   "source": [
    "Figure 2"
   ]
  },
  {
   "cell_type": "markdown",
   "metadata": {},
   "source": [
    "\n",
    "## 3 Review of existing _Synechocystis_ GSMs\n"
   ]
  },
  {
   "cell_type": "markdown",
   "metadata": {},
   "source": [
    "During the last decade, several genome scale reconstructions of _Synechocystis_ PCC 6803 have been published, as a response to the growing interest for the biosustainability potential of these organisms. For most models a different starting point or reconstruction approach has been used. Howevere, some of them rely upon each other to expand their networks. \n",
    "\n",
    "Amongst all of the found models, two stand out, as they are included in the BiGG Models database, which only publishes models with an NCBI RefSeq genome annotation and, thus, possess an additional level of reliability to them. The first of these reconstructions, named iJN678, is a robust model that focuses on the accurate modelling of the photosynthetic pathways. It includes 863 reactions and 795 nonunique metabolites, making use of various established databases like KEGG and Cyanobase. Additionally, to account for missing reactions in the model, the authors performed an iterative gap-filling. For this, they used data from phylogenetically close organisms, applying a confidence score to each reaction according to the evidence that supports its existence in _Synechocystis_. On the other hand, there is reconstruction iSynCJ816, hailing from a much more recent publication, and mainly focusing on the thermodynamic study and validation of the metabolic landscape. This model is substantially bigger than iJN678, with 1060 reactions and 925 metabolites, and makes use of the same databases. However, even though this model aims to unify the discrepancies between already published reconstructions, the authors did not conduct a gap-filling procedure, alleging that the gaps present in the model are gaps in our knowledge, which makes it the published model with the most gaps.  \n",
    "\n",
    "All in all, both models seem to be adequate for cell factory design enterprises, but we have chosen iJN678 as the model for this work. From a validation point of view, iJN678 was published with a much more thorough description of the simulations used for its comparison with experimental data, ensuring that the predicted growth rate does not surpass more than 5% of the experimental value across its three different growth modes, mainly, autotrophic, mixotrophic and heterotrophic. In comparison, iSynCJ816 does not provide information regarding its validation, even though the same experimental dataset was used. Concurrently, through the assessment of both reconstructions conducted with Memote, it can be seen that iJN678 has a slightly higher score. This is due to the greater degree of metabolic coverage, the lower amount of stoichiometrically balanced cycles and unconserved and dead-end metabolites, amongst others. Additionally, iSynCJ816 is less annotated than iJN678, probably due to its larger number of genes, metabolites and reactions. \n",
    "\n",
    "So, for the established reasons, taking into account both its experimental validation and the _ad hoc_ analysis, we believe that the iJN678 reconstruction will facilitate reliable predictions throughout our analysis. "
   ]
  },
  {
   "cell_type": "code",
   "execution_count": null,
   "metadata": {},
   "outputs": [],
   "source": [
    "model=read_sbml_model('iJN678.xml')\n"
   ]
  },
  {
   "cell_type": "markdown",
   "metadata": {},
   "source": [
    "\n",
    "## 4 Computer-aided engineering of _Synechocystis_ iJN678\n"
   ]
  },
  {
   "cell_type": "markdown",
   "metadata": {},
   "source": [
    "modelM=read_sbml_model('iJN678mod.xml')Squalene is a native product of _Synechocystis_. Thus, there is no need to add a heterologous pathway to the model. However, to simulate overproduction of the compund, and to surpass the limits in its exportation, two additional reactions were added. Firstly, a transport reaction between the cytosol and the extracellular space was introduced. Reaction that is supported by the literature through the existance of the transporter [Yujing]. Secondly, an exchange reaction to eliminate squalene from the media was also added. Alltogether, the resulting model was exported as an SBML file named iJN678mod."
   ]
  },
  {
   "cell_type": "code",
   "execution_count": null,
   "metadata": {},
   "outputs": [],
   "source": [
    "modelM=read_sbml_model('iJN678mod.xml')\n"
   ]
  },
  {
   "cell_type": "code",
   "execution_count": null,
   "metadata": {},
   "outputs": [],
   "source": [
    "modelM.reactions.get_by_id(\"R_SQLt\")"
   ]
  },
  {
   "cell_type": "code",
   "execution_count": null,
   "metadata": {},
   "outputs": [],
   "source": [
    "modelM.reactions.get_by_id(\"EX_sql_e\")"
   ]
  },
  {
   "cell_type": "markdown",
   "metadata": {},
   "source": [
    "\n",
    "### 4.1 Initial yields for squalene production\n"
   ]
  },
  {
   "cell_type": "markdown",
   "metadata": {},
   "source": [
    "The maximum production yield has been calculated for each of the three growth modes of _Synechocystis_. Thus, the media has been adapted to that that allows its maximum growth rate in each of the conditions, autotrophic, mixotrophic and heterotrophic. For the last case, all the possible carbon sources were tested."
   ]
  },
  {
   "cell_type": "code",
   "execution_count": null,
   "metadata": {},
   "outputs": [],
   "source": [
    "#Setting medium for autotrophic (CO2 as carbon source)\n",
    "\n",
    "co2KO=modelM.reactions.get_by_id(\"EX_co2_e\")\n",
    "photonKO=modelM.reactions.get_by_id(\"EX_photon_e\")\n",
    "hco3KO=modelM.reactions.get_by_id(\"EX_hco3_e\")\n",
    "\n",
    "co2KO.bounds=(-3.7,1000.0)\n",
    "hco3KO.bounds= (-3.7,1000.0)\n",
    "photonKO.bounds= (-100,0)\n",
    "\n",
    "mediumKO = modelM.medium\n",
    "mediumKO[\"EX_glc__D_e\"] = 0.0\n",
    "mediumKO[\"EX_hco3_e\"] = 0.0\n",
    "mediumKO[\"EX_photon_e\"]=54.5\n",
    "modelM.medium = mediumKO\n",
    "\n",
    "modelM.objective=\"EX_sql_e\"\n",
    "modelM.optimize().objective_value\n",
    "\n",
    "sql_production = modelM.optimize().objective_value\n",
    "maximum_yield = sql_production / (-1*(modelM.reactions.EX_co2_e.flux))\n",
    "print('Maximum productivity =', sql_production, 'mmol/gDW*h')\n",
    "print('Maximum theoretical yield =', maximum_yield, 'mmol-sql/mmol-co2')"
   ]
  },
  {
   "cell_type": "code",
   "execution_count": null,
   "metadata": {},
   "outputs": [],
   "source": [
    "#Setting medium for mixotrophic (Glucose as a carbon source but light availability)\n",
    "\n",
    "co2KO.bounds=(0,1000.0)\n",
    "hco3KO.bounds= (-3.7,1000.0)\n",
    "photonKO.bounds= (-100,0)\n",
    "\n",
    "mediumKO = modelM.medium\n",
    "mediumKO[\"EX_glc__D_e\"] = 0.39\n",
    "mediumKO[\"EX_hco3_e\"] = 0.0\n",
    "mediumKO[\"EX_photon_e\"]=54.5\n",
    "modelM.medium = mediumKO\n",
    "\n",
    "modelM.optimize()\n",
    "\n",
    "sql_production = modelM.optimize().objective_value\n",
    "maximum_yield = sql_production / (-1*(modelM.reactions.EX_glc__D_e.flux))\n",
    "maximum_yield1 = sql_production / (-6*(modelM.reactions.EX_glc__D_e.flux))\n",
    "print('Maximum productivity =', sql_production, 'mmol/gDW*h')\n",
    "print('Maximum theoretical yield =', maximum_yield, 'mmol-sql/mmol-glc')\n",
    "print('Maximum theoretical yield =', maximum_yield1, 'mmol-sql/mmolC')"
   ]
  },
  {
   "cell_type": "code",
   "execution_count": null,
   "metadata": {},
   "outputs": [],
   "source": [
    "#Setting medium for heterotrophic\n",
    "\n",
    "co2KO.bounds=(0,1000.0)\n",
    "hco3KO.bounds= (0,1000.0)\n",
    "photonKO.bounds= (0,0)\n",
    "\n",
    "mediumKO = modelM.medium\n",
    "mediumKO[\"EX_glc__D_e\"] = 0.85\n",
    "mediumKO[\"EX_hco3_e\"] = 0.0\n",
    "mediumKO[\"EX_photon_e\"]=0\n",
    "modelM.medium = mediumKO\n",
    "\n",
    "modelM.optimize()\n",
    "\n",
    "sql_production = modelM.optimize().objective_value\n",
    "maximum_yield = sql_production / (-1*(modelM.reactions.EX_glc__D_e.flux))\n",
    "print('Maximum productivity =', sql_production, 'mmol/gDW*h')\n",
    "print('Maximum theoretical yield =', maximum_yield, 'mmol-sql/mmol-glc')"
   ]
  },
  {
   "cell_type": "code",
   "execution_count": null,
   "metadata": {},
   "outputs": [],
   "source": [
    "#Production for alternate carbon sources\n",
    "\n",
    "mediumKO = modelM.medium\n",
    "mediumKO[\"EX_glc__D_e\"] = 0\n",
    "modelM.medium = mediumKO\n",
    "\n",
    "EX = []\n",
    "for reaction in model.exchanges:\n",
    "    for metabolite in reaction.metabolites:\n",
    "        if 'C' in metabolite.elements:\n",
    "            EX.append(reaction.id)\n",
    "            \n",
    "#print(EX)\n",
    "\n",
    "\n",
    "sol=[]\n",
    "\n",
    "medium = modelM.medium\n",
    "for i in range(len(EX)):\n",
    "    with modelM:\n",
    "        medium['EX_glc__D_e'] = 0 # remove glucose from medium\n",
    "        medium[EX[i]] = 0.85 # add carbon source to medium\n",
    "        modelM.medium = medium\n",
    "        solution = modelM.slim_optimize(error_value=0.)\n",
    "        maximum_yield = solution / (0.85)\n",
    "        medium[EX[i]]=0.0\n",
    "        list1=[]\n",
    "        if solution > 0:\n",
    "            list1.append(EX[i])\n",
    "            list1.append(solution)\n",
    "            list1.append(maximum_yield)\n",
    "            sol.append(list1)\n",
    "            \n",
    "print(tabulate(sol, headers=['Reaction', 'Productivity (mmol-sql/gDWh)',\"Yield (mmol-sql/mmol-glc)\"]))"
   ]
  },
  {
   "cell_type": "markdown",
   "metadata": {},
   "source": [
    "It can be seen that the best yield is obtained when _Synechocystis_ grows under mixotrophic conditions. However, for autotrophic conditions the productivity is substantially higher. Furthermore, the yield expressed in mmolC is identical, 0.033 mmol-sql/mmolC. So, it can be argued that, due to the ustainability benefits of using CO2, autotrophy is the best mode of operation for squalene production."
   ]
  },
  {
   "cell_type": "markdown",
   "metadata": {},
   "source": [
    "### 4.2 Phenotypic characterisation of the strain"
   ]
  },
  {
   "cell_type": "markdown",
   "metadata": {},
   "source": [
    "We can now use the \"phenotypic_phase_plane\" package from cameo to visualize our strain performance of squalene production. We will begin by \n",
    "testing our strain in default autotrophic conditions. Next, we will set our CO2 levels to zero and turn on glucose use to simulate mixotrophic conditions. Next we will simulate anaerobic conditions by setting O2 to zero. This is followed by heterotrophic conditions where photosynthesis is turned off in our model. \n"
   ]
  },
  {
   "cell_type": "code",
   "execution_count": null,
   "metadata": {},
   "outputs": [],
   "source": [
    "# Autotrophic conditions\n",
    "\n",
    "from cameo.visualization.plotting.with_plotly import PlotlyPlotter\n",
    "plotter = PlotlyPlotter()\n",
    "\n",
    "ppp = phenotypic_phase_plane(model,\n",
    "                             variables=[model.reactions.BIOMASS_Ec_SynAuto],\n",
    "                             objective=model.reactions.EX_sql_e)\n",
    "\n",
    "ppp.plot(plotter)"
   ]
  },
  {
   "cell_type": "code",
   "execution_count": null,
   "metadata": {},
   "outputs": [],
   "source": [
    "# Mixotrophic conditions\n",
    "\n",
    "Mixo = modelM.copy()\n",
    "\n",
    "mediumA = Mixo.medium\n",
    "mediumA[\"EX_glc__D_e\"] = 0.39\n",
    "mediumA[\"EX_co2_e\"] = 0\n",
    "\n",
    "Mixo.medium = mediumA\n",
    "\n",
    "Mixo.medium\n"
   ]
  },
  {
   "cell_type": "code",
   "execution_count": null,
   "metadata": {},
   "outputs": [],
   "source": [
    "ppp2 = phenotypic_phase_plane(Mixo,\n",
    "                             variables=[Mixo.reactions.BIOMASS_Ec_SynMixo],\n",
    "                             objective=Mixo.reactions.EX_sql_e)\n",
    "\n",
    "ppp2.plot(plotter)"
   ]
  },
  {
   "cell_type": "code",
   "execution_count": null,
   "metadata": {},
   "outputs": [],
   "source": [
    "# Anaerobic conditions\n",
    "\n",
    "Anaerobic = modelM.copy()\n",
    "\n",
    "mediumB = Anaerobic.medium\n",
    "mediumB[\"EX_o2_e\"] = 0.0\n",
    "Anaerobic.medium = mediumB\n",
    "\n",
    "Anaerobic.medium"
   ]
  },
  {
   "cell_type": "code",
   "execution_count": null,
   "metadata": {},
   "outputs": [],
   "source": [
    "ppp3 = phenotypic_phase_plane(Anaerobic,\n",
    "                             variables=[Anaerobic.reactions.BIOMASS_Ec_SynAuto],\n",
    "                             objective=Anaerobic.reactions.EX_sql_e)\n",
    "\n",
    "ppp3.plot(plotter)"
   ]
  },
  {
   "cell_type": "code",
   "execution_count": null,
   "metadata": {},
   "outputs": [],
   "source": [
    "# Heterotrophic conditions\n",
    "\n",
    "Hetero = modelM.copy()\n",
    "\n",
    "mediumH = Hetero.medium\n",
    "mediumH[\"EX_photon_e\"] = 0\n",
    "mediumH[\"EX_glc__D_e\"] = 0.85\n",
    "mediumH[\"EX_co2_e\"] = 0\n",
    "Hetero.medium = mediumH\n",
    "\n",
    "Hetero.medium"
   ]
  },
  {
   "cell_type": "code",
   "execution_count": null,
   "metadata": {},
   "outputs": [],
   "source": [
    "ppp4 = phenotypic_phase_plane(Hetero,\n",
    "                             variables=[Hetero.reactions.BIOMASS_Ec_SynHetero],\n",
    "                             objective=Hetero.reactions.EX_sql_e)\n",
    "\n",
    "ppp4.plot(plotter)"
   ]
  },
  {
   "cell_type": "markdown",
   "metadata": {},
   "source": [
    "### 4.3 Alternative production pathways"
   ]
  },
  {
   "cell_type": "markdown",
   "metadata": {},
   "source": [
    "### 4.4 Optimization through gene modulation strategies"
   ]
  },
  {
   "cell_type": "markdown",
   "metadata": {},
   "source": [
    "### 4.5 Simulation of batch cultivations"
   ]
  },
  {
   "cell_type": "markdown",
   "metadata": {},
   "source": [
    "### 4.6 Assessment of the predicted strains"
   ]
  },
  {
   "cell_type": "markdown",
   "metadata": {},
   "source": [
    "## 5. Discussion (<500 words)"
   ]
  },
  {
   "cell_type": "markdown",
   "metadata": {},
   "source": [
    "## 6. Conclusion (<200 words)"
   ]
  },
  {
   "cell_type": "markdown",
   "metadata": {},
   "source": [
    "## References"
   ]
  },
  {
   "cell_type": "code",
   "execution_count": null,
   "metadata": {},
   "outputs": [],
   "source": []
  }
 ],
 "metadata": {
  "kernelspec": {
   "display_name": "Python 3 (ipykernel)",
   "language": "python",
   "name": "python3"
  },
  "language_info": {
   "codemirror_mode": {
    "name": "ipython",
    "version": 3
   },
   "file_extension": ".py",
   "mimetype": "text/x-python",
   "name": "python",
   "nbconvert_exporter": "python",
   "pygments_lexer": "ipython3",
   "version": "3.9.12"
  }
 },
 "nbformat": 4,
 "nbformat_minor": 4
}
