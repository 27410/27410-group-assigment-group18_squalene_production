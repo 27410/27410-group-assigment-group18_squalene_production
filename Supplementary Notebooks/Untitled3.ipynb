{
 "cells": [
  {
   "cell_type": "code",
   "execution_count": null,
   "id": "7e23d0ee-a10a-4c07-935e-7303f722ff81",
   "metadata": {},
   "outputs": [],
   "source": [
    "import cobra\n",
    "from cobra import Reaction, Metabolite, Model\n",
    "from cobra.io import read_sbml_model\n",
    "import cameo\n",
    "from cameo import phenotypic_phase_plane\n",
    "from cameo import models\n",
    "from cameo.visualization.plotting.with_plotly import PlotlyPlotter\n",
    "from cameo import load_model\n",
    "from cameo import phenotypic_phase_plane\n",
    "from cameo.strain_design import OptGene\n",
    "from tabulate import tabulate\n",
    "from cobra.util.solver import linear_reaction_coefficients\n",
    "from cobra.flux_analysis.loopless import add_loopless, loopless_solution\n",
    "from cobra.flux_analysis import pfba\n",
    "import pandas\n",
    "import numpy as np\n",
    "import warnings\n",
    "warnings.simplefilter(action='ignore', category=FutureWarning)\n",
    "\n",
    "biomass=\"BIOMASS_Ec_SynHetero\"\n",
    "\n",
    "import pandas"
   ]
  },
  {
   "cell_type": "code",
   "execution_count": null,
   "id": "92933439-96d1-4118-b0a8-6d5b76aa04b0",
   "metadata": {},
   "outputs": [],
   "source": [
    "quadratic_obj =model.problem.Objective(\n",
    "1*(demanar las funció biomassa, amb punt flux_expressopj))"
   ]
  }
 ],
 "metadata": {
  "kernelspec": {
   "display_name": "Python 3 (ipykernel)",
   "language": "python",
   "name": "python3"
  },
  "language_info": {
   "codemirror_mode": {
    "name": "ipython",
    "version": 3
   },
   "file_extension": ".py",
   "mimetype": "text/x-python",
   "name": "python",
   "nbconvert_exporter": "python",
   "pygments_lexer": "ipython3",
   "version": "3.9.12"
  }
 },
 "nbformat": 4,
 "nbformat_minor": 5
}
