{
 "cells": [
  {
   "cell_type": "code",
   "execution_count": null,
   "id": "2d732750-4d28-4dbc-8df4-fe9bd20c6c3e",
   "metadata": {},
   "outputs": [],
   "source": [
    "#Necessary imports\n",
    "import cobra\n",
    "from cobra import Reaction, Metabolite, Model\n",
    "from cobra.io import read_sbml_model\n",
    "from cobra.util.solver import linear_reaction_coefficients\n",
    "from cobra.flux_analysis.loopless import add_loopless, loopless_solution\n",
    "from cobra.flux_analysis import pfba\n",
    "\n",
    "import cameo\n",
    "from cameo import phenotypic_phase_plane\n",
    "from cameo import models\n",
    "from cameo.visualization.plotting.with_plotly import PlotlyPlotter\n",
    "from cameo import load_model\n",
    "from cameo import phenotypic_phase_plane\n",
    "from cameo.strain_design import OptGene\n",
    "from cameo.strain_design.deterministic.flux_variability_based import FSEOF\n",
    "\n",
    "from tabulate import tabulate\n",
    "import pandas\n",
    "import numpy as np\n",
    "import warnings\n",
    "warnings.simplefilter(action='ignore', category=FutureWarning)"
   ]
  },
  {
   "cell_type": "code",
   "execution_count": null,
   "id": "ca29c545-2339-4ece-bfdc-739d5a0111cb",
   "metadata": {},
   "outputs": [],
   "source": [
    "modelM=read_sbml_model('iJN678mod.xml')\n",
    "modelMVA= read_sbml_model(\"iJN678mva.xml\")"
   ]
  },
  {
   "cell_type": "code",
   "execution_count": null,
   "id": "b32856ba-9bcd-4955-8b49-79df4a956e23",
   "metadata": {},
   "outputs": [],
   "source": [
    "modelM.medium=mediumAuto\n",
    "modelM.optimize()\n",
    "plotter = PlotlyPlotter()\n",
    "\n",
    "ppp = phenotypic_phase_plane(modelM,\n",
    "                             variables=[modelM.reactions.BIOMASS_Ec_SynAuto],\n",
    "                             objective=modelM.reactions.EX_sql_e)\n",
    "\n",
    "ppp.plot(plotter)"
   ]
  },
  {
   "cell_type": "markdown",
   "id": "3c8b73d2-679c-48b0-90a7-248b65c627b8",
   "metadata": {},
   "source": [
    "# Assessment"
   ]
  },
  {
   "cell_type": "markdown",
   "id": "94ddd250-6591-4833-9eea-ee581bdc5dc5",
   "metadata": {},
   "source": [
    "List of max biomass and max production of squalene"
   ]
  },
  {
   "cell_type": "markdown",
   "id": "82bc9a73-2fa1-4fe4-a64f-65dbdef17688",
   "metadata": {},
   "source": [
    "for top 10, draw the ppps\n"
   ]
  },
  {
   "cell_type": "code",
   "execution_count": 4,
   "id": "aaaf1d3c-1f15-4ecb-af10-a4ac6c462c40",
   "metadata": {},
   "outputs": [],
   "source": [
    "import pandas as pd"
   ]
  },
  {
   "cell_type": "code",
   "execution_count": 20,
   "id": "d7514093-d9dc-4eaa-b765-a4e75a035a50",
   "metadata": {},
   "outputs": [
    {
     "data": {
      "text/plain": [
       "Index(['a', 'b', 'c', 'd'], dtype='object')"
      ]
     },
     "execution_count": 20,
     "metadata": {},
     "output_type": "execute_result"
    }
   ],
   "source": [
    "tt=10\n",
    "designs=[1,2,3,tt]\n",
    "t=pd.DataFrame(data=designs, index=['a','b','c','d'])\n",
    "t.index"
   ]
  },
  {
   "cell_type": "code",
   "execution_count": 21,
   "id": "f81e167e-94a3-4fb4-b701-05ebfa82e61c",
   "metadata": {},
   "outputs": [
    {
     "name": "stdout",
     "output_type": "stream",
     "text": [
      "    0\n",
      "a   5\n",
      "b  10\n",
      "c  15\n",
      "d  50\n",
      "    0\n",
      "b  10\n",
      "c  15\n",
      "d  50\n",
      "    0\n",
      "c  15\n",
      "d  50\n",
      "    0\n",
      "d  50\n"
     ]
    }
   ],
   "source": [
    "for i in t.index:\n",
    "    sol=5*t[i:]\n",
    "    print(sol)"
   ]
  },
  {
   "cell_type": "code",
   "execution_count": null,
   "id": "9c105f84-0126-4041-be56-00fd62e06ab6",
   "metadata": {},
   "outputs": [],
   "source": [
    "top=pd.DataFrame(data)"
   ]
  },
  {
   "cell_type": "code",
   "execution_count": null,
   "id": "dc0716fb-6a7a-4b73-8cd2-79a5280d733f",
   "metadata": {},
   "outputs": [],
   "source": [
    "SqlProd=[]"
   ]
  },
  {
   "cell_type": "code",
   "execution_count": null,
   "id": "54eba309-0e34-44f0-97c7-e14094ba5d72",
   "metadata": {},
   "outputs": [],
   "source": []
  },
  {
   "cell_type": "code",
   "execution_count": null,
   "id": "68a03989-90d3-445d-8639-ab90f4c24466",
   "metadata": {},
   "outputs": [],
   "source": []
  },
  {
   "cell_type": "code",
   "execution_count": null,
   "id": "4a11e9fb-d387-4819-8079-4d7db844d94a",
   "metadata": {},
   "outputs": [],
   "source": [
    "model"
   ]
  },
  {
   "cell_type": "code",
   "execution_count": null,
   "id": "7ca9eddf-5a06-4aef-b214-e8657c58f3da",
   "metadata": {},
   "outputs": [],
   "source": [
    "double_gene_deletion(\n",
    "    modelM, cobra_model.genes[-5:]).round(4)"
   ]
  }
 ],
 "metadata": {
  "kernelspec": {
   "display_name": "Python 3 (ipykernel)",
   "language": "python",
   "name": "python3"
  },
  "language_info": {
   "codemirror_mode": {
    "name": "ipython",
    "version": 3
   },
   "file_extension": ".py",
   "mimetype": "text/x-python",
   "name": "python",
   "nbconvert_exporter": "python",
   "pygments_lexer": "ipython3",
   "version": "3.9.12"
  }
 },
 "nbformat": 4,
 "nbformat_minor": 5
}
