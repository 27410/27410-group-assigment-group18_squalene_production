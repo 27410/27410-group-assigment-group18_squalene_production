{
 "cells": [
  {
   "cell_type": "code",
   "execution_count": 1,
   "id": "e6b0b9bb-e1fb-4aff-967d-51e3bed6d681",
   "metadata": {},
   "outputs": [],
   "source": [
    "from cobra.io import read_sbml_model\n",
    "from cobra import Reaction, Metabolite\n",
    "import cobra"
   ]
  },
  {
   "cell_type": "code",
   "execution_count": 2,
   "id": "cff566a3-b419-4bb9-b6ac-c80f421e8360",
   "metadata": {},
   "outputs": [
    {
     "data": {
      "text/html": [
       "\n",
       "        <table>\n",
       "            <tr>\n",
       "                <td><strong>Gene identifier</strong></td><td>shc</td>\n",
       "            </tr><tr>\n",
       "                <td><strong>Name</strong></td><td>shc</td>\n",
       "            </tr><tr>\n",
       "                <td><strong>Memory address</strong></td>\n",
       "                <td>0x7ff461d88250</td>\n",
       "            </tr><tr>\n",
       "                <td><strong>Functional</strong></td><td>True</td>\n",
       "            </tr><tr>\n",
       "                <td><strong>In 2 reaction(s)</strong></td><td>\n",
       "                    SQLC, SQLC2\n",
       "                    </td>\n",
       "            </tr>\n",
       "        </table>"
      ],
      "text/plain": [
       "<Gene shc at 0x7ff461d88250>"
      ]
     },
     "execution_count": 2,
     "metadata": {},
     "output_type": "execute_result"
    }
   ],
   "source": [
    "\n",
    "#Model input\n",
    "modelclean =read_sbml_model('iJN678.xml')\n",
    "modelexporter = read_sbml_model('iJN678.xml')\n",
    "\n",
    "#Presence of the gene\n",
    "modelexporter.genes.get_by_id(\"shc\")"
   ]
  },
  {
   "cell_type": "code",
   "execution_count": 3,
   "id": "b77db109-623f-4116-bcda-d77348944d53",
   "metadata": {},
   "outputs": [
    {
     "data": {
      "text/html": [
       "<strong><em>Optimal</em> solution with objective value 0.063</strong><br><div>\n",
       "<style scoped>\n",
       "    .dataframe tbody tr th:only-of-type {\n",
       "        vertical-align: middle;\n",
       "    }\n",
       "\n",
       "    .dataframe tbody tr th {\n",
       "        vertical-align: top;\n",
       "    }\n",
       "\n",
       "    .dataframe thead th {\n",
       "        text-align: right;\n",
       "    }\n",
       "</style>\n",
       "<table border=\"1\" class=\"dataframe\">\n",
       "  <thead>\n",
       "    <tr style=\"text-align: right;\">\n",
       "      <th></th>\n",
       "      <th>fluxes</th>\n",
       "      <th>reduced_costs</th>\n",
       "    </tr>\n",
       "  </thead>\n",
       "  <tbody>\n",
       "    <tr>\n",
       "      <th>EX_ac_e</th>\n",
       "      <td>0.000000</td>\n",
       "      <td>-3.849050e-02</td>\n",
       "    </tr>\n",
       "    <tr>\n",
       "      <th>34DHOXPEGOX</th>\n",
       "      <td>0.000000</td>\n",
       "      <td>-0.000000e+00</td>\n",
       "    </tr>\n",
       "    <tr>\n",
       "      <th>EX_photon_e</th>\n",
       "      <td>0.000000</td>\n",
       "      <td>-5.228898e-03</td>\n",
       "    </tr>\n",
       "    <tr>\n",
       "      <th>34HPPOR</th>\n",
       "      <td>0.000033</td>\n",
       "      <td>0.000000e+00</td>\n",
       "    </tr>\n",
       "    <tr>\n",
       "      <th>EX_ca2_e</th>\n",
       "      <td>-0.000285</td>\n",
       "      <td>0.000000e+00</td>\n",
       "    </tr>\n",
       "    <tr>\n",
       "      <th>...</th>\n",
       "      <td>...</td>\n",
       "      <td>...</td>\n",
       "    </tr>\n",
       "    <tr>\n",
       "      <th>CBFCpp</th>\n",
       "      <td>2.015565</td>\n",
       "      <td>4.336809e-19</td>\n",
       "    </tr>\n",
       "    <tr>\n",
       "      <th>CYO1b2_syn</th>\n",
       "      <td>0.000000</td>\n",
       "      <td>-2.168404e-19</td>\n",
       "    </tr>\n",
       "    <tr>\n",
       "      <th>PHETA1</th>\n",
       "      <td>-0.011666</td>\n",
       "      <td>-0.000000e+00</td>\n",
       "    </tr>\n",
       "    <tr>\n",
       "      <th>ORNTAC</th>\n",
       "      <td>0.017175</td>\n",
       "      <td>0.000000e+00</td>\n",
       "    </tr>\n",
       "    <tr>\n",
       "      <th>ABTA</th>\n",
       "      <td>0.445897</td>\n",
       "      <td>-1.387779e-17</td>\n",
       "    </tr>\n",
       "  </tbody>\n",
       "</table>\n",
       "<p>863 rows × 2 columns</p>\n",
       "</div>"
      ],
      "text/plain": [
       "<Solution 0.063 at 0x7ff47b0a5880>"
      ]
     },
     "execution_count": 3,
     "metadata": {},
     "output_type": "execute_result"
    }
   ],
   "source": [
    "#Initial growth rate\n",
    "modelexporter.optimize()"
   ]
  },
  {
   "cell_type": "code",
   "execution_count": 4,
   "id": "dc29dabf-5624-4037-b9a5-ecbf960b945a",
   "metadata": {},
   "outputs": [
    {
     "data": {
      "text/html": [
       "\n",
       "        <table>\n",
       "            <tr>\n",
       "                <td><strong>Reaction identifier</strong></td><td>SQLC</td>\n",
       "            </tr><tr>\n",
       "                <td><strong>Name</strong></td><td>Squalene mutase (cyclizing)</td>\n",
       "            </tr><tr>\n",
       "                <td><strong>Memory address</strong></td>\n",
       "                <td>0x7ff463601d60</td>\n",
       "            </tr><tr>\n",
       "                <td><strong>Stoichiometry</strong></td>\n",
       "                <td>\n",
       "                    <p style='text-align:right'>sql_c --> dptne_c</p>\n",
       "                    <p style='text-align:right'>Squalene C30H50 --> Diploptene</p>\n",
       "                </td>\n",
       "            </tr><tr>\n",
       "                <td><strong>GPR</strong></td><td>shc</td>\n",
       "            </tr><tr>\n",
       "                <td><strong>Lower bound</strong></td><td>0.0</td>\n",
       "            </tr><tr>\n",
       "                <td><strong>Upper bound</strong></td><td>1000.0</td>\n",
       "            </tr>\n",
       "        </table>\n",
       "        "
      ],
      "text/plain": [
       "<Reaction SQLC at 0x7ff463601d60>"
      ]
     },
     "execution_count": 4,
     "metadata": {},
     "output_type": "execute_result"
    }
   ],
   "source": [
    "#Presence of the reaction (note initial bounds)\n",
    "modelexporter.reactions.get_by_id(\"SQLC\")"
   ]
  },
  {
   "cell_type": "code",
   "execution_count": 6,
   "id": "95d639c3-7d56-4239-8a87-c2a1540554de",
   "metadata": {},
   "outputs": [
    {
     "data": {
      "text/html": [
       "\n",
       "        <table>\n",
       "            <tr>\n",
       "                <td><strong>Reaction identifier</strong></td><td>SQLC</td>\n",
       "            </tr><tr>\n",
       "                <td><strong>Name</strong></td><td>Squalene mutase (cyclizing)</td>\n",
       "            </tr><tr>\n",
       "                <td><strong>Memory address</strong></td>\n",
       "                <td>0x7ff463601d60</td>\n",
       "            </tr><tr>\n",
       "                <td><strong>Stoichiometry</strong></td>\n",
       "                <td>\n",
       "                    <p style='text-align:right'>sql_c --> dptne_c</p>\n",
       "                    <p style='text-align:right'>Squalene C30H50 --> Diploptene</p>\n",
       "                </td>\n",
       "            </tr><tr>\n",
       "                <td><strong>GPR</strong></td><td>shc</td>\n",
       "            </tr><tr>\n",
       "                <td><strong>Lower bound</strong></td><td>0</td>\n",
       "            </tr><tr>\n",
       "                <td><strong>Upper bound</strong></td><td>0</td>\n",
       "            </tr>\n",
       "        </table>\n",
       "        "
      ],
      "text/plain": [
       "<Reaction SQLC at 0x7ff463601d60>"
      ]
     },
     "execution_count": 6,
     "metadata": {},
     "output_type": "execute_result"
    }
   ],
   "source": [
    "#Gene KO\n",
    "cobra.manipulation.knock_out_model_genes(modelexporter, [\"shc\"])\n",
    "\n",
    "#Note change in reaction bounds\n",
    "modelexporter.reactions.get_by_id(\"SQLC\")"
   ]
  },
  {
   "cell_type": "code",
   "execution_count": 7,
   "id": "09c5978e-09f3-4cd4-bd75-489655a20dc3",
   "metadata": {},
   "outputs": [
    {
     "data": {
      "text/html": [
       "\n",
       "        <table>\n",
       "            <tr>\n",
       "                <td><strong>Reaction identifier</strong></td><td>SQLC2</td>\n",
       "            </tr><tr>\n",
       "                <td><strong>Name</strong></td><td>Squalene mutase (cyclizing)</td>\n",
       "            </tr><tr>\n",
       "                <td><strong>Memory address</strong></td>\n",
       "                <td>0x7ff463612c70</td>\n",
       "            </tr><tr>\n",
       "                <td><strong>Stoichiometry</strong></td>\n",
       "                <td>\n",
       "                    <p style='text-align:right'>h2o_c + sql_c --> dpterol_c</p>\n",
       "                    <p style='text-align:right'>H2O H2O + Squalene C30H50 --> Diplopterol</p>\n",
       "                </td>\n",
       "            </tr><tr>\n",
       "                <td><strong>GPR</strong></td><td>shc</td>\n",
       "            </tr><tr>\n",
       "                <td><strong>Lower bound</strong></td><td>0</td>\n",
       "            </tr><tr>\n",
       "                <td><strong>Upper bound</strong></td><td>0</td>\n",
       "            </tr>\n",
       "        </table>\n",
       "        "
      ],
      "text/plain": [
       "<Reaction SQLC2 at 0x7ff463612c70>"
      ]
     },
     "execution_count": 7,
     "metadata": {},
     "output_type": "execute_result"
    }
   ],
   "source": [
    "modelexporter.reactions.get_by_id(\"SQLC2\")"
   ]
  },
  {
   "cell_type": "code",
   "execution_count": 8,
   "id": "1d4bbfaa-9e06-4b56-8770-03b8b43d096e",
   "metadata": {},
   "outputs": [
    {
     "data": {
      "text/html": [
       "<strong><em>Optimal</em> solution with objective value 0.063</strong><br><div>\n",
       "<style scoped>\n",
       "    .dataframe tbody tr th:only-of-type {\n",
       "        vertical-align: middle;\n",
       "    }\n",
       "\n",
       "    .dataframe tbody tr th {\n",
       "        vertical-align: top;\n",
       "    }\n",
       "\n",
       "    .dataframe thead th {\n",
       "        text-align: right;\n",
       "    }\n",
       "</style>\n",
       "<table border=\"1\" class=\"dataframe\">\n",
       "  <thead>\n",
       "    <tr style=\"text-align: right;\">\n",
       "      <th></th>\n",
       "      <th>fluxes</th>\n",
       "      <th>reduced_costs</th>\n",
       "    </tr>\n",
       "  </thead>\n",
       "  <tbody>\n",
       "    <tr>\n",
       "      <th>EX_ac_e</th>\n",
       "      <td>0.000000</td>\n",
       "      <td>-3.849050e-02</td>\n",
       "    </tr>\n",
       "    <tr>\n",
       "      <th>34DHOXPEGOX</th>\n",
       "      <td>0.000000</td>\n",
       "      <td>-0.000000e+00</td>\n",
       "    </tr>\n",
       "    <tr>\n",
       "      <th>EX_photon_e</th>\n",
       "      <td>0.000000</td>\n",
       "      <td>-5.228898e-03</td>\n",
       "    </tr>\n",
       "    <tr>\n",
       "      <th>34HPPOR</th>\n",
       "      <td>0.000033</td>\n",
       "      <td>0.000000e+00</td>\n",
       "    </tr>\n",
       "    <tr>\n",
       "      <th>EX_ca2_e</th>\n",
       "      <td>-0.000285</td>\n",
       "      <td>0.000000e+00</td>\n",
       "    </tr>\n",
       "    <tr>\n",
       "      <th>...</th>\n",
       "      <td>...</td>\n",
       "      <td>...</td>\n",
       "    </tr>\n",
       "    <tr>\n",
       "      <th>CBFCpp</th>\n",
       "      <td>2.015565</td>\n",
       "      <td>4.336809e-19</td>\n",
       "    </tr>\n",
       "    <tr>\n",
       "      <th>CYO1b2_syn</th>\n",
       "      <td>0.000000</td>\n",
       "      <td>-2.168404e-19</td>\n",
       "    </tr>\n",
       "    <tr>\n",
       "      <th>PHETA1</th>\n",
       "      <td>-0.011666</td>\n",
       "      <td>-0.000000e+00</td>\n",
       "    </tr>\n",
       "    <tr>\n",
       "      <th>ORNTAC</th>\n",
       "      <td>0.017175</td>\n",
       "      <td>0.000000e+00</td>\n",
       "    </tr>\n",
       "    <tr>\n",
       "      <th>ABTA</th>\n",
       "      <td>0.445897</td>\n",
       "      <td>-1.387779e-17</td>\n",
       "    </tr>\n",
       "  </tbody>\n",
       "</table>\n",
       "<p>863 rows × 2 columns</p>\n",
       "</div>"
      ],
      "text/plain": [
       "<Solution 0.063 at 0x7ff460f8df40>"
      ]
     },
     "execution_count": 8,
     "metadata": {},
     "output_type": "execute_result"
    }
   ],
   "source": [
    "#Growth rate of the KO\n",
    "modelexporter.optimize()"
   ]
  },
  {
   "cell_type": "code",
   "execution_count": 9,
   "id": "7ac14b28-dee0-4bbd-906e-622be42c3ee6",
   "metadata": {},
   "outputs": [
    {
     "data": {
      "text/plain": [
       "{'EX_ca2_e': 1000.0,\n",
       " 'EX_cobalt2_e': 1000.0,\n",
       " 'EX_ni2_e': 1000.0,\n",
       " 'EX_h_e': 1000.0,\n",
       " 'EX_h2o_e': 1000.0,\n",
       " 'EX_o2_e': 1000.0,\n",
       " 'EX_glc__D_e': 0.85,\n",
       " 'EX_no3_e': 1000.0,\n",
       " 'EX_k_e': 1000.0,\n",
       " 'EX_so4_e': 1000.0,\n",
       " 'EX_pi_e': 1000.0,\n",
       " 'EX_mobd_e': 1000.0,\n",
       " 'EX_fe3_e': 1000.0,\n",
       " 'EX_fe2_e': 1000.0,\n",
       " 'EX_na1_e': 1000.0,\n",
       " 'EX_mn2_e': 1000.0,\n",
       " 'EX_mg2_e': 1000.0,\n",
       " 'EX_cu2_e': 1000.0,\n",
       " 'EX_zn2_e': 1000.0}"
      ]
     },
     "execution_count": 9,
     "metadata": {},
     "output_type": "execute_result"
    }
   ],
   "source": [
    "modelexporter.medium"
   ]
  },
  {
   "cell_type": "code",
   "execution_count": 10,
   "id": "4a39b6f3-5990-4bbb-a16e-bc2c32868f76",
   "metadata": {},
   "outputs": [
    {
     "data": {
      "text/plain": [
       "[<Reaction EX_ac_e at 0x7ff461ce4c70>,\n",
       " <Reaction EX_photon_e at 0x7ff461d88700>,\n",
       " <Reaction EX_ca2_e at 0x7ff461d88910>,\n",
       " <Reaction EX_cobalt2_e at 0x7ff4634002e0>,\n",
       " <Reaction EX_ni2_e at 0x7ff4632ef8e0>,\n",
       " <Reaction EX_cynt_e at 0x7ff46348cd30>,\n",
       " <Reaction EX_h_e at 0x7ff46348cc40>,\n",
       " <Reaction EX_pyr_e at 0x7ff46348cdc0>,\n",
       " <Reaction EX_fum_e at 0x7ff46349bf10>,\n",
       " <Reaction EX_succ_e at 0x7ff46349b520>,\n",
       " <Reaction EX_cit_e at 0x7ff46349b280>,\n",
       " <Reaction EX_h2_e at 0x7ff46349ba30>,\n",
       " <Reaction EX_co_e at 0x7ff46349bd00>,\n",
       " <Reaction EX_h2o_e at 0x7ff4634b04f0>,\n",
       " <Reaction EX_o2_e at 0x7ff4634b0670>,\n",
       " <Reaction EX_glc__D_e at 0x7ff4634c4160>,\n",
       " <Reaction EX_fru_e at 0x7ff4635043a0>,\n",
       " <Reaction EX_glu__L_e at 0x7ff4635043d0>,\n",
       " <Reaction EX_hco3_e at 0x7ff463517d90>,\n",
       " <Reaction EX_co2_e at 0x7ff463517b80>,\n",
       " <Reaction EX_ala__L_e at 0x7ff463526be0>,\n",
       " <Reaction EX_arg__L_e at 0x7ff463526d30>,\n",
       " <Reaction EX_gly_e at 0x7ff463526d60>,\n",
       " <Reaction EX_gln__L_e at 0x7ff463526cd0>,\n",
       " <Reaction EX_his__L_e at 0x7ff463526eb0>,\n",
       " <Reaction EX_leu__L_e at 0x7ff46353e4f0>,\n",
       " <Reaction EX_lys__L_e at 0x7ff46353e820>,\n",
       " <Reaction EX_pro__L_e at 0x7ff46353e040>,\n",
       " <Reaction EX_ser__L_e at 0x7ff46353efa0>,\n",
       " <Reaction EX_no3_e at 0x7ff46353ef70>,\n",
       " <Reaction EX_urea_e at 0x7ff463552a30>,\n",
       " <Reaction EX_nh4_e at 0x7ff46353ecd0>,\n",
       " <Reaction EX_akg_e at 0x7ff46353ee80>,\n",
       " <Reaction EX_mal__L_e at 0x7ff46353eeb0>,\n",
       " <Reaction EX_k_e at 0x7ff463552f70>,\n",
       " <Reaction EX_so4_e at 0x7ff463552e50>,\n",
       " <Reaction EX_pi_e at 0x7ff463566d60>,\n",
       " <Reaction EX_mobd_e at 0x7ff463566730>,\n",
       " <Reaction EX_fe3_e at 0x7ff463566cd0>,\n",
       " <Reaction EX_fe2_e at 0x7ff463566ca0>,\n",
       " <Reaction EX_na1_e at 0x7ff463566dc0>,\n",
       " <Reaction EX_mn2_e at 0x7ff46357a370>,\n",
       " <Reaction EX_mg2_e at 0x7ff46357a3d0>,\n",
       " <Reaction EX_ptrc_e at 0x7ff46357a490>,\n",
       " <Reaction EX_spmd_e at 0x7ff46357a550>,\n",
       " <Reaction EX_cu2_e at 0x7ff46357ab80>,\n",
       " <Reaction EX_zn2_e at 0x7ff46357afa0>,\n",
       " <Reaction EX_glcglyc_e at 0x7ff4635913d0>,\n",
       " <Reaction EX_sucr_e at 0x7ff4635a45b0>]"
      ]
     },
     "execution_count": 10,
     "metadata": {},
     "output_type": "execute_result"
    }
   ],
   "source": [
    "modelexporter.exchanges"
   ]
  },
  {
   "cell_type": "code",
   "execution_count": 11,
   "id": "044621d5-1db7-44cb-ac4c-aced1915d1d4",
   "metadata": {},
   "outputs": [],
   "source": [
    "co2=modelexporter.reactions.get_by_id(\"EX_co2_e\")\n",
    "photon=modelexporter.reactions.get_by_id(\"EX_photon_e\")\n",
    "hco3=modelexporter.reactions.get_by_id(\"EX_hco3_e\")\n",
    "\n",
    "co2c=modelclean.reactions.get_by_id(\"EX_co2_e\")\n",
    "photonc=modelclean.reactions.get_by_id(\"EX_photon_e\")\n",
    "hco3c=modelclean.reactions.get_by_id(\"EX_hco3_e\")"
   ]
  },
  {
   "cell_type": "code",
   "execution_count": 12,
   "id": "35335349-0c65-4361-b8a3-0d8f8c7ef200",
   "metadata": {},
   "outputs": [],
   "source": [
    "co2.bounds=(-3.7,1000.0)\n",
    "hco3.bounds= (-3.7,1000.0)\n",
    "photon.bounds= (-100,0)\n",
    "\n",
    "co2c.bounds=(-3.7,1000.0)\n",
    "hco3c.bounds= (-3.7,1000.0)\n",
    "photonc.bounds= (-100,0)"
   ]
  },
  {
   "cell_type": "code",
   "execution_count": 14,
   "id": "cafeae02-5e08-4cb5-932e-d4dda8059152",
   "metadata": {},
   "outputs": [],
   "source": [
    "#model.medium[\"EX_glc__D_e\"]=0.0\n",
    "#modelclean.medium[\"EX_glc__D_e\"]=0.0\n",
    "#model.medium[\"EX_hco3_e\"]=0.0\n",
    "#modelclean.medium[\"EX_hco3_e\"]=0.0\n",
    "\n",
    "medium = modelexporter.medium\n",
    "medium[\"EX_glc__D_e\"] = 0.0\n",
    "medium[\"EX_hco3_e\"] = 0.0\n",
    "medium[\"EX_photon_e\"]=50\n",
    "modelexporter.medium = medium\n",
    "\n",
    "mediumc = modelclean.medium\n",
    "mediumc[\"EX_glc__D_e\"] = 0.0\n",
    "mediumc[\"EX_hco3_e\"] = 0.0\n",
    "mediumc[\"EX_photon_e\"]=50\n",
    "modelclean.medium = mediumc"
   ]
  },
  {
   "cell_type": "code",
   "execution_count": 15,
   "id": "c8db9438-8689-44fc-a128-adc9fddabd73",
   "metadata": {},
   "outputs": [
    {
     "data": {
      "text/plain": [
       "{'EX_photon_e': 50,\n",
       " 'EX_ca2_e': 1000.0,\n",
       " 'EX_cobalt2_e': 1000.0,\n",
       " 'EX_ni2_e': 1000.0,\n",
       " 'EX_h_e': 1000.0,\n",
       " 'EX_h2o_e': 1000.0,\n",
       " 'EX_o2_e': 1000.0,\n",
       " 'EX_co2_e': 3.7,\n",
       " 'EX_no3_e': 1000.0,\n",
       " 'EX_k_e': 1000.0,\n",
       " 'EX_so4_e': 1000.0,\n",
       " 'EX_pi_e': 1000.0,\n",
       " 'EX_mobd_e': 1000.0,\n",
       " 'EX_fe3_e': 1000.0,\n",
       " 'EX_fe2_e': 1000.0,\n",
       " 'EX_na1_e': 1000.0,\n",
       " 'EX_mn2_e': 1000.0,\n",
       " 'EX_mg2_e': 1000.0,\n",
       " 'EX_cu2_e': 1000.0,\n",
       " 'EX_zn2_e': 1000.0}"
      ]
     },
     "execution_count": 15,
     "metadata": {},
     "output_type": "execute_result"
    }
   ],
   "source": [
    "modelexporter.medium"
   ]
  },
  {
   "cell_type": "code",
   "execution_count": 16,
   "id": "99007beb-0346-4e52-9061-bddf8971d335",
   "metadata": {},
   "outputs": [
    {
     "data": {
      "text/html": [
       "<strong><em>Optimal</em> solution with objective value 0.083</strong><br><div>\n",
       "<style scoped>\n",
       "    .dataframe tbody tr th:only-of-type {\n",
       "        vertical-align: middle;\n",
       "    }\n",
       "\n",
       "    .dataframe tbody tr th {\n",
       "        vertical-align: top;\n",
       "    }\n",
       "\n",
       "    .dataframe thead th {\n",
       "        text-align: right;\n",
       "    }\n",
       "</style>\n",
       "<table border=\"1\" class=\"dataframe\">\n",
       "  <thead>\n",
       "    <tr style=\"text-align: right;\">\n",
       "      <th></th>\n",
       "      <th>fluxes</th>\n",
       "      <th>reduced_costs</th>\n",
       "    </tr>\n",
       "  </thead>\n",
       "  <tbody>\n",
       "    <tr>\n",
       "      <th>EX_ac_e</th>\n",
       "      <td>0.000000</td>\n",
       "      <td>-0.066706</td>\n",
       "    </tr>\n",
       "    <tr>\n",
       "      <th>34DHOXPEGOX</th>\n",
       "      <td>0.000000</td>\n",
       "      <td>-0.000000</td>\n",
       "    </tr>\n",
       "    <tr>\n",
       "      <th>EX_photon_e</th>\n",
       "      <td>-50.000000</td>\n",
       "      <td>-0.003335</td>\n",
       "    </tr>\n",
       "    <tr>\n",
       "      <th>34HPPOR</th>\n",
       "      <td>0.000043</td>\n",
       "      <td>0.000000</td>\n",
       "    </tr>\n",
       "    <tr>\n",
       "      <th>EX_ca2_e</th>\n",
       "      <td>-0.000376</td>\n",
       "      <td>0.000000</td>\n",
       "    </tr>\n",
       "    <tr>\n",
       "      <th>...</th>\n",
       "      <td>...</td>\n",
       "      <td>...</td>\n",
       "    </tr>\n",
       "    <tr>\n",
       "      <th>CBFCpp</th>\n",
       "      <td>0.000000</td>\n",
       "      <td>0.000000</td>\n",
       "    </tr>\n",
       "    <tr>\n",
       "      <th>CYO1b2_syn</th>\n",
       "      <td>0.000000</td>\n",
       "      <td>-0.006671</td>\n",
       "    </tr>\n",
       "    <tr>\n",
       "      <th>PHETA1</th>\n",
       "      <td>-0.015403</td>\n",
       "      <td>-0.000000</td>\n",
       "    </tr>\n",
       "    <tr>\n",
       "      <th>ORNTAC</th>\n",
       "      <td>0.022677</td>\n",
       "      <td>0.000000</td>\n",
       "    </tr>\n",
       "    <tr>\n",
       "      <th>ABTA</th>\n",
       "      <td>0.000008</td>\n",
       "      <td>0.000000</td>\n",
       "    </tr>\n",
       "  </tbody>\n",
       "</table>\n",
       "<p>863 rows × 2 columns</p>\n",
       "</div>"
      ],
      "text/plain": [
       "<Solution 0.083 at 0x7ff460ccca60>"
      ]
     },
     "execution_count": 16,
     "metadata": {},
     "output_type": "execute_result"
    }
   ],
   "source": [
    "modelexporter.optimize()"
   ]
  },
  {
   "cell_type": "code",
   "execution_count": 17,
   "id": "2f764e0e-6ac7-4d80-8064-a0cc61ccff05",
   "metadata": {},
   "outputs": [
    {
     "data": {
      "text/html": [
       "<strong><em>Optimal</em> solution with objective value 0.083</strong><br><div>\n",
       "<style scoped>\n",
       "    .dataframe tbody tr th:only-of-type {\n",
       "        vertical-align: middle;\n",
       "    }\n",
       "\n",
       "    .dataframe tbody tr th {\n",
       "        vertical-align: top;\n",
       "    }\n",
       "\n",
       "    .dataframe thead th {\n",
       "        text-align: right;\n",
       "    }\n",
       "</style>\n",
       "<table border=\"1\" class=\"dataframe\">\n",
       "  <thead>\n",
       "    <tr style=\"text-align: right;\">\n",
       "      <th></th>\n",
       "      <th>fluxes</th>\n",
       "      <th>reduced_costs</th>\n",
       "    </tr>\n",
       "  </thead>\n",
       "  <tbody>\n",
       "    <tr>\n",
       "      <th>EX_ac_e</th>\n",
       "      <td>0.000000</td>\n",
       "      <td>-6.670618e-02</td>\n",
       "    </tr>\n",
       "    <tr>\n",
       "      <th>34DHOXPEGOX</th>\n",
       "      <td>0.000000</td>\n",
       "      <td>-0.000000e+00</td>\n",
       "    </tr>\n",
       "    <tr>\n",
       "      <th>EX_photon_e</th>\n",
       "      <td>-50.000000</td>\n",
       "      <td>-3.335309e-03</td>\n",
       "    </tr>\n",
       "    <tr>\n",
       "      <th>34HPPOR</th>\n",
       "      <td>0.000043</td>\n",
       "      <td>0.000000e+00</td>\n",
       "    </tr>\n",
       "    <tr>\n",
       "      <th>EX_ca2_e</th>\n",
       "      <td>-0.000376</td>\n",
       "      <td>0.000000e+00</td>\n",
       "    </tr>\n",
       "    <tr>\n",
       "      <th>...</th>\n",
       "      <td>...</td>\n",
       "      <td>...</td>\n",
       "    </tr>\n",
       "    <tr>\n",
       "      <th>CBFCpp</th>\n",
       "      <td>0.000000</td>\n",
       "      <td>0.000000e+00</td>\n",
       "    </tr>\n",
       "    <tr>\n",
       "      <th>CYO1b2_syn</th>\n",
       "      <td>0.000000</td>\n",
       "      <td>-6.670618e-03</td>\n",
       "    </tr>\n",
       "    <tr>\n",
       "      <th>PHETA1</th>\n",
       "      <td>-0.015403</td>\n",
       "      <td>-0.000000e+00</td>\n",
       "    </tr>\n",
       "    <tr>\n",
       "      <th>ORNTAC</th>\n",
       "      <td>0.042365</td>\n",
       "      <td>0.000000e+00</td>\n",
       "    </tr>\n",
       "    <tr>\n",
       "      <th>ABTA</th>\n",
       "      <td>0.000008</td>\n",
       "      <td>1.387779e-17</td>\n",
       "    </tr>\n",
       "  </tbody>\n",
       "</table>\n",
       "<p>863 rows × 2 columns</p>\n",
       "</div>"
      ],
      "text/plain": [
       "<Solution 0.083 at 0x7ff460fe9a00>"
      ]
     },
     "execution_count": 17,
     "metadata": {},
     "output_type": "execute_result"
    }
   ],
   "source": [
    "modelclean.optimize()"
   ]
  },
  {
   "cell_type": "code",
   "execution_count": 18,
   "id": "08f1631e-e713-4595-bef3-5cc20f5fef90",
   "metadata": {},
   "outputs": [],
   "source": [
    "modelclean.objective= \"SQLS\"\n",
    "modelexporter.objective=\"SQLS\""
   ]
  },
  {
   "cell_type": "code",
   "execution_count": 19,
   "id": "a913dfec-5e80-4c52-95d7-0d340c1d4083",
   "metadata": {},
   "outputs": [
    {
     "data": {
      "text/html": [
       "<strong><em>Optimal</em> solution with objective value 0.000</strong><br><div>\n",
       "<style scoped>\n",
       "    .dataframe tbody tr th:only-of-type {\n",
       "        vertical-align: middle;\n",
       "    }\n",
       "\n",
       "    .dataframe tbody tr th {\n",
       "        vertical-align: top;\n",
       "    }\n",
       "\n",
       "    .dataframe thead th {\n",
       "        text-align: right;\n",
       "    }\n",
       "</style>\n",
       "<table border=\"1\" class=\"dataframe\">\n",
       "  <thead>\n",
       "    <tr style=\"text-align: right;\">\n",
       "      <th></th>\n",
       "      <th>fluxes</th>\n",
       "      <th>reduced_costs</th>\n",
       "    </tr>\n",
       "  </thead>\n",
       "  <tbody>\n",
       "    <tr>\n",
       "      <th>EX_ac_e</th>\n",
       "      <td>0.000000</td>\n",
       "      <td>0.0</td>\n",
       "    </tr>\n",
       "    <tr>\n",
       "      <th>34DHOXPEGOX</th>\n",
       "      <td>0.000000</td>\n",
       "      <td>0.0</td>\n",
       "    </tr>\n",
       "    <tr>\n",
       "      <th>EX_photon_e</th>\n",
       "      <td>-50.000000</td>\n",
       "      <td>0.0</td>\n",
       "    </tr>\n",
       "    <tr>\n",
       "      <th>34HPPOR</th>\n",
       "      <td>0.000043</td>\n",
       "      <td>0.0</td>\n",
       "    </tr>\n",
       "    <tr>\n",
       "      <th>EX_ca2_e</th>\n",
       "      <td>-0.000376</td>\n",
       "      <td>0.0</td>\n",
       "    </tr>\n",
       "    <tr>\n",
       "      <th>...</th>\n",
       "      <td>...</td>\n",
       "      <td>...</td>\n",
       "    </tr>\n",
       "    <tr>\n",
       "      <th>CBFCpp</th>\n",
       "      <td>0.000000</td>\n",
       "      <td>0.0</td>\n",
       "    </tr>\n",
       "    <tr>\n",
       "      <th>CYO1b2_syn</th>\n",
       "      <td>0.000000</td>\n",
       "      <td>0.0</td>\n",
       "    </tr>\n",
       "    <tr>\n",
       "      <th>PHETA1</th>\n",
       "      <td>-0.015403</td>\n",
       "      <td>0.0</td>\n",
       "    </tr>\n",
       "    <tr>\n",
       "      <th>ORNTAC</th>\n",
       "      <td>0.022677</td>\n",
       "      <td>0.0</td>\n",
       "    </tr>\n",
       "    <tr>\n",
       "      <th>ABTA</th>\n",
       "      <td>0.000008</td>\n",
       "      <td>0.0</td>\n",
       "    </tr>\n",
       "  </tbody>\n",
       "</table>\n",
       "<p>863 rows × 2 columns</p>\n",
       "</div>"
      ],
      "text/plain": [
       "<Solution 0.000 at 0x7ff460fe9e20>"
      ]
     },
     "execution_count": 19,
     "metadata": {},
     "output_type": "execute_result"
    }
   ],
   "source": [
    "modelexporter.optimize()"
   ]
  },
  {
   "cell_type": "code",
   "execution_count": 20,
   "id": "b3382f3f-71ae-4486-96eb-26dfac38f1f0",
   "metadata": {},
   "outputs": [
    {
     "data": {
      "text/html": [
       "<strong><em>Optimal</em> solution with objective value 0.000</strong><br><div>\n",
       "<style scoped>\n",
       "    .dataframe tbody tr th:only-of-type {\n",
       "        vertical-align: middle;\n",
       "    }\n",
       "\n",
       "    .dataframe tbody tr th {\n",
       "        vertical-align: top;\n",
       "    }\n",
       "\n",
       "    .dataframe thead th {\n",
       "        text-align: right;\n",
       "    }\n",
       "</style>\n",
       "<table border=\"1\" class=\"dataframe\">\n",
       "  <thead>\n",
       "    <tr style=\"text-align: right;\">\n",
       "      <th></th>\n",
       "      <th>fluxes</th>\n",
       "      <th>reduced_costs</th>\n",
       "    </tr>\n",
       "  </thead>\n",
       "  <tbody>\n",
       "    <tr>\n",
       "      <th>EX_ac_e</th>\n",
       "      <td>0.000000</td>\n",
       "      <td>0.0</td>\n",
       "    </tr>\n",
       "    <tr>\n",
       "      <th>34DHOXPEGOX</th>\n",
       "      <td>0.000000</td>\n",
       "      <td>0.0</td>\n",
       "    </tr>\n",
       "    <tr>\n",
       "      <th>EX_photon_e</th>\n",
       "      <td>-50.000000</td>\n",
       "      <td>0.0</td>\n",
       "    </tr>\n",
       "    <tr>\n",
       "      <th>34HPPOR</th>\n",
       "      <td>0.000043</td>\n",
       "      <td>0.0</td>\n",
       "    </tr>\n",
       "    <tr>\n",
       "      <th>EX_ca2_e</th>\n",
       "      <td>-0.000376</td>\n",
       "      <td>0.0</td>\n",
       "    </tr>\n",
       "    <tr>\n",
       "      <th>...</th>\n",
       "      <td>...</td>\n",
       "      <td>...</td>\n",
       "    </tr>\n",
       "    <tr>\n",
       "      <th>CBFCpp</th>\n",
       "      <td>0.000000</td>\n",
       "      <td>0.0</td>\n",
       "    </tr>\n",
       "    <tr>\n",
       "      <th>CYO1b2_syn</th>\n",
       "      <td>0.000000</td>\n",
       "      <td>0.0</td>\n",
       "    </tr>\n",
       "    <tr>\n",
       "      <th>PHETA1</th>\n",
       "      <td>-0.015403</td>\n",
       "      <td>0.0</td>\n",
       "    </tr>\n",
       "    <tr>\n",
       "      <th>ORNTAC</th>\n",
       "      <td>0.042365</td>\n",
       "      <td>0.0</td>\n",
       "    </tr>\n",
       "    <tr>\n",
       "      <th>ABTA</th>\n",
       "      <td>0.000008</td>\n",
       "      <td>0.0</td>\n",
       "    </tr>\n",
       "  </tbody>\n",
       "</table>\n",
       "<p>863 rows × 2 columns</p>\n",
       "</div>"
      ],
      "text/plain": [
       "<Solution 0.000 at 0x7ff460d09400>"
      ]
     },
     "execution_count": 20,
     "metadata": {},
     "output_type": "execute_result"
    }
   ],
   "source": [
    "modelclean.optimize()"
   ]
  },
  {
   "cell_type": "code",
   "execution_count": 21,
   "id": "c7687aa4-cadc-4e40-ab77-b9b40a9969ad",
   "metadata": {},
   "outputs": [],
   "source": [
    "# Add the squalene exportation with MsbA EC 7.5.2.6  \n",
    "#ATP + H2O + lipid A-core oligosaccharide[side 1] = ADP + phosphate + lipid A-core oligosaccharide[side 2]\n",
    "export_reaction = Reaction('EX_sql_e') # squalene export reaction\n",
    "squalene_extracellular = Metabolite(id='sql_e', compartment='e') #extracellular squalene\n",
    "export_reaction.add_metabolites({modelexporter.metabolites.atp_c: -1, # ATP Cytosol \n",
    "                               modelexporter.metabolites.h2o_c: -1, # H2O Cytosol\n",
    "                               modelexporter.metabolites.sql_c: -1, # Squalene Cytosol\n",
    "                               squalene_extracellular: 1, # Squalene extarcelular\n",
    "                               modelexporter.metabolites.adp_c: 1, # ADP cytosol\n",
    "                               modelexporter.metabolites.pi_c: 1, # phosphate cytosol\n",
    "                              })\n",
    "modelexporter.add_reactions([export_reaction])"
   ]
  },
  {
   "cell_type": "code",
   "execution_count": 22,
   "id": "1ee4dc11-ba4f-4942-9c25-c23e62e15c85",
   "metadata": {},
   "outputs": [
    {
     "data": {
      "text/html": [
       "\n",
       "        <table>\n",
       "            <tr>\n",
       "                <td><strong>Reaction identifier</strong></td><td>EX_sql_e</td>\n",
       "            </tr><tr>\n",
       "                <td><strong>Name</strong></td><td></td>\n",
       "            </tr><tr>\n",
       "                <td><strong>Memory address</strong></td>\n",
       "                <td>0x7ff463900a60</td>\n",
       "            </tr><tr>\n",
       "                <td><strong>Stoichiometry</strong></td>\n",
       "                <td>\n",
       "                    <p style='text-align:right'>atp_c + h2o_c + sql_c --> adp_c + pi_c + sql_e</p>\n",
       "                    <p style='text-align:right'>ATP C10H12N5O13P3 + H2O H2O + Squalene C30H50 --> ADP C10H12N5O10P2 + Phosphate +</p>\n",
       "                </td>\n",
       "            </tr><tr>\n",
       "                <td><strong>GPR</strong></td><td></td>\n",
       "            </tr><tr>\n",
       "                <td><strong>Lower bound</strong></td><td>0.0</td>\n",
       "            </tr><tr>\n",
       "                <td><strong>Upper bound</strong></td><td>1000.0</td>\n",
       "            </tr>\n",
       "        </table>\n",
       "        "
      ],
      "text/plain": [
       "<Reaction EX_sql_e at 0x7ff463900a60>"
      ]
     },
     "execution_count": 22,
     "metadata": {},
     "output_type": "execute_result"
    }
   ],
   "source": [
    "modelexporter.reactions.get_by_id(\"EX_sql_e\")"
   ]
  },
  {
   "cell_type": "code",
   "execution_count": 23,
   "id": "ef84073f-36bd-47b8-a6ce-3a9929971f61",
   "metadata": {},
   "outputs": [
    {
     "data": {
      "text/html": [
       "\n",
       "        <table>\n",
       "            <tr>\n",
       "                <td><strong>Metabolite identifier</strong></td><td>sql_e</td>\n",
       "            </tr><tr>\n",
       "                <td><strong>Name</strong></td><td></td>\n",
       "            </tr><tr>\n",
       "                <td><strong>Memory address</strong></td>\n",
       "                <td>0x7ff463900d00</td>\n",
       "            </tr><tr>\n",
       "                <td><strong>Formula</strong></td><td>None</td>\n",
       "            </tr><tr>\n",
       "                <td><strong>Compartment</strong></td><td>e</td>\n",
       "            </tr><tr>\n",
       "                <td><strong>In 1 reaction(s)</strong></td><td>\n",
       "                    EX_sql_e\n",
       "                    </td>\n",
       "            </tr>\n",
       "        </table>"
      ],
      "text/plain": [
       "<Metabolite sql_e at 0x7ff463900d00>"
      ]
     },
     "execution_count": 23,
     "metadata": {},
     "output_type": "execute_result"
    }
   ],
   "source": [
    "modelexporter.metabolites.get_by_id('sql_e')"
   ]
  },
  {
   "cell_type": "code",
   "execution_count": 24,
   "id": "32e59594-c2b2-4633-a990-90a86f99f118",
   "metadata": {},
   "outputs": [
    {
     "data": {
      "text/html": [
       "\n",
       "        <table>\n",
       "            <tr>\n",
       "                <td><strong>Reaction identifier</strong></td><td>DM_sql_e</td>\n",
       "            </tr><tr>\n",
       "                <td><strong>Name</strong></td><td>demand</td>\n",
       "            </tr><tr>\n",
       "                <td><strong>Memory address</strong></td>\n",
       "                <td>0x7ff46392d610</td>\n",
       "            </tr><tr>\n",
       "                <td><strong>Stoichiometry</strong></td>\n",
       "                <td>\n",
       "                    <p style='text-align:right'>sql_e --></p>\n",
       "                    <p style='text-align:right'>--></p>\n",
       "                </td>\n",
       "            </tr><tr>\n",
       "                <td><strong>GPR</strong></td><td></td>\n",
       "            </tr><tr>\n",
       "                <td><strong>Lower bound</strong></td><td>0</td>\n",
       "            </tr><tr>\n",
       "                <td><strong>Upper bound</strong></td><td>1000.0</td>\n",
       "            </tr>\n",
       "        </table>\n",
       "        "
      ],
      "text/plain": [
       "<Reaction DM_sql_e at 0x7ff46392d610>"
      ]
     },
     "execution_count": 24,
     "metadata": {},
     "output_type": "execute_result"
    }
   ],
   "source": [
    "modelexporter.add_boundary(modelexporter.metabolites.sql_e, type='demand')"
   ]
  },
  {
   "cell_type": "code",
   "execution_count": 25,
   "id": "54e44c14-a100-48b7-835a-e2d0f027d287",
   "metadata": {},
   "outputs": [],
   "source": [
    "with modelexporter:\n",
    "    modelexporter.objective = modelexporter.reactions.EX_sql_e\n",
    "    Squalene_flux = modelexporter.optimize().objective_value"
   ]
  },
  {
   "cell_type": "code",
   "execution_count": 26,
   "id": "883d353f-99cd-4148-a4d9-4e5564b3f9b5",
   "metadata": {},
   "outputs": [
    {
     "data": {
      "text/plain": [
       "0.12333333333333348"
      ]
     },
     "execution_count": 26,
     "metadata": {},
     "output_type": "execute_result"
    }
   ],
   "source": [
    "Squalene_flux"
   ]
  },
  {
   "cell_type": "code",
   "execution_count": 27,
   "id": "ba387a8b-4587-4a0c-9e24-d14d3aee414f",
   "metadata": {},
   "outputs": [
    {
     "data": {
      "text/html": [
       "<strong><em>Optimal</em> solution with objective value 0.123</strong><br><div>\n",
       "<style scoped>\n",
       "    .dataframe tbody tr th:only-of-type {\n",
       "        vertical-align: middle;\n",
       "    }\n",
       "\n",
       "    .dataframe tbody tr th {\n",
       "        vertical-align: top;\n",
       "    }\n",
       "\n",
       "    .dataframe thead th {\n",
       "        text-align: right;\n",
       "    }\n",
       "</style>\n",
       "<table border=\"1\" class=\"dataframe\">\n",
       "  <thead>\n",
       "    <tr style=\"text-align: right;\">\n",
       "      <th></th>\n",
       "      <th>fluxes</th>\n",
       "      <th>reduced_costs</th>\n",
       "    </tr>\n",
       "  </thead>\n",
       "  <tbody>\n",
       "    <tr>\n",
       "      <th>EX_ac_e</th>\n",
       "      <td>0.000000</td>\n",
       "      <td>-0.133333</td>\n",
       "    </tr>\n",
       "    <tr>\n",
       "      <th>34DHOXPEGOX</th>\n",
       "      <td>0.000000</td>\n",
       "      <td>-0.000000</td>\n",
       "    </tr>\n",
       "    <tr>\n",
       "      <th>EX_photon_e</th>\n",
       "      <td>-50.000000</td>\n",
       "      <td>0.000000</td>\n",
       "    </tr>\n",
       "    <tr>\n",
       "      <th>34HPPOR</th>\n",
       "      <td>0.000000</td>\n",
       "      <td>0.000000</td>\n",
       "    </tr>\n",
       "    <tr>\n",
       "      <th>EX_ca2_e</th>\n",
       "      <td>0.000000</td>\n",
       "      <td>0.000000</td>\n",
       "    </tr>\n",
       "    <tr>\n",
       "      <th>...</th>\n",
       "      <td>...</td>\n",
       "      <td>...</td>\n",
       "    </tr>\n",
       "    <tr>\n",
       "      <th>PHETA1</th>\n",
       "      <td>0.000000</td>\n",
       "      <td>-0.000000</td>\n",
       "    </tr>\n",
       "    <tr>\n",
       "      <th>ORNTAC</th>\n",
       "      <td>0.000000</td>\n",
       "      <td>0.000000</td>\n",
       "    </tr>\n",
       "    <tr>\n",
       "      <th>ABTA</th>\n",
       "      <td>0.000000</td>\n",
       "      <td>0.000000</td>\n",
       "    </tr>\n",
       "    <tr>\n",
       "      <th>EX_sql_e</th>\n",
       "      <td>0.123333</td>\n",
       "      <td>0.000000</td>\n",
       "    </tr>\n",
       "    <tr>\n",
       "      <th>DM_sql_e</th>\n",
       "      <td>0.123333</td>\n",
       "      <td>0.000000</td>\n",
       "    </tr>\n",
       "  </tbody>\n",
       "</table>\n",
       "<p>865 rows × 2 columns</p>\n",
       "</div>"
      ],
      "text/plain": [
       "<Solution 0.123 at 0x7ff46392d910>"
      ]
     },
     "execution_count": 27,
     "metadata": {},
     "output_type": "execute_result"
    }
   ],
   "source": [
    "modelexporter.optimize()"
   ]
  },
  {
   "cell_type": "code",
   "execution_count": null,
   "id": "1e38ef2e-506d-46bf-b0b7-e3bd132b60f6",
   "metadata": {},
   "outputs": [],
   "source": []
  },
  {
   "cell_type": "code",
   "execution_count": null,
   "id": "5e95eae0-1cd5-4a7b-bf31-e7bab033d201",
   "metadata": {},
   "outputs": [],
   "source": []
  },
  {
   "cell_type": "code",
   "execution_count": null,
   "id": "91ec9bf2-0ca0-4e6b-93ed-0a0dd20d72fa",
   "metadata": {},
   "outputs": [],
   "source": []
  },
  {
   "cell_type": "code",
   "execution_count": null,
   "id": "3e76dd96-0b86-4451-b68a-8f14b841855f",
   "metadata": {},
   "outputs": [],
   "source": []
  }
 ],
 "metadata": {
  "kernelspec": {
   "display_name": "Python 3 (ipykernel)",
   "language": "python",
   "name": "python3"
  },
  "language_info": {
   "codemirror_mode": {
    "name": "ipython",
    "version": 3
   },
   "file_extension": ".py",
   "mimetype": "text/x-python",
   "name": "python",
   "nbconvert_exporter": "python",
   "pygments_lexer": "ipython3",
   "version": "3.9.12"
  }
 },
 "nbformat": 4,
 "nbformat_minor": 5
}
