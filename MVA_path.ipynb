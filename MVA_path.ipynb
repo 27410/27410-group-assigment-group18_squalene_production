{
 "cells": [
  {
   "cell_type": "code",
   "execution_count": 9,
   "id": "2ff85e84",
   "metadata": {},
   "outputs": [],
   "source": [
    "# Required packes\n",
    "import cobra\n",
    "from cobra import Model, Reaction, Metabolite\n",
    "from cobra.io import read_sbml_model\n",
    "\n",
    "# Input model\n",
    "model=read_sbml_model('iJN678mod.xml')"
   ]
  },
  {
   "cell_type": "markdown",
   "id": "3bcabf1b",
   "metadata": {},
   "source": [
    "# MVA Pathway"
   ]
  },
  {
   "cell_type": "markdown",
   "id": "658a34fb",
   "metadata": {},
   "source": [
    "**Reaction 1**"
   ]
  },
  {
   "cell_type": "code",
   "execution_count": 10,
   "id": "3c1f87a3",
   "metadata": {},
   "outputs": [
    {
     "data": {
      "text/html": [
       "\n",
       "        <table>\n",
       "            <tr>\n",
       "                <td><strong>Reaction identifier</strong></td><td>DM_hmgcoa_c</td>\n",
       "            </tr><tr>\n",
       "                <td><strong>Name</strong></td><td>(S)-3-hydroxy-3-methylglutaryl-CoA demand</td>\n",
       "            </tr><tr>\n",
       "                <td><strong>Memory address</strong></td>\n",
       "                <td>0x7fc02471e670</td>\n",
       "            </tr><tr>\n",
       "                <td><strong>Stoichiometry</strong></td>\n",
       "                <td>\n",
       "                    <p style='text-align:right'>hmgcoa_c --></p>\n",
       "                    <p style='text-align:right'>(S)-3-hydroxy-3-methylglutaryl-CoA --></p>\n",
       "                </td>\n",
       "            </tr><tr>\n",
       "                <td><strong>GPR</strong></td><td></td>\n",
       "            </tr><tr>\n",
       "                <td><strong>Lower bound</strong></td><td>0</td>\n",
       "            </tr><tr>\n",
       "                <td><strong>Upper bound</strong></td><td>1000.0</td>\n",
       "            </tr>\n",
       "        </table>\n",
       "        "
      ],
      "text/plain": [
       "<Reaction DM_hmgcoa_c at 0x7fc02471e670>"
      ]
     },
     "execution_count": 10,
     "metadata": {},
     "output_type": "execute_result"
    }
   ],
   "source": [
    "# Defining the reactions\n",
    "reaction1 = Reaction('R_MVA1') # Acetoacetyl-CoA + H2O + Acetyl-CoA => (S)-3-hydroxy-3-methylglutaryl-CoA + CoA\n",
    "reaction1.name = 'Hydroxymethylglutaryl-CoA synthase'\n",
    "reaction1.subsystem = 'Mevalonate pathway'\n",
    "#reaction1.lower_bound = 0.  # This is the default\n",
    "#reaction1.upper_bound = 1000.  # This is the default\n",
    "\n",
    "# Defining the reactions\n",
    "hmgcoa_c = Metabolite(\n",
    "    'hmgcoa_c',\n",
    "    formula='C27H44N7O20P3S',\n",
    "    name='(S)-3-hydroxy-3-methylglutaryl-CoA',\n",
    "    compartment='c')\n",
    "\n",
    "# Defining the reactions\n",
    "reaction1.add_metabolites({\n",
    "    model.metabolites.get_by_id('aacoa_c'): -1,\n",
    "    model.metabolites.get_by_id('h2o_c'): -1,\n",
    "    model.metabolites.get_by_id('accoa_c'): -1,\n",
    "    hmgcoa_c: 1,\n",
    "    model.metabolites.get_by_id('coa_c'): 1,\n",
    "})\n",
    "\n",
    "# Adding the reactions to the model\n",
    "reaction1.reaction # This gives a string representation of the reaction\n",
    "\n",
    "reaction1.gene_reaction_rule = '( G_MVA1 )'\n",
    "\n",
    "model.add_reactions([reaction1])\n",
    "model.add_boundary(model.metabolites.hmgcoa_c, type='demand')"
   ]
  },
  {
   "cell_type": "markdown",
   "id": "d45cc63a",
   "metadata": {},
   "source": [
    "**Reaction 2**"
   ]
  },
  {
   "cell_type": "code",
   "execution_count": 11,
   "id": "6ca6fc52",
   "metadata": {},
   "outputs": [
    {
     "data": {
      "text/html": [
       "\n",
       "        <table>\n",
       "            <tr>\n",
       "                <td><strong>Reaction identifier</strong></td><td>DM_mva_c</td>\n",
       "            </tr><tr>\n",
       "                <td><strong>Name</strong></td><td>Mevalonate demand</td>\n",
       "            </tr><tr>\n",
       "                <td><strong>Memory address</strong></td>\n",
       "                <td>0x7fc0245065b0</td>\n",
       "            </tr><tr>\n",
       "                <td><strong>Stoichiometry</strong></td>\n",
       "                <td>\n",
       "                    <p style='text-align:right'>mva_c --></p>\n",
       "                    <p style='text-align:right'>Mevalonate --></p>\n",
       "                </td>\n",
       "            </tr><tr>\n",
       "                <td><strong>GPR</strong></td><td></td>\n",
       "            </tr><tr>\n",
       "                <td><strong>Lower bound</strong></td><td>0</td>\n",
       "            </tr><tr>\n",
       "                <td><strong>Upper bound</strong></td><td>1000.0</td>\n",
       "            </tr>\n",
       "        </table>\n",
       "        "
      ],
      "text/plain": [
       "<Reaction DM_mva_c at 0x7fc0245065b0>"
      ]
     },
     "execution_count": 11,
     "metadata": {},
     "output_type": "execute_result"
    }
   ],
   "source": [
    "# Defining the reactions\n",
    "reaction2 = Reaction('R_MVA2') # MHG-CoA + 2 NADPH + 2H+ => Mevalonate + 2 NADP+ + CoA\n",
    "reaction2.name = 'hydroxymethylglutaryl-CoA reductase (NADPH)'\n",
    "reaction2.subsystem = 'Mevalonate pathway'\n",
    "#reaction2.lower_bound = 0.  # This is the default\n",
    "#reaction2.upper_bound = 1000.  # This is the default\n",
    "\n",
    "# Defining the reactions\n",
    "mva_c = Metabolite(\n",
    "    'mva_c',\n",
    "    formula='C6O4H12',\n",
    "    name='Mevalonate',\n",
    "    compartment='c')\n",
    "\n",
    "# Defining the reactions\n",
    "reaction2.add_metabolites({\n",
    "    model.metabolites.get_by_id('hmgcoa_c'): -1,\n",
    "    model.metabolites.get_by_id('nadph_c'): -2,\n",
    "    model.metabolites.get_by_id('h_c'): -2,\n",
    "    mva_c: 1,\n",
    "    model.metabolites.get_by_id('nadp_c'): 2,\n",
    "    model.metabolites.get_by_id('coa_c'): 1,\n",
    "})\n",
    "\n",
    "# Adding the reactions to the model\n",
    "reaction2.reaction # This gives a string representation of the reaction \n",
    "\n",
    "reaction2.gene_reaction_rule = '( G_MVA2 )'\n",
    "\n",
    "model.add_reactions([reaction2])\n",
    "model.add_boundary(model.metabolites.mva_c, type='demand')"
   ]
  },
  {
   "cell_type": "markdown",
   "id": "f29664d7",
   "metadata": {},
   "source": [
    "**Reaction 3**"
   ]
  },
  {
   "cell_type": "code",
   "execution_count": 12,
   "id": "3f7983e6",
   "metadata": {},
   "outputs": [
    {
     "data": {
      "text/html": [
       "\n",
       "        <table>\n",
       "            <tr>\n",
       "                <td><strong>Reaction identifier</strong></td><td>DM_mvap_c</td>\n",
       "            </tr><tr>\n",
       "                <td><strong>Name</strong></td><td>Mevalonate-5-phoshphate demand</td>\n",
       "            </tr><tr>\n",
       "                <td><strong>Memory address</strong></td>\n",
       "                <td>0x7fc02471e1c0</td>\n",
       "            </tr><tr>\n",
       "                <td><strong>Stoichiometry</strong></td>\n",
       "                <td>\n",
       "                    <p style='text-align:right'>mvap_c --></p>\n",
       "                    <p style='text-align:right'>Mevalonate-5-phoshphate --></p>\n",
       "                </td>\n",
       "            </tr><tr>\n",
       "                <td><strong>GPR</strong></td><td></td>\n",
       "            </tr><tr>\n",
       "                <td><strong>Lower bound</strong></td><td>0</td>\n",
       "            </tr><tr>\n",
       "                <td><strong>Upper bound</strong></td><td>1000.0</td>\n",
       "            </tr>\n",
       "        </table>\n",
       "        "
      ],
      "text/plain": [
       "<Reaction DM_mvap_c at 0x7fc02471e1c0>"
      ]
     },
     "execution_count": 12,
     "metadata": {},
     "output_type": "execute_result"
    }
   ],
   "source": [
    "# Defining the reactions\n",
    "reaction3 = Reaction('R_MVA3') # Mevalonate + ATP => Mevalonate-5-phoshphate + ADP\n",
    "reaction3.name = 'mevalonate kinase '\n",
    "reaction3.subsystem = 'Mevalonate pathway'\n",
    "#reaction3.lower_bound = 0.  # This is the default\n",
    "#reaction3.upper_bound = 1000.  # This is the default\n",
    "\n",
    "# Defining the reactions\n",
    "mvap_c = Metabolite(\n",
    "    'mvap_c',\n",
    "    formula='C6H13O7P',\n",
    "    name='Mevalonate-5-phoshphate',\n",
    "    compartment='c')\n",
    "\n",
    "# Defining the reactions\n",
    "reaction3.add_metabolites({\n",
    "    model.metabolites.get_by_id('mva_c'): -1,\n",
    "    model.metabolites.get_by_id('atp_c'): -1,\n",
    "    mvap_c: 1,\n",
    "    model.metabolites.get_by_id('adp_c'): 1,\n",
    "})\n",
    "\n",
    "# Adding the reactions to the model\n",
    "reaction3.reaction # This gives a string representation of the reaction \n",
    "\n",
    "reaction3.gene_reaction_rule = '( G_MVA3 )'\n",
    "\n",
    "model.add_reactions([reaction3])\n",
    "model.add_boundary(model.metabolites.mvap_c, type='demand')"
   ]
  },
  {
   "cell_type": "markdown",
   "id": "91690fe6",
   "metadata": {},
   "source": [
    "**Reaction 4**"
   ]
  },
  {
   "cell_type": "code",
   "execution_count": 13,
   "id": "cfeba544",
   "metadata": {},
   "outputs": [
    {
     "data": {
      "text/html": [
       "\n",
       "        <table>\n",
       "            <tr>\n",
       "                <td><strong>Reaction identifier</strong></td><td>DM_mvapp_c</td>\n",
       "            </tr><tr>\n",
       "                <td><strong>Name</strong></td><td>Mevalonate-5-diphosphate demand</td>\n",
       "            </tr><tr>\n",
       "                <td><strong>Memory address</strong></td>\n",
       "                <td>0x7fc02471eb50</td>\n",
       "            </tr><tr>\n",
       "                <td><strong>Stoichiometry</strong></td>\n",
       "                <td>\n",
       "                    <p style='text-align:right'>mvapp_c --></p>\n",
       "                    <p style='text-align:right'>Mevalonate-5-diphosphate --></p>\n",
       "                </td>\n",
       "            </tr><tr>\n",
       "                <td><strong>GPR</strong></td><td></td>\n",
       "            </tr><tr>\n",
       "                <td><strong>Lower bound</strong></td><td>0</td>\n",
       "            </tr><tr>\n",
       "                <td><strong>Upper bound</strong></td><td>1000.0</td>\n",
       "            </tr>\n",
       "        </table>\n",
       "        "
      ],
      "text/plain": [
       "<Reaction DM_mvapp_c at 0x7fc02471eb50>"
      ]
     },
     "execution_count": 13,
     "metadata": {},
     "output_type": "execute_result"
    }
   ],
   "source": [
    "# Defining the reactions\n",
    "reaction4 = Reaction('R_MVA4') # Mevalonate-5-phosphate + ATP => Mevalonate-5-diphosphate + ADP\n",
    "reaction4.name = 'phosphomevalonate kinase'\n",
    "reaction4.subsystem = 'Mevalonate pathway'\n",
    "#reaction4.lower_bound = 0.  # This is the default\n",
    "#reaction4.upper_bound = 1000.  # This is the default\n",
    "\n",
    "# Defining the reactions\n",
    "mvapp_c = Metabolite(\n",
    "    'mvapp_c',\n",
    "    formula='C6H14O10P2',\n",
    "    name='Mevalonate-5-diphosphate',\n",
    "    compartment='c')\n",
    "\n",
    "# Defining the reactions\n",
    "reaction4.add_metabolites({\n",
    "    model.metabolites.get_by_id('mvap_c'): -1,\n",
    "    model.metabolites.get_by_id('atp_c'): -1,\n",
    "    mvapp_c: 1,\n",
    "    model.metabolites.get_by_id('adp_c'): 1,\n",
    "})\n",
    "\n",
    "# Adding the reactions to the model\n",
    "reaction4.reaction # This gives a string representation of the reaction \n",
    "\n",
    "reaction4.gene_reaction_rule = '( G_MVA4 )'\n",
    "\n",
    "model.add_reactions([reaction4])\n",
    "model.add_boundary(model.metabolites.mvapp_c, type='demand')"
   ]
  },
  {
   "cell_type": "markdown",
   "id": "38b0a2da",
   "metadata": {},
   "source": [
    "**Reaction 5**"
   ]
  },
  {
   "cell_type": "code",
   "execution_count": 14,
   "id": "dbeca2b7",
   "metadata": {},
   "outputs": [
    {
     "data": {
      "text/html": [
       "\n",
       "        <table>\n",
       "            <tr>\n",
       "                <td><strong>Reaction identifier</strong></td><td>DM_ipdp_c</td>\n",
       "            </tr><tr>\n",
       "                <td><strong>Name</strong></td><td>Isopentenyl diphosphate demand</td>\n",
       "            </tr><tr>\n",
       "                <td><strong>Memory address</strong></td>\n",
       "                <td>0x7fc0247b8970</td>\n",
       "            </tr><tr>\n",
       "                <td><strong>Stoichiometry</strong></td>\n",
       "                <td>\n",
       "                    <p style='text-align:right'>ipdp_c --></p>\n",
       "                    <p style='text-align:right'>Isopentenyl diphosphate --></p>\n",
       "                </td>\n",
       "            </tr><tr>\n",
       "                <td><strong>GPR</strong></td><td></td>\n",
       "            </tr><tr>\n",
       "                <td><strong>Lower bound</strong></td><td>0</td>\n",
       "            </tr><tr>\n",
       "                <td><strong>Upper bound</strong></td><td>1000.0</td>\n",
       "            </tr>\n",
       "        </table>\n",
       "        "
      ],
      "text/plain": [
       "<Reaction DM_ipdp_c at 0x7fc0247b8970>"
      ]
     },
     "execution_count": 14,
     "metadata": {},
     "output_type": "execute_result"
    }
   ],
   "source": [
    "# Defining the reactions\n",
    "reaction5 = Reaction('R_MVA5') # Mevalonate-5-diphosphate + ATP => Isopenthenyl diphosphate + ADP + CO2 + Pi\n",
    "reaction5.name = 'diphosphomevalonate decarboxylase'\n",
    "reaction5.subsystem = 'Mevalonate pathway'\n",
    "#reaction5.lower_bound = 0.  # This is the default\n",
    "#reaction5.upper_bound = 1000.  # This is the default\n",
    "\n",
    "# Defining the reactions\n",
    "reaction5.add_metabolites({\n",
    "    model.metabolites.get_by_id('mvapp_c'): -1,\n",
    "    model.metabolites.get_by_id('atp_c'): -1,\n",
    "    model.metabolites.get_by_id('ipdp_c'): 1,                                 \n",
    "    model.metabolites.get_by_id('adp_c'): 1,\n",
    "    model.metabolites.get_by_id('pi_c'): 1,\n",
    "    model.metabolites.get_by_id('co2_c'): 1,\n",
    "})\n",
    "\n",
    "# Adding the reactions to the model\n",
    "reaction5.reaction # This gives a string representation of the reaction \n",
    "\n",
    "reaction5.gene_reaction_rule = '( G_MVA5 )'\n",
    "\n",
    "model.add_reactions([reaction5])\n",
    "model.add_boundary(model.metabolites.ipdp_c, type='demand')"
   ]
  },
  {
   "cell_type": "code",
   "execution_count": 15,
   "id": "188d3d8a",
   "metadata": {},
   "outputs": [
    {
     "name": "stdout",
     "output_type": "stream",
     "text": [
      "(<Model iJN678 at 0x7fc02471eee0>, {'SBML_FATAL': [], 'SBML_ERROR': [], 'SBML_SCHEMA_ERROR': [], 'SBML_WARNING': [], 'COBRA_FATAL': [], 'COBRA_ERROR': [], 'COBRA_WARNING': [], 'COBRA_CHECK': []})\n"
     ]
    }
   ],
   "source": [
    "# Remove \"#\" in front of the code lines below to generate \n",
    "# new .xml model file with the added reactions\n",
    "\n",
    "from cobra.io import write_sbml_model, validate_sbml_model\n",
    "write_sbml_model(model, filename='iJN678mva.xml')\n",
    "report = validate_sbml_model(filename='iJN678mva.xml')\n",
    "\n",
    "print(report)"
   ]
  }
 ],
 "metadata": {
  "kernelspec": {
   "display_name": "Python 3 (ipykernel)",
   "language": "python",
   "name": "python3"
  },
  "language_info": {
   "codemirror_mode": {
    "name": "ipython",
    "version": 3
   },
   "file_extension": ".py",
   "mimetype": "text/x-python",
   "name": "python",
   "nbconvert_exporter": "python",
   "pygments_lexer": "ipython3",
   "version": "3.8.10"
  }
 },
 "nbformat": 4,
 "nbformat_minor": 5
}
