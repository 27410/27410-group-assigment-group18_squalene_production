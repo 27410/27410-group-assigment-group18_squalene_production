{
 "cells": [
  {
   "cell_type": "code",
   "execution_count": 1,
   "id": "f3195458",
   "metadata": {},
   "outputs": [
    {
     "name": "stdout",
     "output_type": "stream",
     "text": [
      "Scaling...\n",
      " A: min|aij| =  1.000e+00  max|aij| =  1.000e+00  ratio =  1.000e+00\n",
      "Problem data seem to be well scaled\n"
     ]
    }
   ],
   "source": [
    "# Required packes\n",
    "import cobra\n",
    "from cobra import Model, Reaction, Metabolite\n",
    "from cobra.io import read_sbml_model\n",
    "\n",
    "# Input model\n",
    "model=read_sbml_model('iJN678.xml')"
   ]
  },
  {
   "cell_type": "markdown",
   "id": "b920a5cc",
   "metadata": {},
   "source": [
    "# MVA Pathway"
   ]
  },
  {
   "cell_type": "markdown",
   "id": "279e4fbe",
   "metadata": {},
   "source": [
    "**Reaction 0**"
   ]
  },
  {
   "cell_type": "code",
   "execution_count": 2,
   "id": "e4e28bb5",
   "metadata": {},
   "outputs": [
    {
     "data": {
      "text/html": [
       "\n",
       "        <table>\n",
       "            <tr>\n",
       "                <td><strong>Reaction identifier</strong></td><td>DM_aacoa_c</td>\n",
       "            </tr><tr>\n",
       "                <td><strong>Name</strong></td><td>Acetoacetyl-CoA demand</td>\n",
       "            </tr><tr>\n",
       "                <td><strong>Memory address</strong></td>\n",
       "                <td>0x7f9ea98a7e80</td>\n",
       "            </tr><tr>\n",
       "                <td><strong>Stoichiometry</strong></td>\n",
       "                <td>\n",
       "                    <p style='text-align:right'>aacoa_c --></p>\n",
       "                    <p style='text-align:right'>Acetoacetyl-CoA --></p>\n",
       "                </td>\n",
       "            </tr><tr>\n",
       "                <td><strong>GPR</strong></td><td></td>\n",
       "            </tr><tr>\n",
       "                <td><strong>Lower bound</strong></td><td>0</td>\n",
       "            </tr><tr>\n",
       "                <td><strong>Upper bound</strong></td><td>1000.0</td>\n",
       "            </tr>\n",
       "        </table>\n",
       "        "
      ],
      "text/plain": [
       "<Reaction DM_aacoa_c at 0x7f9ea98a7e80>"
      ]
     },
     "execution_count": 2,
     "metadata": {},
     "output_type": "execute_result"
    }
   ],
   "source": [
    "# Defining the reactions\n",
    "reaction0 = Reaction('R_MVA0') # 2 Acetyl-Coa => Acetoacetyl-CoA + CoA\n",
    "reaction0.name = 'acetyl-CoA C-acetyltransferase'\n",
    "reaction0.subsystem = 'Melavonate Pathway'\n",
    "#reaction0.lower_bound = 0.  # Set as a default\n",
    "#reaction0.upper_bound = 1000.  # Set as a default\n",
    "\n",
    "# Defining the metabolites\n",
    "aacoa_c = Metabolite(\n",
    "    id = 'aacoa_c',\n",
    "    formula='C25H40N7O18P3S',\n",
    "    name ='Acetoacetyl-CoA',\n",
    "    compartment ='c')\n",
    "\n",
    "# Adding the metabolites to the reaction\n",
    "reaction0.add_metabolites({\n",
    "    model.metabolites.get_by_id('accoa_c'): -2, # Acetyl-CoA\n",
    "    aacoa_c: 1,\n",
    "    model.metabolites.get_by_id('coa_c'): 1, # Coenzyme A\n",
    "})\n",
    "\n",
    "reaction0.reaction # This gives a string representation of the reaction \n",
    "\n",
    "# Adding the genes of the reactions\n",
    "reaction0.gene_reaction_rule = '( G_MVA0 )'\n",
    "\n",
    "# Adding the reactions to the model\n",
    "model.add_reactions([reaction0])\n",
    "model.add_boundary(model.metabolites.aacoa_c, type='demand')"
   ]
  },
  {
   "cell_type": "markdown",
   "id": "2504766b",
   "metadata": {},
   "source": [
    "**Reaction 1**"
   ]
  },
  {
   "cell_type": "code",
   "execution_count": 3,
   "id": "c18b0556",
   "metadata": {},
   "outputs": [
    {
     "data": {
      "text/html": [
       "\n",
       "        <table>\n",
       "            <tr>\n",
       "                <td><strong>Reaction identifier</strong></td><td>DM_hmgcoa_c</td>\n",
       "            </tr><tr>\n",
       "                <td><strong>Name</strong></td><td>(S)-3-hydroxy-3-methylglutaryl-CoA demand</td>\n",
       "            </tr><tr>\n",
       "                <td><strong>Memory address</strong></td>\n",
       "                <td>0x7f9ea99d1610</td>\n",
       "            </tr><tr>\n",
       "                <td><strong>Stoichiometry</strong></td>\n",
       "                <td>\n",
       "                    <p style='text-align:right'>hmgcoa_c --></p>\n",
       "                    <p style='text-align:right'>(S)-3-hydroxy-3-methylglutaryl-CoA --></p>\n",
       "                </td>\n",
       "            </tr><tr>\n",
       "                <td><strong>GPR</strong></td><td></td>\n",
       "            </tr><tr>\n",
       "                <td><strong>Lower bound</strong></td><td>0</td>\n",
       "            </tr><tr>\n",
       "                <td><strong>Upper bound</strong></td><td>1000.0</td>\n",
       "            </tr>\n",
       "        </table>\n",
       "        "
      ],
      "text/plain": [
       "<Reaction DM_hmgcoa_c at 0x7f9ea99d1610>"
      ]
     },
     "execution_count": 3,
     "metadata": {},
     "output_type": "execute_result"
    }
   ],
   "source": [
    "# Defining the reactions\n",
    "reaction1 = Reaction('R_MVA1') # Acetoacetyl-CoA + H2O + Acetyl-CoA => (S)-3-hydroxy-3-methylglutaryl-CoA + CoA\n",
    "reaction1.name = 'Hydroxymethylglutaryl-CoA synthase'\n",
    "reaction1.subsystem = 'Mevalonate pathway'\n",
    "#reaction1.lower_bound = 0.  # This is the default\n",
    "#reaction1.upper_bound = 1000.  # This is the default\n",
    "\n",
    "# Defining the reactions\n",
    "hmgcoa_c = Metabolite(\n",
    "    'hmgcoa_c',\n",
    "    formula='C27H44N7O20P3S',\n",
    "    name='(S)-3-hydroxy-3-methylglutaryl-CoA',\n",
    "    compartment='c')\n",
    "\n",
    "# Defining the reactions\n",
    "reaction1.add_metabolites({\n",
    "    model.metabolites.get_by_id('aacoa_c'): -1,\n",
    "    model.metabolites.get_by_id('h2o_c'): -1,\n",
    "    model.metabolites.get_by_id('accoa_c'): -1,\n",
    "    hmgcoa_c: 1,\n",
    "    model.metabolites.get_by_id('coa_c'): 1,\n",
    "})\n",
    "\n",
    "# Adding the reactions to the model\n",
    "reaction1.reaction # This gives a string representation of the reaction\n",
    "\n",
    "reaction1.gene_reaction_rule = '( G_MVA1 )'\n",
    "\n",
    "model.add_reactions([reaction1])\n",
    "model.add_boundary(model.metabolites.hmgcoa_c, type='demand')"
   ]
  },
  {
   "cell_type": "markdown",
   "id": "3d06c947",
   "metadata": {},
   "source": [
    "**Reaction 2**"
   ]
  },
  {
   "cell_type": "code",
   "execution_count": 4,
   "id": "57be8acd",
   "metadata": {},
   "outputs": [
    {
     "data": {
      "text/html": [
       "\n",
       "        <table>\n",
       "            <tr>\n",
       "                <td><strong>Reaction identifier</strong></td><td>DM_mva_c</td>\n",
       "            </tr><tr>\n",
       "                <td><strong>Name</strong></td><td>Mevalonate demand</td>\n",
       "            </tr><tr>\n",
       "                <td><strong>Memory address</strong></td>\n",
       "                <td>0x7f9ea8e41a30</td>\n",
       "            </tr><tr>\n",
       "                <td><strong>Stoichiometry</strong></td>\n",
       "                <td>\n",
       "                    <p style='text-align:right'>mva_c --></p>\n",
       "                    <p style='text-align:right'>Mevalonate --></p>\n",
       "                </td>\n",
       "            </tr><tr>\n",
       "                <td><strong>GPR</strong></td><td></td>\n",
       "            </tr><tr>\n",
       "                <td><strong>Lower bound</strong></td><td>0</td>\n",
       "            </tr><tr>\n",
       "                <td><strong>Upper bound</strong></td><td>1000.0</td>\n",
       "            </tr>\n",
       "        </table>\n",
       "        "
      ],
      "text/plain": [
       "<Reaction DM_mva_c at 0x7f9ea8e41a30>"
      ]
     },
     "execution_count": 4,
     "metadata": {},
     "output_type": "execute_result"
    }
   ],
   "source": [
    "# Defining the reactions\n",
    "reaction2 = Reaction('R_MVA2') # MHG-CoA + 2 NADPH + 2H+ => Mevalonate + 2 NADP+ + CoA\n",
    "reaction2.name = 'hydroxymethylglutaryl-CoA reductase (NADPH)'\n",
    "reaction2.subsystem = 'Mevalonate pathway'\n",
    "#reaction2.lower_bound = 0.  # This is the default\n",
    "#reaction2.upper_bound = 1000.  # This is the default\n",
    "\n",
    "# Defining the reactions\n",
    "mva_c = Metabolite(\n",
    "    'mva_c',\n",
    "    formula='C6O4H12',\n",
    "    name='Mevalonate',\n",
    "    compartment='c')\n",
    "\n",
    "# Defining the reactions\n",
    "reaction2.add_metabolites({\n",
    "    model.metabolites.get_by_id('hmgcoa_c'): -1,\n",
    "    model.metabolites.get_by_id('nadph_c'): -2,\n",
    "    model.metabolites.get_by_id('h_c'): -2,\n",
    "    mva_c: 1,\n",
    "    model.metabolites.get_by_id('nadp_c'): 2,\n",
    "    model.metabolites.get_by_id('coa_c'): 1,\n",
    "})\n",
    "\n",
    "# Adding the reactions to the model\n",
    "reaction2.reaction # This gives a string representation of the reaction \n",
    "\n",
    "reaction2.gene_reaction_rule = '( G_MVA2 )'\n",
    "\n",
    "model.add_reactions([reaction2])\n",
    "model.add_boundary(model.metabolites.mva_c, type='demand')"
   ]
  },
  {
   "cell_type": "markdown",
   "id": "4315a78c",
   "metadata": {},
   "source": [
    "**Reaction 3**"
   ]
  },
  {
   "cell_type": "code",
   "execution_count": 5,
   "id": "8e997b05",
   "metadata": {},
   "outputs": [
    {
     "data": {
      "text/html": [
       "\n",
       "        <table>\n",
       "            <tr>\n",
       "                <td><strong>Reaction identifier</strong></td><td>DM_mvap_c</td>\n",
       "            </tr><tr>\n",
       "                <td><strong>Name</strong></td><td>Mevalonate-5-phoshphate demand</td>\n",
       "            </tr><tr>\n",
       "                <td><strong>Memory address</strong></td>\n",
       "                <td>0x7f9e983f6400</td>\n",
       "            </tr><tr>\n",
       "                <td><strong>Stoichiometry</strong></td>\n",
       "                <td>\n",
       "                    <p style='text-align:right'>mvap_c --></p>\n",
       "                    <p style='text-align:right'>Mevalonate-5-phoshphate --></p>\n",
       "                </td>\n",
       "            </tr><tr>\n",
       "                <td><strong>GPR</strong></td><td></td>\n",
       "            </tr><tr>\n",
       "                <td><strong>Lower bound</strong></td><td>0</td>\n",
       "            </tr><tr>\n",
       "                <td><strong>Upper bound</strong></td><td>1000.0</td>\n",
       "            </tr>\n",
       "        </table>\n",
       "        "
      ],
      "text/plain": [
       "<Reaction DM_mvap_c at 0x7f9e983f6400>"
      ]
     },
     "execution_count": 5,
     "metadata": {},
     "output_type": "execute_result"
    }
   ],
   "source": [
    "# Defining the reactions\n",
    "reaction3 = Reaction('R_MVA3') # Mevalonate + ATP => Mevalonate-5-phoshphate + ADP\n",
    "reaction3.name = 'mevalonate kinase '\n",
    "reaction3.subsystem = 'Mevalonate pathway'\n",
    "#reaction3.lower_bound = 0.  # This is the default\n",
    "#reaction3.upper_bound = 1000.  # This is the default\n",
    "\n",
    "# Defining the reactions\n",
    "mvap_c = Metabolite(\n",
    "    'mvap_c',\n",
    "    formula='C6H13O7P',\n",
    "    name='Mevalonate-5-phoshphate',\n",
    "    compartment='c')\n",
    "\n",
    "# Defining the reactions\n",
    "reaction3.add_metabolites({\n",
    "    model.metabolites.get_by_id('mva_c'): -1,\n",
    "    model.metabolites.get_by_id('atp_c'): -1,\n",
    "    mvap_c: 1,\n",
    "    model.metabolites.get_by_id('adp_c'): 1,\n",
    "})\n",
    "\n",
    "# Adding the reactions to the model\n",
    "reaction3.reaction # This gives a string representation of the reaction \n",
    "\n",
    "reaction3.gene_reaction_rule = '( G_MVA3 )'\n",
    "\n",
    "model.add_reactions([reaction3])\n",
    "model.add_boundary(model.metabolites.mvap_c, type='demand')"
   ]
  },
  {
   "cell_type": "markdown",
   "id": "6d0253df",
   "metadata": {},
   "source": [
    "**Reaction 4**"
   ]
  },
  {
   "cell_type": "code",
   "execution_count": 6,
   "id": "83c71af1",
   "metadata": {},
   "outputs": [
    {
     "data": {
      "text/html": [
       "\n",
       "        <table>\n",
       "            <tr>\n",
       "                <td><strong>Reaction identifier</strong></td><td>DM_mvapp_c</td>\n",
       "            </tr><tr>\n",
       "                <td><strong>Name</strong></td><td>Mevalonate-5-diphosphate demand</td>\n",
       "            </tr><tr>\n",
       "                <td><strong>Memory address</strong></td>\n",
       "                <td>0x7f9e98418dc0</td>\n",
       "            </tr><tr>\n",
       "                <td><strong>Stoichiometry</strong></td>\n",
       "                <td>\n",
       "                    <p style='text-align:right'>mvapp_c --></p>\n",
       "                    <p style='text-align:right'>Mevalonate-5-diphosphate --></p>\n",
       "                </td>\n",
       "            </tr><tr>\n",
       "                <td><strong>GPR</strong></td><td></td>\n",
       "            </tr><tr>\n",
       "                <td><strong>Lower bound</strong></td><td>0</td>\n",
       "            </tr><tr>\n",
       "                <td><strong>Upper bound</strong></td><td>1000.0</td>\n",
       "            </tr>\n",
       "        </table>\n",
       "        "
      ],
      "text/plain": [
       "<Reaction DM_mvapp_c at 0x7f9e98418dc0>"
      ]
     },
     "execution_count": 6,
     "metadata": {},
     "output_type": "execute_result"
    }
   ],
   "source": [
    "# Defining the reactions\n",
    "reaction4 = Reaction('R_MVA4') # Mevalonate-5-phosphate + ATP => Mevalonate-5-diphosphate + ADP\n",
    "reaction4.name = 'phosphomevalonate kinase'\n",
    "reaction4.subsystem = 'Mevalonate pathway'\n",
    "#reaction4.lower_bound = 0.  # This is the default\n",
    "#reaction4.upper_bound = 1000.  # This is the default\n",
    "\n",
    "# Defining the reactions\n",
    "mvapp_c = Metabolite(\n",
    "    'mvapp_c',\n",
    "    formula='C6H14O10P2',\n",
    "    name='Mevalonate-5-diphosphate',\n",
    "    compartment='c')\n",
    "\n",
    "# Defining the reactions\n",
    "reaction4.add_metabolites({\n",
    "    model.metabolites.get_by_id('mvap_c'): -1,\n",
    "    model.metabolites.get_by_id('atp_c'): -1,\n",
    "    mvapp_c: 1,\n",
    "    model.metabolites.get_by_id('adp_c'): 1,\n",
    "})\n",
    "\n",
    "# Adding the reactions to the model\n",
    "reaction4.reaction # This gives a string representation of the reaction \n",
    "\n",
    "reaction4.gene_reaction_rule = '( G_MVA4 )'\n",
    "\n",
    "model.add_reactions([reaction4])\n",
    "model.add_boundary(model.metabolites.mvapp_c, type='demand')"
   ]
  },
  {
   "cell_type": "markdown",
   "id": "c40ab4c4",
   "metadata": {},
   "source": [
    "**Reaction 5**"
   ]
  },
  {
   "cell_type": "code",
   "execution_count": 7,
   "id": "72ec35c1",
   "metadata": {},
   "outputs": [
    {
     "data": {
      "text/html": [
       "\n",
       "        <table>\n",
       "            <tr>\n",
       "                <td><strong>Reaction identifier</strong></td><td>DM_ipdp_c</td>\n",
       "            </tr><tr>\n",
       "                <td><strong>Name</strong></td><td>Isopentenyl diphosphate demand</td>\n",
       "            </tr><tr>\n",
       "                <td><strong>Memory address</strong></td>\n",
       "                <td>0x7f9e985ea640</td>\n",
       "            </tr><tr>\n",
       "                <td><strong>Stoichiometry</strong></td>\n",
       "                <td>\n",
       "                    <p style='text-align:right'>ipdp_c --></p>\n",
       "                    <p style='text-align:right'>Isopentenyl diphosphate --></p>\n",
       "                </td>\n",
       "            </tr><tr>\n",
       "                <td><strong>GPR</strong></td><td></td>\n",
       "            </tr><tr>\n",
       "                <td><strong>Lower bound</strong></td><td>0</td>\n",
       "            </tr><tr>\n",
       "                <td><strong>Upper bound</strong></td><td>1000.0</td>\n",
       "            </tr>\n",
       "        </table>\n",
       "        "
      ],
      "text/plain": [
       "<Reaction DM_ipdp_c at 0x7f9e985ea640>"
      ]
     },
     "execution_count": 7,
     "metadata": {},
     "output_type": "execute_result"
    }
   ],
   "source": [
    "# Defining the reactions\n",
    "reaction5 = Reaction('R_MVA5') # Mevalonate-5-diphosphate + ATP => Isopenthenyl diphosphate + ADP + CO2 + Pi\n",
    "reaction5.name = 'diphosphomevalonate decarboxylase'\n",
    "reaction5.subsystem = 'Mevalonate pathway'\n",
    "#reaction5.lower_bound = 0.  # This is the default\n",
    "#reaction5.upper_bound = 1000.  # This is the default\n",
    "\n",
    "# Defining the reactions\n",
    "ipdp_c = Metabolite(\n",
    "    'ipdp_c',\n",
    "    formula='C5H12O7P2',\n",
    "    name='Isopenthenyl diphosphate',\n",
    "    compartment='c')\n",
    "\n",
    "# Defining the reactions\n",
    "reaction5.add_metabolites({\n",
    "    model.metabolites.get_by_id('mvapp_c'): -1,\n",
    "    model.metabolites.get_by_id('atp_c'): -1,\n",
    "    ipdp_c: 1,\n",
    "    model.metabolites.get_by_id('adp_c'): 1,\n",
    "    model.metabolites.get_by_id('pi_c'): 1,\n",
    "    model.metabolites.get_by_id('co2_c'): 1,\n",
    "})\n",
    "\n",
    "# Adding the reactions to the model\n",
    "reaction5.reaction # This gives a string representation of the reaction \n",
    "\n",
    "reaction5.gene_reaction_rule = '( G_MVA5 )'\n",
    "\n",
    "model.add_reactions([reaction5])\n",
    "model.add_boundary(model.metabolites.ipdp_c, type='demand')"
   ]
  },
  {
   "cell_type": "markdown",
   "id": "45e2c71c",
   "metadata": {},
   "source": [
    "**Reaction 6**"
   ]
  },
  {
   "cell_type": "code",
   "execution_count": 8,
   "id": "f9c0f9e5",
   "metadata": {},
   "outputs": [
    {
     "data": {
      "text/html": [
       "\n",
       "        <table>\n",
       "            <tr>\n",
       "                <td><strong>Reaction identifier</strong></td><td>DM_frdp_c</td>\n",
       "            </tr><tr>\n",
       "                <td><strong>Name</strong></td><td>Farnesyl diphosphate demand</td>\n",
       "            </tr><tr>\n",
       "                <td><strong>Memory address</strong></td>\n",
       "                <td>0x7f9ea99d1970</td>\n",
       "            </tr><tr>\n",
       "                <td><strong>Stoichiometry</strong></td>\n",
       "                <td>\n",
       "                    <p style='text-align:right'>frdp_c --></p>\n",
       "                    <p style='text-align:right'>Farnesyl diphosphate --></p>\n",
       "                </td>\n",
       "            </tr><tr>\n",
       "                <td><strong>GPR</strong></td><td></td>\n",
       "            </tr><tr>\n",
       "                <td><strong>Lower bound</strong></td><td>0</td>\n",
       "            </tr><tr>\n",
       "                <td><strong>Upper bound</strong></td><td>1000.0</td>\n",
       "            </tr>\n",
       "        </table>\n",
       "        "
      ],
      "text/plain": [
       "<Reaction DM_frdp_c at 0x7f9ea99d1970>"
      ]
     },
     "execution_count": 8,
     "metadata": {},
     "output_type": "execute_result"
    }
   ],
   "source": [
    "# Defining the reactions\n",
    "reaction6 = Reaction('R_MVA6') # Geranyl diphosphate + Isopenthenyl diphosphate => 2-trans,6-trans-Farnesyl diphosphate + diphosphate \n",
    "reaction6.name = 'farnesyl diphosphate synthase '\n",
    "reaction6.subsystem = 'Mevalonate pathway'\n",
    "#reaction6.lower_bound = 0.  # This is the default\n",
    "#reaction6.upper_bound = 1000.  # This is the default\n",
    "\n",
    "# Defining the reactions\n",
    "frdp_c = Metabolite(\n",
    "    'frdp_c',\n",
    "    formula='C15H28O7P2',\n",
    "    name='2-trans,6-trans-Farnesyl diphosphate',\n",
    "    compartment='c')\n",
    "\n",
    "# Defining the reactions\n",
    "reaction6.add_metabolites({\n",
    "    model.metabolites.get_by_id('grdp_c'): -1,\n",
    "    model.metabolites.get_by_id('ipdp_c'): -1,\n",
    "    frdp_c: 1,\n",
    "    model.metabolites.get_by_id('ppi_c'): 1,\n",
    "})\n",
    "\n",
    "# Adding the reactions to the model\n",
    "reaction6.reaction # This gives a string representation of the reaction \n",
    "\n",
    "reaction6.gene_reaction_rule = '( G_MVA6 )'\n",
    "\n",
    "model.add_reactions([reaction6])\n",
    "model.add_boundary(model.metabolites.frdp_c, type='demand')"
   ]
  },
  {
   "cell_type": "markdown",
   "id": "36fbd6f6",
   "metadata": {},
   "source": [
    "**Reaction 7**"
   ]
  },
  {
   "cell_type": "code",
   "execution_count": 9,
   "id": "db9d77db",
   "metadata": {},
   "outputs": [
    {
     "data": {
      "text/html": [
       "\n",
       "        <table>\n",
       "            <tr>\n",
       "                <td><strong>Reaction identifier</strong></td><td>DM_psql_c</td>\n",
       "            </tr><tr>\n",
       "                <td><strong>Name</strong></td><td>Presqualene demand</td>\n",
       "            </tr><tr>\n",
       "                <td><strong>Memory address</strong></td>\n",
       "                <td>0x7f9ea99d87c0</td>\n",
       "            </tr><tr>\n",
       "                <td><strong>Stoichiometry</strong></td>\n",
       "                <td>\n",
       "                    <p style='text-align:right'>psql_c --></p>\n",
       "                    <p style='text-align:right'>Presqualene --></p>\n",
       "                </td>\n",
       "            </tr><tr>\n",
       "                <td><strong>GPR</strong></td><td></td>\n",
       "            </tr><tr>\n",
       "                <td><strong>Lower bound</strong></td><td>0</td>\n",
       "            </tr><tr>\n",
       "                <td><strong>Upper bound</strong></td><td>1000.0</td>\n",
       "            </tr>\n",
       "        </table>\n",
       "        "
      ],
      "text/plain": [
       "<Reaction DM_psql_c at 0x7f9ea99d87c0>"
      ]
     },
     "execution_count": 9,
     "metadata": {},
     "output_type": "execute_result"
    }
   ],
   "source": [
    "# Defining the reactions\n",
    "reaction7 = Reaction('R_MVA7') # (2E,6E)-farnesyl diphosphate => presqualene diphosphate +  diphosphate\n",
    "reaction7.name = 'farnesyl-diphosphate farnesyltransferase'\n",
    "reaction7.subsystem = 'Mevalonate pathway'\n",
    "#reaction7.lower_bound = 0.  # This is the default\n",
    "#reaction7.upper_bound = 1000.  # This is the default\n",
    "\n",
    "# Defining the reactions\n",
    "psql_c = Metabolite(\n",
    "    'psql_c',\n",
    "    formula='C30H52O7P2',\n",
    "    name='Presqualene',\n",
    "    compartment='c')\n",
    "\n",
    "# Defining the reactions\n",
    "reaction7.add_metabolites({\n",
    "    model.metabolites.get_by_id('frdp_c'): -1,\n",
    "    psql_c: 1,\n",
    "    model.metabolites.get_by_id('ppi_c'): 1,\n",
    "})\n",
    "\n",
    "# Adding the reactions to the model\n",
    "reaction7.reaction # This gives a string representation of the reaction \n",
    "\n",
    "reaction7.gene_reaction_rule = '( G_MVA7 )'\n",
    "\n",
    "model.add_reactions([reaction7])\n",
    "model.add_boundary(model.metabolites.psql_c, type='demand')"
   ]
  },
  {
   "cell_type": "markdown",
   "id": "acfd6399",
   "metadata": {},
   "source": [
    "**Reaction 8**"
   ]
  },
  {
   "cell_type": "code",
   "execution_count": 10,
   "id": "b2e36c3c",
   "metadata": {},
   "outputs": [
    {
     "data": {
      "text/html": [
       "\n",
       "        <table>\n",
       "            <tr>\n",
       "                <td><strong>Reaction identifier</strong></td><td>DM_sql_c</td>\n",
       "            </tr><tr>\n",
       "                <td><strong>Name</strong></td><td>Squalene C30H50 demand</td>\n",
       "            </tr><tr>\n",
       "                <td><strong>Memory address</strong></td>\n",
       "                <td>0x7f9ea99d1460</td>\n",
       "            </tr><tr>\n",
       "                <td><strong>Stoichiometry</strong></td>\n",
       "                <td>\n",
       "                    <p style='text-align:right'>sql_c --></p>\n",
       "                    <p style='text-align:right'>Squalene C30H50 --></p>\n",
       "                </td>\n",
       "            </tr><tr>\n",
       "                <td><strong>GPR</strong></td><td></td>\n",
       "            </tr><tr>\n",
       "                <td><strong>Lower bound</strong></td><td>0</td>\n",
       "            </tr><tr>\n",
       "                <td><strong>Upper bound</strong></td><td>1000.0</td>\n",
       "            </tr>\n",
       "        </table>\n",
       "        "
      ],
      "text/plain": [
       "<Reaction DM_sql_c at 0x7f9ea99d1460>"
      ]
     },
     "execution_count": 10,
     "metadata": {},
     "output_type": "execute_result"
    }
   ],
   "source": [
    "# Defining the reactions\n",
    "reaction8 = Reaction('R_MVA8') # Presqualene diphosphate + NADPH + H+ <=> Squalene + diphosphate + NADP+\n",
    "reaction8.name = 'farnesyl-diphosphate farnesyltransferase'\n",
    "reaction8.subsystem = 'Mevalonate pathway'\n",
    "#reaction8.lower_bound = 0.  # This is the default\n",
    "#reaction8.upper_bound = 1000.  # This is the default\n",
    "\n",
    "# Defining the reactions\n",
    "sql_c = Metabolite(\n",
    "    'sql_c',\n",
    "    formula='C30H50',\n",
    "    name='Squalene',\n",
    "    compartment='c')\n",
    "\n",
    "# Defining the reactions\n",
    "reaction8.add_metabolites({\n",
    "    model.metabolites.get_by_id('psql_c'): -1,\n",
    "    model.metabolites.get_by_id('nadph_c'): -1,\n",
    "    model.metabolites.get_by_id('h_c'): -1,\n",
    "    sql_c: 1,\n",
    "    model.metabolites.get_by_id('ppi_c'): 1,\n",
    "    model.metabolites.get_by_id('nadp_c'):1\n",
    "})\n",
    "\n",
    "# Adding the reactions to the model\n",
    "reaction8.reaction # This gives a string representation of the reaction \n",
    "\n",
    "reaction8.gene_reaction_rule = '( G_MVA8 )'\n",
    "\n",
    "model.add_reactions([reaction8])\n",
    "model.add_boundary(model.metabolites.sql_c, type='demand')"
   ]
  },
  {
   "cell_type": "code",
   "execution_count": 12,
   "id": "f71088b5",
   "metadata": {},
   "outputs": [
    {
     "name": "stdout",
     "output_type": "stream",
     "text": [
      "(<Model iJN678 at 0x7f9e985eac10>, {'SBML_FATAL': [], 'SBML_ERROR': [], 'SBML_SCHEMA_ERROR': [], 'SBML_WARNING': [], 'COBRA_FATAL': [], 'COBRA_ERROR': [], 'COBRA_WARNING': [], 'COBRA_CHECK': []})\n"
     ]
    }
   ],
   "source": [
    "# Remove \"#\" in front of the code lines below to generate \n",
    "# new .xml model file with the added reactions\n",
    "\n",
    "model.objective = \"DM_sql_c\"\n",
    "model.optimize()\n",
    "\n",
    "from cobra.io import write_sbml_model, validate_sbml_model\n",
    "write_sbml_model(model, filename='iJN678mva.xml')\n",
    "report = validate_sbml_model(filename='iJN678mva.xml')\n",
    "\n",
    "print(report)"
   ]
  },
  {
   "cell_type": "code",
   "execution_count": null,
   "id": "7cc2019e-937a-41b0-85e8-632e3147ba0b",
   "metadata": {},
   "outputs": [],
   "source": []
  }
 ],
 "metadata": {
  "kernelspec": {
   "display_name": "Python 3 (ipykernel)",
   "language": "python",
   "name": "python3"
  },
  "language_info": {
   "codemirror_mode": {
    "name": "ipython",
    "version": 3
   },
   "file_extension": ".py",
   "mimetype": "text/x-python",
   "name": "python",
   "nbconvert_exporter": "python",
   "pygments_lexer": "ipython3",
   "version": "3.9.12"
  }
 },
 "nbformat": 4,
 "nbformat_minor": 5
}
