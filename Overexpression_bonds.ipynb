{
 "cells": [
  {
   "cell_type": "code",
   "execution_count": 1,
   "id": "af8c4bc3-22ac-41e1-81a3-f9d7f69ad835",
   "metadata": {},
   "outputs": [],
   "source": [
    "#Packages\n",
    "import cobra\n",
    "from cobra import Reaction, Metabolite, Model\n",
    "from cobra.io import read_sbml_model\n",
    "from cobra.flux_analysis import flux_variability_analysis\n",
    "\n",
    "#Model input\n",
    "model=read_sbml_model('iJN678mod.xml')\n",
    "model_oe = read_sbml_model('iJN678mod.xml')"
   ]
  },
  {
   "cell_type": "code",
   "execution_count": 2,
   "id": "feaa432c-3bf7-4aad-80bb-b7409dc66aa7",
   "metadata": {},
   "outputs": [
    {
     "data": {
      "text/html": [
       "\n",
       "        <table>\n",
       "            <tr>\n",
       "                <td><strong>Reaction identifier</strong></td><td>SQLS</td>\n",
       "            </tr><tr>\n",
       "                <td><strong>Name</strong></td><td>Squalene synthase</td>\n",
       "            </tr><tr>\n",
       "                <td><strong>Memory address</strong></td>\n",
       "                <td>0x7fa7515a8790</td>\n",
       "            </tr><tr>\n",
       "                <td><strong>Stoichiometry</strong></td>\n",
       "                <td>\n",
       "                    <p style='text-align:right'>2.0 frdp_c + h_c + nadph_c --> nadp_c + 2.0 ppi_c + sql_c</p>\n",
       "                    <p style='text-align:right'>2.0 Farnesyl diphosphate + H+ + Nicotinamide adenine dinucleotide phosphate - reduced --> Nicotinamide adenine dinucleotide phosphate + 2.0 Diphosphate + Squalene C30H50</p>\n",
       "                </td>\n",
       "            </tr><tr>\n",
       "                <td><strong>GPR</strong></td><td>sll0513</td>\n",
       "            </tr><tr>\n",
       "                <td><strong>Lower bound</strong></td><td>0.0</td>\n",
       "            </tr><tr>\n",
       "                <td><strong>Upper bound</strong></td><td>1000.0</td>\n",
       "            </tr>\n",
       "        </table>\n",
       "        "
      ],
      "text/plain": [
       "<Reaction SQLS at 0x7fa7515a8790>"
      ]
     },
     "execution_count": 2,
     "metadata": {},
     "output_type": "execute_result"
    }
   ],
   "source": [
    "#squalene synthase reaction\n",
    "model_oe.reactions.get_by_id(\"SQLS\")"
   ]
  },
  {
   "cell_type": "code",
   "execution_count": 3,
   "id": "317ed1a6-16a1-4e1b-8564-bd3e5000d595",
   "metadata": {},
   "outputs": [
    {
     "data": {
      "text/html": [
       "\n",
       "        <table>\n",
       "            <tr>\n",
       "                <td><strong>Reaction identifier</strong></td><td>DXPS</td>\n",
       "            </tr><tr>\n",
       "                <td><strong>Name</strong></td><td>1-deoxy-D-xylulose 5-phosphate synthase</td>\n",
       "            </tr><tr>\n",
       "                <td><strong>Memory address</strong></td>\n",
       "                <td>0x7fa75070a640</td>\n",
       "            </tr><tr>\n",
       "                <td><strong>Stoichiometry</strong></td>\n",
       "                <td>\n",
       "                    <p style='text-align:right'>g3p_c + h_c + pyr_c --> co2_c + dxyl5p_c</p>\n",
       "                    <p style='text-align:right'>Glyceraldehyde 3-phosphate + H+ + Pyruvate --> CO2 CO2 + 1-deoxy-D-xylulose 5-phosphate</p>\n",
       "                </td>\n",
       "            </tr><tr>\n",
       "                <td><strong>GPR</strong></td><td>sll1945</td>\n",
       "            </tr><tr>\n",
       "                <td><strong>Lower bound</strong></td><td>0.0</td>\n",
       "            </tr><tr>\n",
       "                <td><strong>Upper bound</strong></td><td>1000.0</td>\n",
       "            </tr>\n",
       "        </table>\n",
       "        "
      ],
      "text/plain": [
       "<Reaction DXPS at 0x7fa75070a640>"
      ]
     },
     "execution_count": 3,
     "metadata": {},
     "output_type": "execute_result"
    }
   ],
   "source": [
    "#DXP, deoxyxylulose 5-phosphate, sythasis, need to be up regulated\n",
    "model_oe.reactions.get_by_id(\"DXPS\")"
   ]
  },
  {
   "cell_type": "code",
   "execution_count": 4,
   "id": "2ac0149a-1e38-4743-b56a-6eaff96da627",
   "metadata": {},
   "outputs": [
    {
     "data": {
      "text/html": [
       "\n",
       "        <table>\n",
       "            <tr>\n",
       "                <td><strong>Reaction identifier</strong></td><td>IPDDI</td>\n",
       "            </tr><tr>\n",
       "                <td><strong>Name</strong></td><td>Isopentenyl-diphosphate D-isomerase</td>\n",
       "            </tr><tr>\n",
       "                <td><strong>Memory address</strong></td>\n",
       "                <td>0x7fa750793fd0</td>\n",
       "            </tr><tr>\n",
       "                <td><strong>Stoichiometry</strong></td>\n",
       "                <td>\n",
       "                    <p style='text-align:right'>ipdp_c <=> dmpp_c</p>\n",
       "                    <p style='text-align:right'>Isopentenyl diphosphate <=> Dimethylallyl diphosphate</p>\n",
       "                </td>\n",
       "            </tr><tr>\n",
       "                <td><strong>GPR</strong></td><td>sll1556</td>\n",
       "            </tr><tr>\n",
       "                <td><strong>Lower bound</strong></td><td>-1000.0</td>\n",
       "            </tr><tr>\n",
       "                <td><strong>Upper bound</strong></td><td>1000.0</td>\n",
       "            </tr>\n",
       "        </table>\n",
       "        "
      ],
      "text/plain": [
       "<Reaction IPDDI at 0x7fa750793fd0>"
      ]
     },
     "execution_count": 4,
     "metadata": {},
     "output_type": "execute_result"
    }
   ],
   "source": [
    "# IPDDI, Isopentenyl-diphosphate D-isomerase, need to be upregulated\n",
    "model_oe.reactions.get_by_id(\"IPDDI\")"
   ]
  },
  {
   "cell_type": "code",
   "execution_count": 5,
   "id": "31f7fe85-8a90-457a-833e-18bca91ccc0a",
   "metadata": {},
   "outputs": [
    {
     "data": {
      "text/html": [
       "\n",
       "        <table>\n",
       "            <tr>\n",
       "                <td><strong>Reaction identifier</strong></td><td>GRTT</td>\n",
       "            </tr><tr>\n",
       "                <td><strong>Name</strong></td><td>Geranyltranstransferase</td>\n",
       "            </tr><tr>\n",
       "                <td><strong>Memory address</strong></td>\n",
       "                <td>0x7fa75100ce80</td>\n",
       "            </tr><tr>\n",
       "                <td><strong>Stoichiometry</strong></td>\n",
       "                <td>\n",
       "                    <p style='text-align:right'>grdp_c + ipdp_c --> frdp_c + ppi_c</p>\n",
       "                    <p style='text-align:right'>Geranyl diphosphate + Isopentenyl diphosphate --> Farnesyl diphosphate + Diphosphate</p>\n",
       "                </td>\n",
       "            </tr><tr>\n",
       "                <td><strong>GPR</strong></td><td>pys</td>\n",
       "            </tr><tr>\n",
       "                <td><strong>Lower bound</strong></td><td>0.0</td>\n",
       "            </tr><tr>\n",
       "                <td><strong>Upper bound</strong></td><td>1000.0</td>\n",
       "            </tr>\n",
       "        </table>\n",
       "        "
      ],
      "text/plain": [
       "<Reaction GRTT at 0x7fa75100ce80>"
      ]
     },
     "execution_count": 5,
     "metadata": {},
     "output_type": "execute_result"
    }
   ],
   "source": [
    "# GRTT, Geranyltranstransferase, need to be upregulated\n",
    "model_oe.reactions.get_by_id(\"GRTT\")"
   ]
  },
  {
   "cell_type": "code",
   "execution_count": 6,
   "id": "b242b357-0eaf-40c2-b41f-b2d5359e32db",
   "metadata": {},
   "outputs": [
    {
     "data": {
      "text/html": [
       "\n",
       "        <table>\n",
       "            <tr>\n",
       "                <td><strong>Reaction identifier</strong></td><td>EX_sql_e</td>\n",
       "            </tr><tr>\n",
       "                <td><strong>Name</strong></td><td>Squalene exchange</td>\n",
       "            </tr><tr>\n",
       "                <td><strong>Memory address</strong></td>\n",
       "                <td>0x7fa751754fa0</td>\n",
       "            </tr><tr>\n",
       "                <td><strong>Stoichiometry</strong></td>\n",
       "                <td>\n",
       "                    <p style='text-align:right'>sql_e --></p>\n",
       "                    <p style='text-align:right'>Squalene extracellular --></p>\n",
       "                </td>\n",
       "            </tr><tr>\n",
       "                <td><strong>GPR</strong></td><td></td>\n",
       "            </tr><tr>\n",
       "                <td><strong>Lower bound</strong></td><td>0.0</td>\n",
       "            </tr><tr>\n",
       "                <td><strong>Upper bound</strong></td><td>1000.0</td>\n",
       "            </tr>\n",
       "        </table>\n",
       "        "
      ],
      "text/plain": [
       "<Reaction EX_sql_e at 0x7fa751754fa0>"
      ]
     },
     "execution_count": 6,
     "metadata": {},
     "output_type": "execute_result"
    }
   ],
   "source": [
    "# squalene exchange\n",
    "model_oe.reactions.get_by_id(\"EX_sql_e\")"
   ]
  },
  {
   "cell_type": "code",
   "execution_count": 7,
   "id": "4cc5f5f6-bde0-4821-bb63-16cd72d47cac",
   "metadata": {},
   "outputs": [
    {
     "data": {
      "text/html": [
       "<strong><em>Optimal</em> solution with objective value 0.107</strong><br><div>\n",
       "<style scoped>\n",
       "    .dataframe tbody tr th:only-of-type {\n",
       "        vertical-align: middle;\n",
       "    }\n",
       "\n",
       "    .dataframe tbody tr th {\n",
       "        vertical-align: top;\n",
       "    }\n",
       "\n",
       "    .dataframe thead th {\n",
       "        text-align: right;\n",
       "    }\n",
       "</style>\n",
       "<table border=\"1\" class=\"dataframe\">\n",
       "  <thead>\n",
       "    <tr style=\"text-align: right;\">\n",
       "      <th></th>\n",
       "      <th>fluxes</th>\n",
       "      <th>reduced_costs</th>\n",
       "    </tr>\n",
       "  </thead>\n",
       "  <tbody>\n",
       "    <tr>\n",
       "      <th>EX_ac_e</th>\n",
       "      <td>0.000000</td>\n",
       "      <td>-6.546443e-02</td>\n",
       "    </tr>\n",
       "    <tr>\n",
       "      <th>34DHOXPEGOX</th>\n",
       "      <td>0.000000</td>\n",
       "      <td>0.000000e+00</td>\n",
       "    </tr>\n",
       "    <tr>\n",
       "      <th>EX_photon_e</th>\n",
       "      <td>0.000000</td>\n",
       "      <td>-8.893281e-03</td>\n",
       "    </tr>\n",
       "    <tr>\n",
       "      <th>34HPPOR</th>\n",
       "      <td>0.000000</td>\n",
       "      <td>0.000000e+00</td>\n",
       "    </tr>\n",
       "    <tr>\n",
       "      <th>EX_ca2_e</th>\n",
       "      <td>0.000000</td>\n",
       "      <td>0.000000e+00</td>\n",
       "    </tr>\n",
       "    <tr>\n",
       "      <th>...</th>\n",
       "      <td>...</td>\n",
       "      <td>...</td>\n",
       "    </tr>\n",
       "    <tr>\n",
       "      <th>PHETA1</th>\n",
       "      <td>0.000000</td>\n",
       "      <td>-0.000000e+00</td>\n",
       "    </tr>\n",
       "    <tr>\n",
       "      <th>ORNTAC</th>\n",
       "      <td>0.000000</td>\n",
       "      <td>0.000000e+00</td>\n",
       "    </tr>\n",
       "    <tr>\n",
       "      <th>ABTA</th>\n",
       "      <td>0.142052</td>\n",
       "      <td>-1.387779e-17</td>\n",
       "    </tr>\n",
       "    <tr>\n",
       "      <th>R_SQLt</th>\n",
       "      <td>0.107405</td>\n",
       "      <td>0.000000e+00</td>\n",
       "    </tr>\n",
       "    <tr>\n",
       "      <th>EX_sql_e</th>\n",
       "      <td>0.107405</td>\n",
       "      <td>0.000000e+00</td>\n",
       "    </tr>\n",
       "  </tbody>\n",
       "</table>\n",
       "<p>865 rows × 2 columns</p>\n",
       "</div>"
      ],
      "text/plain": [
       "<Solution 0.107 at 0x7fa7503b6e80>"
      ]
     },
     "execution_count": 7,
     "metadata": {},
     "output_type": "execute_result"
    }
   ],
   "source": [
    "# Max flux of squalene\n",
    "model_oe.objective = \"EX_sql_e\"\n",
    "model_oe.optimize()"
   ]
  },
  {
   "cell_type": "code",
   "execution_count": 8,
   "id": "766525e5-0099-436e-88da-82f579a7748f",
   "metadata": {},
   "outputs": [
    {
     "data": {
      "text/html": [
       "<div>\n",
       "<style scoped>\n",
       "    .dataframe tbody tr th:only-of-type {\n",
       "        vertical-align: middle;\n",
       "    }\n",
       "\n",
       "    .dataframe tbody tr th {\n",
       "        vertical-align: top;\n",
       "    }\n",
       "\n",
       "    .dataframe thead th {\n",
       "        text-align: right;\n",
       "    }\n",
       "</style>\n",
       "<table border=\"1\" class=\"dataframe\">\n",
       "  <thead>\n",
       "    <tr style=\"text-align: right;\">\n",
       "      <th></th>\n",
       "      <th>minimum</th>\n",
       "      <th>maximum</th>\n",
       "    </tr>\n",
       "  </thead>\n",
       "  <tbody>\n",
       "    <tr>\n",
       "      <th>DXPS</th>\n",
       "      <td>0.579986</td>\n",
       "      <td>0.644429</td>\n",
       "    </tr>\n",
       "    <tr>\n",
       "      <th>GRTT</th>\n",
       "      <td>0.193329</td>\n",
       "      <td>0.214810</td>\n",
       "    </tr>\n",
       "    <tr>\n",
       "      <th>IPDDI</th>\n",
       "      <td>-0.429620</td>\n",
       "      <td>0.214810</td>\n",
       "    </tr>\n",
       "  </tbody>\n",
       "</table>\n",
       "</div>"
      ],
      "text/plain": [
       "        minimum   maximum\n",
       "DXPS   0.579986  0.644429\n",
       "GRTT   0.193329  0.214810\n",
       "IPDDI -0.429620  0.214810"
      ]
     },
     "execution_count": 8,
     "metadata": {},
     "output_type": "execute_result"
    }
   ],
   "source": [
    "# change between production and growth\n",
    "reactions_OE = [model_oe.reactions.DXPS, model_oe.reactions.GRTT, model_oe.reactions.IPDDI]\n",
    "fva = flux_variability_analysis(model_oe, reaction_list = reactions_OE, fraction_of_optimum=0.9)\n",
    "fva"
   ]
  },
  {
   "cell_type": "code",
   "execution_count": 9,
   "id": "5af6b240-9a3f-491e-9c9e-a097afd3338a",
   "metadata": {},
   "outputs": [],
   "source": [
    "# change bonds\n",
    "model_oe.reactions.get_by_id('DXPS').lower_bound = 0.6 \n",
    "model_oe.reactions.get_by_id('GRTT').lower_bound = 0.21 \n",
    "model_oe.reactions.get_by_id('IPDDI').upper_bound = 0.21"
   ]
  },
  {
   "cell_type": "code",
   "execution_count": 10,
   "id": "8fec3a84-a3ed-4295-a84f-b33a6ad56f83",
   "metadata": {},
   "outputs": [],
   "source": [
    "# optimize for biomass while still producing\n",
    "model_oe.objective = \"BIOMASS_Ec_SynAuto\"\n",
    "solution_oe = model_oe.optimize()"
   ]
  },
  {
   "cell_type": "code",
   "execution_count": 11,
   "id": "b7fe7674-0894-427f-8393-1fb87c282512",
   "metadata": {},
   "outputs": [
    {
     "data": {
      "text/html": [
       "<strong><em>Optimal</em> solution with objective value 0.001</strong><br><div>\n",
       "<style scoped>\n",
       "    .dataframe tbody tr th:only-of-type {\n",
       "        vertical-align: middle;\n",
       "    }\n",
       "\n",
       "    .dataframe tbody tr th {\n",
       "        vertical-align: top;\n",
       "    }\n",
       "\n",
       "    .dataframe thead th {\n",
       "        text-align: right;\n",
       "    }\n",
       "</style>\n",
       "<table border=\"1\" class=\"dataframe\">\n",
       "  <thead>\n",
       "    <tr style=\"text-align: right;\">\n",
       "      <th></th>\n",
       "      <th>fluxes</th>\n",
       "      <th>reduced_costs</th>\n",
       "    </tr>\n",
       "  </thead>\n",
       "  <tbody>\n",
       "    <tr>\n",
       "      <th>EX_ac_e</th>\n",
       "      <td>0.000000e+00</td>\n",
       "      <td>-3.676372e-02</td>\n",
       "    </tr>\n",
       "    <tr>\n",
       "      <th>34DHOXPEGOX</th>\n",
       "      <td>0.000000e+00</td>\n",
       "      <td>0.000000e+00</td>\n",
       "    </tr>\n",
       "    <tr>\n",
       "      <th>EX_photon_e</th>\n",
       "      <td>0.000000e+00</td>\n",
       "      <td>-4.994316e-03</td>\n",
       "    </tr>\n",
       "    <tr>\n",
       "      <th>34HPPOR</th>\n",
       "      <td>6.968225e-07</td>\n",
       "      <td>0.000000e+00</td>\n",
       "    </tr>\n",
       "    <tr>\n",
       "      <th>EX_ca2_e</th>\n",
       "      <td>-6.093665e-06</td>\n",
       "      <td>0.000000e+00</td>\n",
       "    </tr>\n",
       "    <tr>\n",
       "      <th>...</th>\n",
       "      <td>...</td>\n",
       "      <td>...</td>\n",
       "    </tr>\n",
       "    <tr>\n",
       "      <th>PHETA1</th>\n",
       "      <td>-2.494864e-04</td>\n",
       "      <td>-0.000000e+00</td>\n",
       "    </tr>\n",
       "    <tr>\n",
       "      <th>ORNTAC</th>\n",
       "      <td>3.673004e-04</td>\n",
       "      <td>0.000000e+00</td>\n",
       "    </tr>\n",
       "    <tr>\n",
       "      <th>ABTA</th>\n",
       "      <td>1.516064e-01</td>\n",
       "      <td>-6.938894e-18</td>\n",
       "    </tr>\n",
       "    <tr>\n",
       "      <th>R_SQLt</th>\n",
       "      <td>1.049698e-01</td>\n",
       "      <td>0.000000e+00</td>\n",
       "    </tr>\n",
       "    <tr>\n",
       "      <th>EX_sql_e</th>\n",
       "      <td>1.049698e-01</td>\n",
       "      <td>0.000000e+00</td>\n",
       "    </tr>\n",
       "  </tbody>\n",
       "</table>\n",
       "<p>865 rows × 2 columns</p>\n",
       "</div>"
      ],
      "text/plain": [
       "<Solution 0.001 at 0x7fa751968af0>"
      ]
     },
     "execution_count": 11,
     "metadata": {},
     "output_type": "execute_result"
    }
   ],
   "source": [
    "solution_oe"
   ]
  },
  {
   "cell_type": "code",
   "execution_count": 12,
   "id": "29b535eb-e13f-4559-851d-5549e329a0ca",
   "metadata": {},
   "outputs": [
    {
     "data": {
      "text/plain": [
       "0.1049698032994687"
      ]
     },
     "execution_count": 12,
     "metadata": {},
     "output_type": "execute_result"
    }
   ],
   "source": [
    "model_oe.optimize().fluxes[\"SQLS\"]"
   ]
  },
  {
   "cell_type": "code",
   "execution_count": 13,
   "id": "af33a096-8329-4f78-95d7-c6fb38dce548",
   "metadata": {},
   "outputs": [
    {
     "data": {
      "text/plain": [
       "0.10740489130434785"
      ]
     },
     "execution_count": 13,
     "metadata": {},
     "output_type": "execute_result"
    }
   ],
   "source": [
    "model.objective = \"SQLS\"\n",
    "model.optimize().fluxes[\"SQLS\"]\n"
   ]
  },
  {
   "cell_type": "code",
   "execution_count": 14,
   "id": "c95a9553-addd-4cad-b4ec-a4036c94340d",
   "metadata": {},
   "outputs": [
    {
     "data": {
      "text/plain": [
       "0.0"
      ]
     },
     "execution_count": 14,
     "metadata": {},
     "output_type": "execute_result"
    }
   ],
   "source": [
    "model.optimize().fluxes[\"BIOMASS_Ec_SynAuto\"]"
   ]
  },
  {
   "cell_type": "code",
   "execution_count": null,
   "id": "0327bbac-caf7-4bb2-9154-6eac602d9548",
   "metadata": {},
   "outputs": [],
   "source": []
  }
 ],
 "metadata": {
  "kernelspec": {
   "display_name": "Python 3 (ipykernel)",
   "language": "python",
   "name": "python3"
  },
  "language_info": {
   "codemirror_mode": {
    "name": "ipython",
    "version": 3
   },
   "file_extension": ".py",
   "mimetype": "text/x-python",
   "name": "python",
   "nbconvert_exporter": "python",
   "pygments_lexer": "ipython3",
   "version": "3.9.12"
  }
 },
 "nbformat": 4,
 "nbformat_minor": 5
}
