{
 "cells": [
  {
   "cell_type": "code",
   "execution_count": 1,
   "id": "962b66f5",
   "metadata": {},
   "outputs": [],
   "source": [
    "# Required packes\n",
    "import cobra\n",
    "from cobra import Model, Reaction, Metabolite\n",
    "from cobra.io import read_sbml_model\n",
    "\n",
    "# Input model\n",
    "modelM=read_sbml_model('iJN678mod.xml')"
   ]
  },
  {
   "cell_type": "code",
   "execution_count": 12,
   "id": "1a41fb54",
   "metadata": {},
   "outputs": [
    {
     "name": "stdout",
     "output_type": "stream",
     "text": [
      "Maximum productivity = 0.12333333333333386 mmol/gDW*h\n",
      "Maximum theoretical yield = 0.03333333333333347 mmol-sql/mmol-co2\n"
     ]
    }
   ],
   "source": [
    "#Setting medium for autotrophic (CO2 as carbon source)\n",
    "\n",
    "co2KO=modelM.reactions.get_by_id(\"EX_co2_e\")\n",
    "photonKO=modelM.reactions.get_by_id(\"EX_photon_e\")\n",
    "hco3KO=modelM.reactions.get_by_id(\"EX_hco3_e\")\n",
    "\n",
    "co2KO.bounds=(-3.7,1000.0)\n",
    "hco3KO.bounds= (-3.7,1000.0)\n",
    "photonKO.bounds= (-100,0)\n",
    "\n",
    "mediumAuto = modelM.medium\n",
    "mediumAuto[\"EX_glc__D_e\"] = 0.0\n",
    "mediumAuto[\"EX_hco3_e\"] = 0.0\n",
    "mediumAuto[\"EX_photon_e\"]=54.5\n",
    "mediumAuto[\"EX_co2_e\"]=3.7\n",
    "modelM.medium = mediumAuto\n",
    "\n",
    "modelM.objective=\"EX_sql_e\"\n",
    "modelM.optimize().objective_value\n",
    "\n",
    "sql_production = modelM.optimize().objective_value\n",
    "maximum_yield = sql_production / (-1*(modelM.reactions.EX_co2_e.flux))\n",
    "print('Maximum productivity =', sql_production, 'mmol/gDW*h')\n",
    "print('Maximum theoretical yield =', maximum_yield, 'mmol-sql/mmol-co2')"
   ]
  },
  {
   "cell_type": "markdown",
   "id": "0e1c5e62",
   "metadata": {},
   "source": [
    "# MVA Pathway"
   ]
  },
  {
   "cell_type": "markdown",
   "id": "8f99d745",
   "metadata": {},
   "source": [
    "**Reaction 0**"
   ]
  },
  {
   "cell_type": "code",
   "execution_count": null,
   "id": "7516a0a2",
   "metadata": {},
   "outputs": [],
   "source": [
    "# Defining the reactions\n",
    "reaction0 = Reaction('R_MVA0') # 2 Acetyl-Coa => Acetoacetyl-CoA + CoA\n",
    "reaction0.name = 'acetyl-CoA C-acetyltransferase'\n",
    "reaction0.subsystem = 'Melavonate Pathway'\n",
    "#reaction0.lower_bound = 0.  # Set as a default\n",
    "#reaction0.upper_bound = 1000.  # Set as a default\n",
    "\n",
    "# Defining the metabolites\n",
    "aacoa_c = Metabolite(\n",
    "    id = 'aacoa_c',\n",
    "    formula='C25H40N7O18P3S',\n",
    "    name ='Acetoacetyl-CoA',\n",
    "    compartment ='c')\n",
    "\n",
    "# Adding the metabolites to the reaction\n",
    "reaction0.add_metabolites({\n",
    "    model.metabolites.get_by_id('accoa_c'): -2, # Acetyl-CoA\n",
    "    aacoa_c: 1,\n",
    "    model.metabolites.get_by_id('coa_c'): 1, # Coenzyme A\n",
    "})\n",
    "\n",
    "reaction0.reaction # This gives a string representation of the reaction \n",
    "\n",
    "# Adding the genes of the reactions\n",
    "reaction0.gene_reaction_rule = '( G_MVA0 )'\n",
    "\n",
    "# Adding the reactions to the model\n",
    "model.add_reactions([reaction0])\n",
    "model.add_boundary(model.metabolites.aacoa_c, type='demand')"
   ]
  },
  {
   "cell_type": "markdown",
   "id": "b3c7b744",
   "metadata": {},
   "source": [
    "**Reaction 1**"
   ]
  },
  {
   "cell_type": "code",
   "execution_count": null,
   "id": "a7db938a",
   "metadata": {},
   "outputs": [],
   "source": [
    "# Defining the reactions\n",
    "reaction1 = Reaction('R_MVA1') # Acetoacetyl-CoA + H2O + Acetyl-CoA => (S)-3-hydroxy-3-methylglutaryl-CoA + CoA\n",
    "reaction1.name = 'Hydroxymethylglutaryl-CoA synthase'\n",
    "reaction1.subsystem = 'Mevalonate pathway'\n",
    "#reaction1.lower_bound = 0.  # This is the default\n",
    "#reaction1.upper_bound = 1000.  # This is the default\n",
    "\n",
    "# Defining the reactions\n",
    "hmgcoa_c = Metabolite(\n",
    "    'hmgcoa_c',\n",
    "    formula='C27H44N7O20P3S',\n",
    "    name='(S)-3-hydroxy-3-methylglutaryl-CoA',\n",
    "    compartment='c')\n",
    "\n",
    "# Defining the reactions\n",
    "reaction1.add_metabolites({\n",
    "    model.metabolites.get_by_id('aacoa_c'): -1,\n",
    "    model.metabolites.get_by_id('h2o_c'): -1,\n",
    "    model.metabolites.get_by_id('accoa_c'): -1,\n",
    "    hmgcoa_c: 1,\n",
    "    model.metabolites.get_by_id('coa_c'): 1,\n",
    "})\n",
    "\n",
    "# Adding the reactions to the model\n",
    "reaction1.reaction # This gives a string representation of the reaction\n",
    "\n",
    "reaction1.gene_reaction_rule = '( G_MVA1 )'\n",
    "\n",
    "model.add_reactions([reaction1])\n",
    "model.add_boundary(model.metabolites.hmgcoa_c, type='demand')"
   ]
  },
  {
   "cell_type": "markdown",
   "id": "26663f1c",
   "metadata": {},
   "source": [
    "**Reaction 2**"
   ]
  },
  {
   "cell_type": "code",
   "execution_count": null,
   "id": "537edbf5",
   "metadata": {},
   "outputs": [],
   "source": [
    "# Defining the reactions\n",
    "reaction2 = Reaction('R_MVA2') # MHG-CoA + 2 NADPH + 2H+ => Mevalonate + 2 NADP+ + CoA\n",
    "reaction2.name = 'hydroxymethylglutaryl-CoA reductase (NADPH)'\n",
    "reaction2.subsystem = 'Mevalonate pathway'\n",
    "#reaction2.lower_bound = 0.  # This is the default\n",
    "#reaction2.upper_bound = 1000.  # This is the default\n",
    "\n",
    "# Defining the reactions\n",
    "mva_c = Metabolite(\n",
    "    'mva_c',\n",
    "    formula='C6O4H12',\n",
    "    name='Mevalonate',\n",
    "    compartment='c')\n",
    "\n",
    "# Defining the reactions\n",
    "reaction2.add_metabolites({\n",
    "    model.metabolites.get_by_id('hmgcoa_c'): -1,\n",
    "    model.metabolites.get_by_id('nadph_c'): -2,\n",
    "    model.metabolites.get_by_id('h_c'): -2,\n",
    "    mva_c: 1,\n",
    "    model.metabolites.get_by_id('nadp_c'): 2,\n",
    "    model.metabolites.get_by_id('coa_c'): 1,\n",
    "})\n",
    "\n",
    "# Adding the reactions to the model\n",
    "reaction2.reaction # This gives a string representation of the reaction \n",
    "\n",
    "reaction2.gene_reaction_rule = '( G_MVA2 )'\n",
    "\n",
    "model.add_reactions([reaction2])\n",
    "model.add_boundary(model.metabolites.mva_c, type='demand')"
   ]
  },
  {
   "cell_type": "markdown",
   "id": "42d98309",
   "metadata": {},
   "source": [
    "**Reaction 3**"
   ]
  },
  {
   "cell_type": "code",
   "execution_count": null,
   "id": "74147181",
   "metadata": {},
   "outputs": [],
   "source": [
    "# Defining the reactions\n",
    "reaction3 = Reaction('R_MVA3') # Mevalonate + ATP => Mevalonate-5-phoshphate + ADP\n",
    "reaction3.name = 'mevalonate kinase '\n",
    "reaction3.subsystem = 'Mevalonate pathway'\n",
    "#reaction3.lower_bound = 0.  # This is the default\n",
    "#reaction3.upper_bound = 1000.  # This is the default\n",
    "\n",
    "# Defining the reactions\n",
    "mvap_c = Metabolite(\n",
    "    'mvap_c',\n",
    "    formula='C6H13O7P',\n",
    "    name='Mevalonate-5-phoshphate',\n",
    "    compartment='c')\n",
    "\n",
    "# Defining the reactions\n",
    "reaction3.add_metabolites({\n",
    "    model.metabolites.get_by_id('mva_c'): -1,\n",
    "    model.metabolites.get_by_id('atp_c'): -1,\n",
    "    mvap_c: 1,\n",
    "    model.metabolites.get_by_id('adp_c'): 1,\n",
    "})\n",
    "\n",
    "# Adding the reactions to the model\n",
    "reaction3.reaction # This gives a string representation of the reaction \n",
    "\n",
    "reaction3.gene_reaction_rule = '( G_MVA3 )'\n",
    "\n",
    "model.add_reactions([reaction3])\n",
    "model.add_boundary(model.metabolites.mvap_c, type='demand')"
   ]
  },
  {
   "cell_type": "markdown",
   "id": "2d3a76ba",
   "metadata": {},
   "source": [
    "**Reaction 4**"
   ]
  },
  {
   "cell_type": "code",
   "execution_count": null,
   "id": "b663ceb7",
   "metadata": {},
   "outputs": [],
   "source": [
    "# Defining the reactions\n",
    "reaction4 = Reaction('R_MVA4') # Mevalonate-5-phosphate + ATP => Mevalonate-5-diphosphate + ADP\n",
    "reaction4.name = 'phosphomevalonate kinase'\n",
    "reaction4.subsystem = 'Mevalonate pathway'\n",
    "#reaction4.lower_bound = 0.  # This is the default\n",
    "#reaction4.upper_bound = 1000.  # This is the default\n",
    "\n",
    "# Defining the reactions\n",
    "mvapp_c = Metabolite(\n",
    "    'mvapp_c',\n",
    "    formula='C6H14O10P2',\n",
    "    name='Mevalonate-5-diphosphate',\n",
    "    compartment='c')\n",
    "\n",
    "# Defining the reactions\n",
    "reaction4.add_metabolites({\n",
    "    model.metabolites.get_by_id('mvap_c'): -1,\n",
    "    model.metabolites.get_by_id('atp_c'): -1,\n",
    "    mvapp_c: 1,\n",
    "    model.metabolites.get_by_id('adp_c'): 1,\n",
    "})\n",
    "\n",
    "# Adding the reactions to the model\n",
    "reaction4.reaction # This gives a string representation of the reaction \n",
    "\n",
    "reaction4.gene_reaction_rule = '( G_MVA4 )'\n",
    "\n",
    "model.add_reactions([reaction4])\n",
    "model.add_boundary(model.metabolites.mvapp_c, type='demand')"
   ]
  },
  {
   "cell_type": "markdown",
   "id": "5c25ae04",
   "metadata": {},
   "source": [
    "**Reaction 5**"
   ]
  },
  {
   "cell_type": "code",
   "execution_count": null,
   "id": "0fede6ea",
   "metadata": {},
   "outputs": [],
   "source": [
    "# Defining the reactions\n",
    "reaction5 = Reaction('R_MVA5') # Mevalonate-5-diphosphate + ATP => Isopenthenyl diphosphate + ADP + CO2 + Pi\n",
    "reaction5.name = 'diphosphomevalonate decarboxylase'\n",
    "reaction5.subsystem = 'Mevalonate pathway'\n",
    "#reaction5.lower_bound = 0.  # This is the default\n",
    "#reaction5.upper_bound = 1000.  # This is the default\n",
    "\n",
    "# Defining the reactions\n",
    "ipdp_c = Metabolite(\n",
    "    'ipdp_c',\n",
    "    formula='C5H12O7P2',\n",
    "    name='Isopenthenyl diphosphate',\n",
    "    compartment='c')\n",
    "\n",
    "# Defining the reactions\n",
    "reaction5.add_metabolites({\n",
    "    model.metabolites.get_by_id('mvapp_c'): -1,\n",
    "    model.metabolites.get_by_id('atp_c'): -1,\n",
    "    ipdp_c: 1,\n",
    "    model.metabolites.get_by_id('adp_c'): 1,\n",
    "    model.metabolites.get_by_id('pi_c'): 1,\n",
    "    model.metabolites.get_by_id('co2_c'): 1,\n",
    "})\n",
    "\n",
    "# Adding the reactions to the model\n",
    "reaction5.reaction # This gives a string representation of the reaction \n",
    "\n",
    "reaction5.gene_reaction_rule = '( G_MVA5 )'\n",
    "\n",
    "model.add_reactions([reaction5])\n",
    "model.add_boundary(model.metabolites.ipdp_c, type='demand')"
   ]
  },
  {
   "cell_type": "markdown",
   "id": "91e6fa6d",
   "metadata": {},
   "source": [
    "**Reaction 6**"
   ]
  },
  {
   "cell_type": "code",
   "execution_count": null,
   "id": "8320b2d4",
   "metadata": {},
   "outputs": [],
   "source": [
    "# Defining the reactions\n",
    "reaction6 = Reaction('R_MVA6') # Geranyl diphosphate + Isopenthenyl diphosphate => 2-trans,6-trans-Farnesyl diphosphate + diphosphate \n",
    "reaction6.name = 'farnesyl diphosphate synthase '\n",
    "reaction6.subsystem = 'Mevalonate pathway'\n",
    "#reaction6.lower_bound = 0.  # This is the default\n",
    "#reaction6.upper_bound = 1000.  # This is the default\n",
    "\n",
    "# Defining the reactions\n",
    "frdp_c = Metabolite(\n",
    "    'frdp_c',\n",
    "    formula='C15H28O7P2',\n",
    "    name='2-trans,6-trans-Farnesyl diphosphate',\n",
    "    compartment='c')\n",
    "\n",
    "# Defining the reactions\n",
    "reaction6.add_metabolites({\n",
    "    model.metabolites.get_by_id('grdp_c'): -1,\n",
    "    model.metabolites.get_by_id('ipdp_c'): -1,\n",
    "    frdp_c: 1,\n",
    "    model.metabolites.get_by_id('ppi_c'): 1,\n",
    "})\n",
    "\n",
    "# Adding the reactions to the model\n",
    "reaction6.reaction # This gives a string representation of the reaction \n",
    "\n",
    "reaction6.gene_reaction_rule = '( G_MVA6 )'\n",
    "\n",
    "model.add_reactions([reaction6])\n",
    "model.add_boundary(model.metabolites.frdp_c, type='demand')"
   ]
  },
  {
   "cell_type": "markdown",
   "id": "c6178727",
   "metadata": {},
   "source": [
    "**Reaction 7**"
   ]
  },
  {
   "cell_type": "code",
   "execution_count": null,
   "id": "a6277d42",
   "metadata": {},
   "outputs": [],
   "source": [
    "# Defining the reactions\n",
    "reaction7 = Reaction('R_MVA7') # (2E,6E)-farnesyl diphosphate => presqualene diphosphate +  diphosphate\n",
    "reaction7.name = 'farnesyl-diphosphate farnesyltransferase'\n",
    "reaction7.subsystem = 'Mevalonate pathway'\n",
    "#reaction7.lower_bound = 0.  # This is the default\n",
    "#reaction7.upper_bound = 1000.  # This is the default\n",
    "\n",
    "# Defining the reactions\n",
    "psql_c = Metabolite(\n",
    "    'psql_c',\n",
    "    formula='C30H52O7P2',\n",
    "    name='Presqualene',\n",
    "    compartment='c')\n",
    "\n",
    "# Defining the reactions\n",
    "reaction7.add_metabolites({\n",
    "    model.metabolites.get_by_id('frdp_c'): -1,\n",
    "    psql_c: 1,\n",
    "    model.metabolites.get_by_id('ppi_c'): 1,\n",
    "})\n",
    "\n",
    "# Adding the reactions to the model\n",
    "reaction7.reaction # This gives a string representation of the reaction \n",
    "\n",
    "reaction7.gene_reaction_rule = '( G_MVA7 )'\n",
    "\n",
    "model.add_reactions([reaction7])\n",
    "model.add_boundary(model.metabolites.psql_c, type='demand')"
   ]
  },
  {
   "cell_type": "markdown",
   "id": "e4cf741f",
   "metadata": {},
   "source": [
    "**Reaction 8**"
   ]
  },
  {
   "cell_type": "code",
   "execution_count": null,
   "id": "cd1b78b8",
   "metadata": {
    "scrolled": false
   },
   "outputs": [],
   "source": [
    "# Defining the reactions\n",
    "reaction8 = Reaction('R_MVA8') # Presqualene diphosphate + NADPH + H+ <=> Squalene + diphosphate + NADP+\n",
    "reaction8.name = 'farnesyl-diphosphate farnesyltransferase'\n",
    "reaction8.subsystem = 'Mevalonate pathway'\n",
    "#reaction8.lower_bound = 0.  # This is the default\n",
    "#reaction8.upper_bound = 1000.  # This is the default\n",
    "\n",
    "# Defining the reactions\n",
    "sql_c = Metabolite(\n",
    "    'sql_c',\n",
    "    formula='C30H50',\n",
    "    name='Squalene',\n",
    "    compartment='c')\n",
    "\n",
    "# Defining the reactions\n",
    "reaction8.add_metabolites({\n",
    "    model.metabolites.get_by_id('psql_c'): -1,\n",
    "    model.metabolites.get_by_id('nadph_c'): -1,\n",
    "    model.metabolites.get_by_id('h_c'): -1,\n",
    "    sql_c: 1,\n",
    "    model.metabolites.get_by_id('ppi_c'): 1,\n",
    "    model.metabolites.get_by_id('nadp_c'):1\n",
    "})\n",
    "\n",
    "# Adding the reactions to the model\n",
    "reaction8.reaction # This gives a string representation of the reaction \n",
    "\n",
    "reaction8.gene_reaction_rule = '( G_MVA8 )'\n",
    "\n",
    "model.add_reactions([reaction8])\n",
    "model.add_boundary(model.metabolites.sql_c, type='demand')"
   ]
  },
  {
   "cell_type": "code",
   "execution_count": null,
   "id": "ff3830a7",
   "metadata": {
    "scrolled": true
   },
   "outputs": [],
   "source": [
    "# Generate new .xml model file with the added reactions\n",
    "from cobra.io import write_sbml_model, validate_sbml_model\n",
    "write_sbml_model(model, filename='iJN678mm.xml')\n",
    "report = validate_sbml_model(filename='iJN678mm.xml')\n",
    "\n",
    "print(report)"
   ]
  }
 ],
 "metadata": {
  "kernelspec": {
   "display_name": "Python 3 (ipykernel)",
   "language": "python",
   "name": "python3"
  },
  "language_info": {
   "codemirror_mode": {
    "name": "ipython",
    "version": 3
   },
   "file_extension": ".py",
   "mimetype": "text/x-python",
   "name": "python",
   "nbconvert_exporter": "python",
   "pygments_lexer": "ipython3",
   "version": "3.8.10"
  }
 },
 "nbformat": 4,
 "nbformat_minor": 5
}
