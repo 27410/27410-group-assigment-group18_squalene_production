{
 "cells": [
  {
   "cell_type": "code",
   "execution_count": 1,
   "id": "a4fa7049-88ec-4f67-af04-ded775ce525b",
   "metadata": {},
   "outputs": [
    {
     "name": "stdout",
     "output_type": "stream",
     "text": [
      "Restricted license - for non-production use only - expires 2024-10-28\n"
     ]
    }
   ],
   "source": [
    "#Packages\n",
    "import cobra\n",
    "from cobra import Reaction, Metabolite, Model\n",
    "from cobra.io import read_sbml_model\n",
    "\n",
    "#Model input\n",
    "model=read_sbml_model('iJN678.xml')"
   ]
  },
  {
   "cell_type": "code",
   "execution_count": 2,
   "id": "c2bb9857-1c34-4df0-903d-4163fd4bcbcd",
   "metadata": {},
   "outputs": [],
   "source": [
    "sql_e = Metabolite(\n",
    "    'sql_e',\n",
    "    #formula='C11H21N2O7PRS',\n",
    "    name='Squalene extracellular',\n",
    "    compartment='e')\n",
    "\n",
    "\n",
    "# Add the squalene exportation with MsbA EC 7.5.2.6  \n",
    "#ATP + H2O + lipid A-core oligosaccharide[side 1] = ADP + phosphate + lipid A-core oligosaccharide[side 2]\n",
    "R_SQLt = cobra.Reaction(id=\"R_SQLt\", name=\"Squalene transport\", subsystem=\"Hopene Biosynthesis\", lower_bound=0, upper_bound=1000)\n",
    "R_SQLt.add_metabolites({model.metabolites.atp_c: -1, # ATP Cytosol \n",
    "                        model.metabolites.h2o_c: -1, # H2O Cytosol\n",
    "                        model.metabolites.sql_c: -1, # Squalene Cytosol\n",
    "                        sql_e: 1, # Squalene extarcelular\n",
    "                        model.metabolites.adp_c: 1, # ADP cytosol\n",
    "                        model.metabolites.pi_c: 1, # phosphate cytosol\n",
    "                              })\n",
    "\n",
    "# create exchange reaction for Squalene\n",
    "EX_sql_e = cobra.Reaction(id=\"EX_sql_e\", name=\"Squalene exchange\", subsystem=\"Hopene Biosynthesis\", lower_bound=0, upper_bound=1000)\n",
    "EX_sql_e.add_metabolites({\n",
    "    sql_e: -1\n",
    "})\n",
    "model.add_reactions([R_SQLt, EX_sql_e])"
   ]
  },
  {
   "cell_type": "code",
   "execution_count": 3,
   "id": "7c4d6bb9-f1a5-44bf-ac8f-69b30a1b826e",
   "metadata": {},
   "outputs": [
    {
     "name": "stdout",
     "output_type": "stream",
     "text": [
      "(<Model iJN678 at 0x1fad676fee0>, {'SBML_FATAL': [], 'SBML_ERROR': [], 'SBML_SCHEMA_ERROR': [], 'SBML_WARNING': [], 'COBRA_FATAL': [], 'COBRA_ERROR': [], 'COBRA_WARNING': [], 'COBRA_CHECK': []})\n"
     ]
    }
   ],
   "source": [
    "from cobra.io import write_sbml_model, validate_sbml_model\n",
    "write_sbml_model(model, filename='iJN678mod.xml')\n",
    "report = validate_sbml_model(filename='iJN678mod.xml')\n",
    "\n",
    "print(report)"
   ]
  },
  {
   "cell_type": "code",
   "execution_count": null,
   "id": "980d4039-886f-43ad-9e4c-e7ac1a48bc0a",
   "metadata": {},
   "outputs": [],
   "source": []
  }
 ],
 "metadata": {
  "kernelspec": {
   "display_name": "Python 3 (ipykernel)",
   "language": "python",
   "name": "python3"
  },
  "language_info": {
   "codemirror_mode": {
    "name": "ipython",
    "version": 3
   },
   "file_extension": ".py",
   "mimetype": "text/x-python",
   "name": "python",
   "nbconvert_exporter": "python",
   "pygments_lexer": "ipython3",
   "version": "3.9.12"
  }
 },
 "nbformat": 4,
 "nbformat_minor": 5
}
