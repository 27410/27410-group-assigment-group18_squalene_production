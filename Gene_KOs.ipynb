{
 "cells": [
  {
   "cell_type": "code",
   "execution_count": 75,
   "metadata": {},
   "outputs": [],
   "source": [
    "# Remove \"#\" from the code lines below \"Packages\" and \"Model input\" to run the file,\n",
    "# but remember to add them after as for the \"Maximum yield\" file to run, this section\n",
    "# needs to be commented out.\n",
    "\n",
    "# Packages\n",
    "#import cobra\n",
    "#from cobra.io import read_sbml_model, load_model\n",
    "#from cobra import Model, Reaction, Metabolite\n",
    "\n",
    "# Model input\n",
    "#model = read_sbml_model('iJN678mva.xml')"
   ]
  },
  {
   "cell_type": "markdown",
   "metadata": {},
   "source": [
    "# Squalene (SQL) reactions"
   ]
  },
  {
   "cell_type": "code",
   "execution_count": 76,
   "metadata": {},
   "outputs": [
    {
     "data": {
      "text/plain": [
       "frozenset({<Reaction DM_sql_c at 0x7f6df8e3fb50>,\n",
       "           <Reaction R_MVA8 at 0x7f6dfbfd9910>,\n",
       "           <Reaction SQLC2 at 0x7f6dfb599250>,\n",
       "           <Reaction SQLC at 0x7f6dfb57a1c0>,\n",
       "           <Reaction SQLS at 0x7f6df8e94a90>})"
      ]
     },
     "execution_count": 76,
     "metadata": {},
     "output_type": "execute_result"
    }
   ],
   "source": [
    "# Finding reactions related with squalene (SQL)\n",
    "sql_rxns = model.metabolites.get_by_id('sql_c').reactions\n",
    "sql_rxns"
   ]
  },
  {
   "cell_type": "code",
   "execution_count": 77,
   "metadata": {
    "scrolled": true
   },
   "outputs": [
    {
     "name": "stdout",
     "output_type": "stream",
     "text": [
      "------------------\n",
      "Squalene reactions\n",
      "------------------\n",
      "R_MVA8 : h_c + nadph_c + psql_c --> nadp_c + ppi_c + sql_c\n",
      "SQLC2 : h2o_c + sql_c --> dpterol_c\n",
      "DM_sql_c : sql_c --> \n",
      "SQLS : 2.0 frdp_c + h_c + nadph_c --> nadp_c + 2.0 ppi_c + sql_c\n",
      "SQLC : sql_c --> dptne_c\n"
     ]
    }
   ],
   "source": [
    "# Iterate through the the objects in the model to observe the reactions\n",
    "print(\"------------------\")\n",
    "print(\"Squalene reactions\")\n",
    "print(\"------------------\")\n",
    "for x in sql_rxns:\n",
    "    print(\"%s : %s\" % (x.id, x.reaction))"
   ]
  },
  {
   "cell_type": "markdown",
   "metadata": {},
   "source": [
    "# Farnesyl diphospate (FPP) reactions"
   ]
  },
  {
   "cell_type": "code",
   "execution_count": 78,
   "metadata": {
    "scrolled": false
   },
   "outputs": [
    {
     "data": {
      "text/plain": [
       "frozenset({<Reaction DM_frdp_c at 0x7f6dfa4dcd90>,\n",
       "           <Reaction DPPS at 0x7f6df9117b50>,\n",
       "           <Reaction FRTT at 0x7f6df92e7f10>,\n",
       "           <Reaction GRTT at 0x7f6df92e7c70>,\n",
       "           <Reaction HEMEOS at 0x7f6df92ffa30>,\n",
       "           <Reaction R_MVA6 at 0x7f6dfa4dc400>,\n",
       "           <Reaction R_MVA7 at 0x7f6dfbfd9fd0>,\n",
       "           <Reaction SQLS at 0x7f6df8e94a90>})"
      ]
     },
     "execution_count": 78,
     "metadata": {},
     "output_type": "execute_result"
    }
   ],
   "source": [
    "# Finding reactions related with farnesyl diphosphate (FPP)\n",
    "frdp_rxns = model.metabolites.get_by_id('frdp_c').reactions\n",
    "frdp_rxns"
   ]
  },
  {
   "cell_type": "code",
   "execution_count": 79,
   "metadata": {
    "scrolled": true
   },
   "outputs": [
    {
     "name": "stdout",
     "output_type": "stream",
     "text": [
      "------------------------------\n",
      "Farnesyl diphosphate Reactions\n",
      "------------------------------\n",
      "R_MVA6 : grdp_c + ipdp_c --> frdp_c + ppi_c\n",
      "HEMEOS : frdp_c + h2o_c + pheme_c --> hemeO_c + ppi_c\n",
      "GRTT : grdp_c + ipdp_c --> frdp_c + ppi_c\n",
      "SQLS : 2.0 frdp_c + h_c + nadph_c --> nadp_c + 2.0 ppi_c + sql_c\n",
      "FRTT : frdp_c + ipdp_c --> ggdp_c + ppi_c\n",
      "DPPS : frdp_c + 7.0 ipdp_c --> decdp_c + 7.0 ppi_c\n",
      "DM_frdp_c : frdp_c --> \n",
      "R_MVA7 : frdp_c --> ppi_c + psql_c\n"
     ]
    }
   ],
   "source": [
    "# Iterate through the the objects in the model to observe the reactions\n",
    "print(\"------------------------------\")\n",
    "print(\"Farnesyl diphosphate Reactions\")\n",
    "print(\"------------------------------\")\n",
    "for x in frdp_rxns:\n",
    "    print(\"%s : %s\" % (x.id, x.reaction))"
   ]
  },
  {
   "cell_type": "markdown",
   "metadata": {},
   "source": [
    "# Finding the genes of the reactions that consume the SQL and FPP"
   ]
  },
  {
   "cell_type": "code",
   "execution_count": 80,
   "metadata": {
    "scrolled": false
   },
   "outputs": [
    {
     "data": {
      "text/html": [
       "\n",
       "        <table>\n",
       "            <tr>\n",
       "                <td><strong>Reaction identifier</strong></td><td>FRTT</td>\n",
       "            </tr><tr>\n",
       "                <td><strong>Name</strong></td><td>Farnesyltranstransferase</td>\n",
       "            </tr><tr>\n",
       "                <td><strong>Memory address</strong></td>\n",
       "                <td>0x7f6df92e7f10</td>\n",
       "            </tr><tr>\n",
       "                <td><strong>Stoichiometry</strong></td>\n",
       "                <td>\n",
       "                    <p style='text-align:right'>frdp_c + ipdp_c --> ggdp_c + ppi_c</p>\n",
       "                    <p style='text-align:right'>Farnesyl diphosphate + Isopentenyl diphosphate --> Geranylgeranyl diphosphate C20H33O7P2 + Diphosphate</p>\n",
       "                </td>\n",
       "            </tr><tr>\n",
       "                <td><strong>GPR</strong></td><td>crtE</td>\n",
       "            </tr><tr>\n",
       "                <td><strong>Lower bound</strong></td><td>0.0</td>\n",
       "            </tr><tr>\n",
       "                <td><strong>Upper bound</strong></td><td>1000.0</td>\n",
       "            </tr>\n",
       "        </table>\n",
       "        "
      ],
      "text/plain": [
       "<Reaction FRTT at 0x7f6df92e7f10>"
      ]
     },
     "execution_count": 80,
     "metadata": {},
     "output_type": "execute_result"
    }
   ],
   "source": [
    "# Get the GPR code for gene deletion\n",
    "model.reactions.get_by_id(\"FRTT\")\n",
    "\n",
    "# Realize that the upper bound value shows the gene being active.\n",
    "# After knockout, all bounds are expected to be zero in order to\n",
    "# confirm a successful knockout."
   ]
  },
  {
   "cell_type": "code",
   "execution_count": 81,
   "metadata": {},
   "outputs": [
    {
     "data": {
      "text/html": [
       "\n",
       "        <table>\n",
       "            <tr>\n",
       "                <td><strong>Reaction identifier</strong></td><td>SQLC</td>\n",
       "            </tr><tr>\n",
       "                <td><strong>Name</strong></td><td>Squalene mutase (cyclizing)</td>\n",
       "            </tr><tr>\n",
       "                <td><strong>Memory address</strong></td>\n",
       "                <td>0x7f6dfb57a1c0</td>\n",
       "            </tr><tr>\n",
       "                <td><strong>Stoichiometry</strong></td>\n",
       "                <td>\n",
       "                    <p style='text-align:right'>sql_c --> dptne_c</p>\n",
       "                    <p style='text-align:right'>Squalene C30H50 --> Diploptene</p>\n",
       "                </td>\n",
       "            </tr><tr>\n",
       "                <td><strong>GPR</strong></td><td>shc</td>\n",
       "            </tr><tr>\n",
       "                <td><strong>Lower bound</strong></td><td>0.0</td>\n",
       "            </tr><tr>\n",
       "                <td><strong>Upper bound</strong></td><td>1000.0</td>\n",
       "            </tr>\n",
       "        </table>\n",
       "        "
      ],
      "text/plain": [
       "<Reaction SQLC at 0x7f6dfb57a1c0>"
      ]
     },
     "execution_count": 81,
     "metadata": {},
     "output_type": "execute_result"
    }
   ],
   "source": [
    "# Get the GPR code for gene deletion\n",
    "model.reactions.get_by_id(\"SQLC\")\n",
    "\n",
    "# Realize that the upper bound value shows the gene being active.\n",
    "# After knockout, all bounds are expected to be zero in order to\n",
    "# confirm a successful knockout."
   ]
  },
  {
   "cell_type": "code",
   "execution_count": 82,
   "metadata": {
    "scrolled": true
   },
   "outputs": [
    {
     "name": "stdout",
     "output_type": "stream",
     "text": [
      "---------------------\n",
      "Gene knockout targets\n",
      "---------------------\n",
      "[<Reaction FRTT at 0x7f6df92e7f10>, <Reaction DMATT at 0x7f6df8ff3fd0>]\n",
      "[<Reaction SQLC at 0x7f6dfb57a1c0>, <Reaction SQLC2 at 0x7f6dfb599250>]\n"
     ]
    }
   ],
   "source": [
    "# Target and knock-out (KO) byproduct reactions\n",
    "#Gene KO\n",
    "print('---------------------')\n",
    "print('Gene knockout targets')\n",
    "print('---------------------')\n",
    "print(cobra.manipulation.knock_out_model_genes(model, [\"crtE\"]))\n",
    "print(cobra.manipulation.knock_out_model_genes(model, [\"shc\"]))"
   ]
  },
  {
   "cell_type": "code",
   "execution_count": 83,
   "metadata": {
    "scrolled": true
   },
   "outputs": [
    {
     "data": {
      "text/html": [
       "\n",
       "        <table>\n",
       "            <tr>\n",
       "                <td><strong>Reaction identifier</strong></td><td>FRTT</td>\n",
       "            </tr><tr>\n",
       "                <td><strong>Name</strong></td><td>Farnesyltranstransferase</td>\n",
       "            </tr><tr>\n",
       "                <td><strong>Memory address</strong></td>\n",
       "                <td>0x7f6df92e7f10</td>\n",
       "            </tr><tr>\n",
       "                <td><strong>Stoichiometry</strong></td>\n",
       "                <td>\n",
       "                    <p style='text-align:right'>frdp_c + ipdp_c --> ggdp_c + ppi_c</p>\n",
       "                    <p style='text-align:right'>Farnesyl diphosphate + Isopentenyl diphosphate --> Geranylgeranyl diphosphate C20H33O7P2 + Diphosphate</p>\n",
       "                </td>\n",
       "            </tr><tr>\n",
       "                <td><strong>GPR</strong></td><td>crtE</td>\n",
       "            </tr><tr>\n",
       "                <td><strong>Lower bound</strong></td><td>0</td>\n",
       "            </tr><tr>\n",
       "                <td><strong>Upper bound</strong></td><td>0</td>\n",
       "            </tr>\n",
       "        </table>\n",
       "        "
      ],
      "text/plain": [
       "<Reaction FRTT at 0x7f6df92e7f10>"
      ]
     },
     "execution_count": 83,
     "metadata": {},
     "output_type": "execute_result"
    }
   ],
   "source": [
    "# Conforming knockout (no reaction bounds)\n",
    "model.reactions.get_by_id(\"FRTT\")"
   ]
  },
  {
   "cell_type": "code",
   "execution_count": 84,
   "metadata": {},
   "outputs": [
    {
     "data": {
      "text/html": [
       "\n",
       "        <table>\n",
       "            <tr>\n",
       "                <td><strong>Reaction identifier</strong></td><td>SQLC</td>\n",
       "            </tr><tr>\n",
       "                <td><strong>Name</strong></td><td>Squalene mutase (cyclizing)</td>\n",
       "            </tr><tr>\n",
       "                <td><strong>Memory address</strong></td>\n",
       "                <td>0x7f6dfb57a1c0</td>\n",
       "            </tr><tr>\n",
       "                <td><strong>Stoichiometry</strong></td>\n",
       "                <td>\n",
       "                    <p style='text-align:right'>sql_c --> dptne_c</p>\n",
       "                    <p style='text-align:right'>Squalene C30H50 --> Diploptene</p>\n",
       "                </td>\n",
       "            </tr><tr>\n",
       "                <td><strong>GPR</strong></td><td>shc</td>\n",
       "            </tr><tr>\n",
       "                <td><strong>Lower bound</strong></td><td>0</td>\n",
       "            </tr><tr>\n",
       "                <td><strong>Upper bound</strong></td><td>0</td>\n",
       "            </tr>\n",
       "        </table>\n",
       "        "
      ],
      "text/plain": [
       "<Reaction SQLC at 0x7f6dfb57a1c0>"
      ]
     },
     "execution_count": 84,
     "metadata": {},
     "output_type": "execute_result"
    }
   ],
   "source": [
    "# Conforming knockout (no reaction bounds)\n",
    "model.reactions.get_by_id(\"SQLC\")"
   ]
  }
 ],
 "metadata": {
  "kernelspec": {
   "display_name": "Python 3 (ipykernel)",
   "language": "python",
   "name": "python3"
  },
  "language_info": {
   "codemirror_mode": {
    "name": "ipython",
    "version": 3
   },
   "file_extension": ".py",
   "mimetype": "text/x-python",
   "name": "python",
   "nbconvert_exporter": "python",
   "pygments_lexer": "ipython3",
   "version": "3.8.10"
  }
 },
 "nbformat": 4,
 "nbformat_minor": 4
}
