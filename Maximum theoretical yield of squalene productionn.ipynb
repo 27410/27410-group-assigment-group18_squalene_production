{
 "cells": [
  {
   "cell_type": "code",
   "execution_count": 24,
   "id": "4b52bc8b",
   "metadata": {},
   "outputs": [],
   "source": [
    "# Packages\n",
    "import cobra",
    "from cobra.io import read_sbml_model"
   ]
  },
  {
   "cell_type": "code",
   "execution_count": 25,
   "id": "ac8cfc60",
   "metadata": {},
   "outputs": [],
   "source": [
    "# Input model\n",
    "model=read_sbml_model('iJN678mva.xml')"
   ]
  },
  {
   "cell_type": "code",
   "execution_count": 26,
   "id": "283c3d12",
   "metadata": {
    "scrolled": false
   },
   "outputs": [
    {
     "name": "stdout",
     "output_type": "stream",
     "text": [
      "MVA pathway squalene production\n",
      "-------------------------------\n",
      "Number of reaction steps = 8\n",
      "Maximum productivity = 0.16726358148893355 mmol/gDW*h\n",
      "Maximum theoretical yield = 0.1967806841046277 mmol-sql/mmol-glc\n"
     ]
    }
   ],
   "source": [
    "# MVA pathway yield\n",
    "model.objective = model.reactions.R_MVA8 # 8 step reaction\n",
    "sql_production = model.optimize().objective_value\n",
    "maximum_yield = sql_production / (-1*(model.reactions.EX_glc__D_e.flux))\n",
    "\n",
    "print('MVA pathway squalene production')\n",
    "print('-------------------------------')\n",
    "print('Number of reaction steps = 8')\n",
    "print('Maximum productivity =', sql_production, 'mmol/gDW*h')\n",
    "print('Maximum theoretical yield =', maximum_yield, 'mmol-sql/mmol-glc')"
   ]
  },
  {
   "cell_type": "code",
   "execution_count": 27,
   "id": "5eb9f105",
   "metadata": {},
   "outputs": [
    {
     "data": {
      "text/plain": [
       "ADOCBLS       4.178247e-17\n",
       "CDPMEK        1.254477e-01\n",
       "ACACT1r       5.436066e-01\n",
       "CYPHYC       -1.520864e-17\n",
       "ACBIPGT       4.178247e-17\n",
       "                  ...     \n",
       "DM_mvapp_c    1.672636e-01\n",
       "R_MVA5        3.763431e-01\n",
       "R_MVA7        1.672636e-01\n",
       "R_MVA8        1.672636e-01\n",
       "DM_sql_c      1.672636e-01\n",
       "Name: fluxes, Length: 130, dtype: float64"
      ]
     },
     "execution_count": 27,
     "metadata": {},
     "output_type": "execute_result"
    }
   ],
   "source": [
    "solution = model.optimize()\n",
    "solution.fluxes[solution.fluxes !=0.]"
   ]
  },
  {
   "cell_type": "code",
   "execution_count": 28,
   "id": "b17e7282",
   "metadata": {
    "scrolled": true
   },
   "outputs": [
    {
     "name": "stdout",
     "output_type": "stream",
     "text": [
      "MEP pathway squalene production after HE of MVA pathway\n",
      "-------------------------------------------------------\n",
      "Numbe of reaction steps = 10\n",
      "Maximum productivity = 0.11155394524959737 mmol/gDW*h\n",
      "Maximum theoretical yield = 0.13123993558776162 mmol-sql/mmol-glc\n"
     ]
    }
   ],
   "source": [
    "# MEP pathway yield after HE of MVA pathway\n",
    "model.objective = model.reactions.SQLS  # 10 step reaction\n",
    "sql_production = model.optimize().objective_value\n",
    "maximum_yield = sql_production / (-1*(model.reactions.EX_glc__D_e.flux))\n",
    "\n",
    "print('MEP pathway squalene production after HE of MVA pathway')\n",
    "print('-------------------------------------------------------')\n",
    "print('Numbe of reaction steps = 10')\n",
    "print('Maximum productivity =', sql_production, 'mmol/gDW*h')\n",
    "print('Maximum theoretical yield =', maximum_yield, 'mmol-sql/mmol-glc')"
   ]
  },
  {
   "cell_type": "code",
   "execution_count": 29,
   "id": "55e9e160",
   "metadata": {},
   "outputs": [
    {
     "data": {
      "text/plain": [
       "ADOCBLS     5.882864e-17\n",
       "CDPMEK      1.394424e-01\n",
       "ACACT1r     5.298812e-01\n",
       "CYPHYC     -4.691028e-19\n",
       "ACBIPGT     5.882864e-17\n",
       "                ...     \n",
       "R_MVA3      5.298812e-01\n",
       "R_MVA4      5.298812e-01\n",
       "R_MVA5      5.298812e-01\n",
       "R_MVA7      5.551115e-17\n",
       "DM_sql_c    1.115539e-01\n",
       "Name: fluxes, Length: 124, dtype: float64"
      ]
     },
     "execution_count": 29,
     "metadata": {},
     "output_type": "execute_result"
    }
   ],
   "source": [
    "# Flux balance analysis (FBA)\n",
    "solution = model.optimize()\n",
    "solution.fluxes[solution.fluxes !=0.]"
   ]
  },
  {
   "cell_type": "code",
   "execution_count": 30,
   "id": "b59aea52",
   "metadata": {},
   "outputs": [
    {
     "name": "stdout",
     "output_type": "stream",
     "text": [
      "------------------\n",
      "Squalene reactions\n",
      "------------------\n",
      "SQLC2 : h2o_c + sql_c --> dpterol_c\n",
      "R_MVA8 : h_c + nadph_c + psql_c --> nadp_c + ppi_c + sql_c\n",
      "SQLC : sql_c --> dptne_c\n",
      "DM_sql_c : sql_c --> \n",
      "SQLS : 2.0 frdp_c + h_c + nadph_c --> nadp_c + 2.0 ppi_c + sql_c\n",
      "------------------------------\n",
      "Farnesyl diphosphate Reactions\n",
      "------------------------------\n",
      "GRTT : grdp_c + ipdp_c --> frdp_c + ppi_c\n",
      "FRTT : frdp_c + ipdp_c --> ggdp_c + ppi_c\n",
      "SQLS : 2.0 frdp_c + h_c + nadph_c --> nadp_c + 2.0 ppi_c + sql_c\n",
      "R_MVA6 : grdp_c + ipdp_c --> frdp_c + ppi_c\n",
      "DM_frdp_c : frdp_c --> \n",
      "HEMEOS : frdp_c + h2o_c + pheme_c --> hemeO_c + ppi_c\n",
      "DPPS : frdp_c + 7.0 ipdp_c --> decdp_c + 7.0 ppi_c\n",
      "R_MVA7 : frdp_c --> ppi_c + psql_c\n",
      "---------------------\n",
      "Gene knockout targets\n",
      "---------------------\n"
     ]
    },
    {
     "ename": "NameError",
     "evalue": "name 'cobra' is not defined",
     "output_type": "error",
     "traceback": [
      "\u001b[0;31m---------------------------------------------------------------------------\u001b[0m",
      "\u001b[0;31mNameError\u001b[0m                                 Traceback (most recent call last)",
      "\u001b[0;32m~/CACFD/g18-project/Gene_KOs.ipynb\u001b[0m in \u001b[0;36m<module>\u001b[0;34m\u001b[0m\n\u001b[1;32m      4\u001b[0m \u001b[0mprint\u001b[0m\u001b[0;34m(\u001b[0m\u001b[0;34m'Gene knockout targets'\u001b[0m\u001b[0;34m)\u001b[0m\u001b[0;34m\u001b[0m\u001b[0;34m\u001b[0m\u001b[0m\n\u001b[1;32m      5\u001b[0m \u001b[0mprint\u001b[0m\u001b[0;34m(\u001b[0m\u001b[0;34m'---------------------'\u001b[0m\u001b[0;34m)\u001b[0m\u001b[0;34m\u001b[0m\u001b[0;34m\u001b[0m\u001b[0m\n\u001b[0;32m----> 6\u001b[0;31m \u001b[0mprint\u001b[0m\u001b[0;34m(\u001b[0m\u001b[0mcobra\u001b[0m\u001b[0;34m.\u001b[0m\u001b[0mmanipulation\u001b[0m\u001b[0;34m.\u001b[0m\u001b[0mknock_out_model_genes\u001b[0m\u001b[0;34m(\u001b[0m\u001b[0mmodel\u001b[0m\u001b[0;34m,\u001b[0m \u001b[0;34m[\u001b[0m\u001b[0;34m\"crtE\"\u001b[0m\u001b[0;34m]\u001b[0m\u001b[0;34m)\u001b[0m\u001b[0;34m)\u001b[0m\u001b[0;34m\u001b[0m\u001b[0;34m\u001b[0m\u001b[0m\n\u001b[0m\u001b[1;32m      7\u001b[0m \u001b[0mprint\u001b[0m\u001b[0;34m(\u001b[0m\u001b[0mcobra\u001b[0m\u001b[0;34m.\u001b[0m\u001b[0mmanipulation\u001b[0m\u001b[0;34m.\u001b[0m\u001b[0mknock_out_model_genes\u001b[0m\u001b[0;34m(\u001b[0m\u001b[0mmodel\u001b[0m\u001b[0;34m,\u001b[0m \u001b[0;34m[\u001b[0m\u001b[0;34m\"shc\"\u001b[0m\u001b[0;34m]\u001b[0m\u001b[0;34m)\u001b[0m\u001b[0;34m)\u001b[0m\u001b[0;34m\u001b[0m\u001b[0;34m\u001b[0m\u001b[0m\n",
      "\u001b[0;31mNameError\u001b[0m: name 'cobra' is not defined"
     ]
    }
   ],
   "source": [
    "# Add knock-outs to the model\n",
    "%run Gene_KOs.ipynb"
   ]
  },
  {
   "cell_type": "code",
   "execution_count": 31,
   "id": "2d4f2a6a",
   "metadata": {},
   "outputs": [
    {
     "name": "stdout",
     "output_type": "stream",
     "text": [
      "MVA pathway squalene production after 2 KO\n",
      "------------------------------------------\n",
      "Number of reaction steps = 8\n",
      "Maximum productivity = 0.1672635814889335 mmol/gDW*h\n",
      "Maximum theoretical yield = 0.19678068410462765 mmol-sql/mmol-glc\n"
     ]
    }
   ],
   "source": [
    "# MVA pathway yield\n",
    "model.objective = model.reactions.R_MVA8 # 8 step reaction\n",
    "sql_production = model.optimize().objective_value\n",
    "maximum_yield = sql_production / (-1*(model.reactions.EX_glc__D_e.flux))\n",
    "\n",
    "print('MVA pathway squalene production after 2 KO')\n",
    "print('------------------------------------------')\n",
    "print('Number of reaction steps = 8')\n",
    "print('Maximum productivity =', sql_production, 'mmol/gDW*h')\n",
    "print('Maximum theoretical yield =', maximum_yield, 'mmol-sql/mmol-glc')"
   ]
  },
  {
   "cell_type": "code",
   "execution_count": 32,
   "id": "be9c03f1",
   "metadata": {},
   "outputs": [
    {
     "data": {
      "text/plain": [
       "ADOCBLS       4.178247e-17\n",
       "CDPMEK        1.254477e-01\n",
       "ALCD19        5.992681e-18\n",
       "ATPPRT        5.102954e-17\n",
       "ACACT1r       5.436066e-01\n",
       "                  ...     \n",
       "DM_mvapp_c    1.672636e-01\n",
       "R_MVA5        3.763431e-01\n",
       "R_MVA7        1.672636e-01\n",
       "R_MVA8        1.672636e-01\n",
       "DM_sql_c      1.672636e-01\n",
       "Name: fluxes, Length: 171, dtype: float64"
      ]
     },
     "execution_count": 32,
     "metadata": {},
     "output_type": "execute_result"
    }
   ],
   "source": [
    "# Flux balance analysis (FBA)\n",
    "solution = model.optimize()\n",
    "solution.fluxes[solution.fluxes !=0.]"
   ]
  },
  {
   "cell_type": "code",
   "execution_count": 33,
   "id": "6b1bb3a4",
   "metadata": {},
   "outputs": [
    {
     "name": "stdout",
     "output_type": "stream",
     "text": [
      "MEP pathway squalene production after 2 KO & HE of MVA pathway\n",
      "--------------------------------------------------------------\n",
      "Numbe of reaction steps = 10\n",
      "Maximum productivity = 0.11155394524959743 mmol/gDW*h\n",
      "Maximum theoretical yield = 0.13123993558776167 mmol-sql/mmol-glc\n"
     ]
    }
   ],
   "source": [
    "# MEP pathway yield after HE of MVA pathway\n",
    "model.objective = model.reactions.SQLS  # 10 step reaction\n",
    "sql_production = model.optimize().objective_value\n",
    "maximum_yield = sql_production / (-1*(model.reactions.EX_glc__D_e.flux))\n",
    "\n",
    "print('MEP pathway squalene production after 2 KO & HE of MVA pathway')\n",
    "print('--------------------------------------------------------------')\n",
    "print('Numbe of reaction steps = 10')\n",
    "print('Maximum productivity =', sql_production, 'mmol/gDW*h')\n",
    "print('Maximum theoretical yield =', maximum_yield, 'mmol-sql/mmol-glc')"
   ]
  },
  {
   "cell_type": "code",
   "execution_count": 34,
   "id": "7f090e73",
   "metadata": {
    "scrolled": false
   },
   "outputs": [
    {
     "data": {
      "text/plain": [
       "CDPMEK      1.394424e-01\n",
       "ACACT1r     5.298812e-01\n",
       "CYRDAR      1.153349e-17\n",
       "ADCPS1      2.306697e-17\n",
       "CHPHYS      3.330669e-16\n",
       "                ...     \n",
       "R_MVA2      5.298812e-01\n",
       "R_MVA3      5.298812e-01\n",
       "R_MVA4      5.298812e-01\n",
       "R_MVA5      5.298812e-01\n",
       "DM_sql_c    1.115539e-01\n",
       "Name: fluxes, Length: 79, dtype: float64"
      ]
     },
     "execution_count": 34,
     "metadata": {},
     "output_type": "execute_result"
    }
   ],
   "source": [
    "# Flux balance analysis (FBA)\n",
    "solution = model.optimize()\n",
    "solution.fluxes[solution.fluxes !=0.]"
   ]
  }
 ],
 "metadata": {
  "kernelspec": {
   "display_name": "Python 3 (ipykernel)",
   "language": "python",
   "name": "python3"
  },
  "language_info": {
   "codemirror_mode": {
    "name": "ipython",
    "version": 3
   },
   "file_extension": ".py",
   "mimetype": "text/x-python",
   "name": "python",
   "nbconvert_exporter": "python",
   "pygments_lexer": "ipython3",
   "version": "3.8.10"
  }
 },
 "nbformat": 4,
 "nbformat_minor": 5
}
