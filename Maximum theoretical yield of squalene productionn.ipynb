{
 "cells": [
  {
   "cell_type": "code",
   "execution_count": 1,
   "id": "22af845b",
   "metadata": {},
   "outputs": [],
   "source": [
    "# Packages\n",
    "import cobra\n",
    "from cobra.io import read_sbml_model"
   ]
  },
  {
   "cell_type": "code",
   "execution_count": 2,
   "id": "53fd4efe",
   "metadata": {},
   "outputs": [],
   "source": [
    "# Input model\n",
    "model=read_sbml_model('iJN678mva.xml')"
   ]
  },
  {
   "cell_type": "code",
   "execution_count": 3,
   "id": "fbb0935d",
   "metadata": {},
   "outputs": [
    {
     "name": "stdout",
     "output_type": "stream",
     "text": [
      "MVA pathway squalene production\n",
      "-------------------------------\n",
      "Number of reaction steps = 8\n",
      "Maximum productivity = 0.16726358148893355 mmol/gDW*h\n",
      "Maximum theoretical yield = 0.1967806841046277 mmol-sql/mmol-glc\n"
     ]
    }
   ],
   "source": [
    "# MVA pathway yield\n",
    "model.objective = model.reactions.R_MVA8 # 8 step reaction\n",
    "sql_production = model.optimize().objective_value\n",
    "maximum_yield = sql_production / (-1*(model.reactions.EX_glc__D_e.flux))\n",
    "\n",
    "print('MVA pathway squalene production')\n",
    "print('-------------------------------')\n",
    "print('Number of reaction steps = 8')\n",
    "print('Maximum productivity =', sql_production, 'mmol/gDW*h')\n",
    "print('Maximum theoretical yield =', maximum_yield, 'mmol-sql/mmol-glc')"
   ]
  },
  {
   "cell_type": "code",
   "execution_count": 4,
   "id": "f223a7e1",
   "metadata": {},
   "outputs": [
    {
     "data": {
      "text/plain": [
       "ADOCBLS       4.178247e-17\n",
       "CDPMEK        1.254477e-01\n",
       "ACACT1r       5.436066e-01\n",
       "CYPHYC       -1.520864e-17\n",
       "ACBIPGT       4.178247e-17\n",
       "                  ...     \n",
       "DM_mvapp_c    1.672636e-01\n",
       "R_MVA5        3.763431e-01\n",
       "R_MVA7        1.672636e-01\n",
       "R_MVA8        1.672636e-01\n",
       "DM_sql_c      1.672636e-01\n",
       "Name: fluxes, Length: 130, dtype: float64"
      ]
     },
     "execution_count": 4,
     "metadata": {},
     "output_type": "execute_result"
    }
   ],
   "source": [
    "solution = model.optimize()\n",
    "solution.fluxes[solution.fluxes !=0.]"
   ]
  },
  {
   "cell_type": "code",
   "execution_count": 5,
   "id": "8d9123fa",
   "metadata": {
    "scrolled": true
   },
   "outputs": [
    {
     "name": "stdout",
     "output_type": "stream",
     "text": [
      "MEP pathway squalene production after HE of MVA pathway\n",
      "-------------------------------------------------------\n",
      "Numbe of reaction steps = 10\n",
      "Maximum productivity = 0.11155394524959737 mmol/gDW*h\n",
      "Maximum theoretical yield = 0.13123993558776162 mmol-sql/mmol-glc\n"
     ]
    }
   ],
   "source": [
    "# MEP pathway yield after HE of MVA pathway\n",
    "model.objective = model.reactions.SQLS  # 10 step reaction\n",
    "sql_production = model.optimize().objective_value\n",
    "maximum_yield = sql_production / (-1*(model.reactions.EX_glc__D_e.flux))\n",
    "\n",
    "print('MEP pathway squalene production after HE of MVA pathway')\n",
    "print('-------------------------------------------------------')\n",
    "print('Numbe of reaction steps = 10')\n",
    "print('Maximum productivity =', sql_production, 'mmol/gDW*h')\n",
    "print('Maximum theoretical yield =', maximum_yield, 'mmol-sql/mmol-glc')"
   ]
  },
  {
   "cell_type": "code",
   "execution_count": 6,
   "id": "146e6eaf",
   "metadata": {},
   "outputs": [
    {
     "data": {
      "text/plain": [
       "ADOCBLS     5.882864e-17\n",
       "CDPMEK      1.394424e-01\n",
       "ACACT1r     5.298812e-01\n",
       "CYPHYC     -4.691028e-19\n",
       "ACBIPGT     5.882864e-17\n",
       "                ...     \n",
       "R_MVA3      5.298812e-01\n",
       "R_MVA4      5.298812e-01\n",
       "R_MVA5      5.298812e-01\n",
       "R_MVA7      5.551115e-17\n",
       "DM_sql_c    1.115539e-01\n",
       "Name: fluxes, Length: 124, dtype: float64"
      ]
     },
     "execution_count": 6,
     "metadata": {},
     "output_type": "execute_result"
    }
   ],
   "source": [
    "# Flux balance analysis (FBA)\n",
    "solution = model.optimize()\n",
    "solution.fluxes[solution.fluxes !=0.]"
   ]
  },
  {
   "cell_type": "code",
   "execution_count": 7,
   "id": "44474852",
   "metadata": {},
   "outputs": [
    {
     "name": "stdout",
     "output_type": "stream",
     "text": [
      "------------------\n",
      "Squalene reactions\n",
      "------------------\n",
      "SQLC : sql_c --> dptne_c\n",
      "SQLS : 2.0 frdp_c + h_c + nadph_c --> nadp_c + 2.0 ppi_c + sql_c\n",
      "SQLC2 : h2o_c + sql_c --> dpterol_c\n",
      "DM_sql_c : sql_c --> \n",
      "R_MVA8 : h_c + nadph_c + psql_c --> nadp_c + ppi_c + sql_c\n",
      "------------------------------\n",
      "Farnesyl diphosphate Reactions\n",
      "------------------------------\n",
      "FRTT : frdp_c + ipdp_c --> ggdp_c + ppi_c\n",
      "HEMEOS : frdp_c + h2o_c + pheme_c --> hemeO_c + ppi_c\n",
      "DM_frdp_c : frdp_c --> \n",
      "R_MVA7 : frdp_c --> ppi_c + psql_c\n",
      "GRTT : grdp_c + ipdp_c --> frdp_c + ppi_c\n",
      "DPPS : frdp_c + 7.0 ipdp_c --> decdp_c + 7.0 ppi_c\n",
      "SQLS : 2.0 frdp_c + h_c + nadph_c --> nadp_c + 2.0 ppi_c + sql_c\n",
      "R_MVA6 : grdp_c + ipdp_c --> frdp_c + ppi_c\n",
      "---------------------\n",
      "Gene knockout targets\n",
      "---------------------\n",
      "[<Reaction FRTT at 0x7fd1f8a76820>, <Reaction DMATT at 0x7fd1f86bb7f0>]\n",
      "[<Reaction SQLC at 0x7fd1f84bfa00>, <Reaction SQLC2 at 0x7fd1f84d2940>]\n"
     ]
    }
   ],
   "source": [
    "# Add knock-outs to the model\n",
    "%run Gene_KOs.ipynb"
   ]
  },
  {
   "cell_type": "code",
   "execution_count": 8,
   "id": "7cc3efc4",
   "metadata": {},
   "outputs": [
    {
     "name": "stdout",
     "output_type": "stream",
     "text": [
      "MVA pathway squalene production after 2 KO\n",
      "------------------------------------------\n",
      "Number of reaction steps = 8\n",
      "Maximum productivity = 2.220446049250313e-16 mmol/gDW*h\n",
      "Maximum theoretical yield = 2.612289469706251e-16 mmol-sql/mmol-glc\n"
     ]
    }
   ],
   "source": [
    "# MVA pathway yield after KOs\n",
    "model.objective = model.reactions.R_MVA8 # 8 step reaction\n",
    "sql_production = model.optimize().objective_value\n",
    "maximum_yield = sql_production / (-1*(model.reactions.EX_glc__D_e.flux))\n",
    "\n",
    "print('MVA pathway squalene production after 2 KO')\n",
    "print('------------------------------------------')\n",
    "print('Number of reaction steps = 8')\n",
    "print('Maximum productivity =', sql_production, 'mmol/gDW*h')\n",
    "print('Maximum theoretical yield =', maximum_yield, 'mmol-sql/mmol-glc')"
   ]
  },
  {
   "cell_type": "code",
   "execution_count": 9,
   "id": "f988f1ef",
   "metadata": {},
   "outputs": [
    {
     "data": {
      "text/plain": [
       "3HAD180     -3.832098e-32\n",
       "3OAR100      9.965474e-34\n",
       "3OAR120      9.965474e-34\n",
       "3OAR140      9.965474e-34\n",
       "ACONT        2.627204e-02\n",
       "                 ...     \n",
       "DM_mva_c     6.305290e-01\n",
       "DM_ipdp_c   -1.405786e-15\n",
       "R_MVA7       2.220446e-16\n",
       "R_MVA8       2.220446e-16\n",
       "DM_sql_c     2.220446e-16\n",
       "Name: fluxes, Length: 337, dtype: float64"
      ]
     },
     "execution_count": 9,
     "metadata": {},
     "output_type": "execute_result"
    }
   ],
   "source": [
    "# Flux balance analysis (FBA)\n",
    "solution = model.optimize()\n",
    "solution.fluxes[solution.fluxes !=0.]"
   ]
  },
  {
   "cell_type": "code",
   "execution_count": 10,
   "id": "164f96ad",
   "metadata": {},
   "outputs": [
    {
     "name": "stdout",
     "output_type": "stream",
     "text": [
      "MEP pathway squalene production after 2 KO & HE of MVA pathway\n",
      "--------------------------------------------------------------\n",
      "Numbe of reaction steps = 10\n",
      "Maximum productivity = 1.9721522630525282e-31 mmol/gDW*h\n",
      "Maximum theoretical yield = 2.3201791330029742e-31 mmol-sql/mmol-glc\n"
     ]
    }
   ],
   "source": [
    "# MEP pathway yield after HE of MVA pathway + KOs\n",
    "model.objective = model.reactions.SQLS  # 10 step reaction\n",
    "sql_production = model.optimize().objective_value\n",
    "maximum_yield = sql_production / (-1*(model.reactions.EX_glc__D_e.flux))\n",
    "\n",
    "print('MEP pathway squalene production after 2 KO & HE of MVA pathway')\n",
    "print('--------------------------------------------------------------')\n",
    "print('Numbe of reaction steps = 10')\n",
    "print('Maximum productivity =', sql_production, 'mmol/gDW*h')\n",
    "print('Maximum theoretical yield =', maximum_yield, 'mmol-sql/mmol-glc')"
   ]
  },
  {
   "cell_type": "code",
   "execution_count": 34,
   "id": "2ffaa730",
   "metadata": {},
   "outputs": [
    {
     "data": {
      "text/plain": [
       "CDPMEK      1.394424e-01\n",
       "ACACT1r     5.298812e-01\n",
       "CYRDAR      1.153349e-17\n",
       "ADCPS1      2.306697e-17\n",
       "CHPHYS      3.330669e-16\n",
       "                ...     \n",
       "R_MVA2      5.298812e-01\n",
       "R_MVA3      5.298812e-01\n",
       "R_MVA4      5.298812e-01\n",
       "R_MVA5      5.298812e-01\n",
       "DM_sql_c    1.115539e-01\n",
       "Name: fluxes, Length: 79, dtype: float64"
      ]
     },
     "execution_count": 34,
     "metadata": {},
     "output_type": "execute_result"
    }
   ],
   "source": [
    "# Flux balance analysis (FBA)\n",
    "solution = model.optimize()\n",
    "solution.fluxes[solution.fluxes !=0.]"
   ]
  }
 ],
 "metadata": {
  "kernelspec": {
   "display_name": "Python 3 (ipykernel)",
   "language": "python",
   "name": "python3"
  },
  "language_info": {
   "codemirror_mode": {
    "name": "ipython",
    "version": 3
   },
   "file_extension": ".py",
   "mimetype": "text/x-python",
   "name": "python",
   "nbconvert_exporter": "python",
   "pygments_lexer": "ipython3",
   "version": "3.9.12"
  }
 },
 "nbformat": 4,
 "nbformat_minor": 5
}
